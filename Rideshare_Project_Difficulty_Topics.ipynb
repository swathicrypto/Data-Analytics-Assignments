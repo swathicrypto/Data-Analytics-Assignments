{
  "nbformat": 4,
  "nbformat_minor": 0,
  "metadata": {
    "colab": {
      "provenance": []
    },
    "kernelspec": {
      "name": "python3",
      "display_name": "Python 3"
    },
    "language_info": {
      "name": "python"
    }
  },
  "cells": [
    {
      "cell_type": "markdown",
      "source": [
        "# CIS 5450 Project: Difficulty Topics\n",
        "**Team Members:** *JOAN CONDRON, DINA ELOSEILY, SWATHI PRAKASH*\n"
      ],
      "metadata": {
        "id": "G7fXCyFHPr3X"
      }
    },
    {
      "cell_type": "markdown",
      "source": [
        "---\n",
        "\n",
        "## Topic: 1: **Feature engineering: use of other categorical encoding method**\n",
        "\n",
        "**Nominal Encoding Hyperlink: https://colab.research.google.com/drive/14AcV90BTqer4kuGBv0f-QcmjidOsEWkR#scrollTo=If1DWHqXl7yJ&line=2&uniqifier=1**\n",
        "\n",
        "**Oridinal Encoding Hyperlink: https://colab.research.google.com/drive/14AcV90BTqer4kuGBv0f-QcmjidOsEWkR#scrollTo=ib48xvDylq83&line=2&uniqifier=1**\n",
        "\n",
        "\n",
        "### Implementation & Rationale\n",
        "\n",
        "\n",
        "#### How did you implement this topic and why did you use it?\n",
        "\n",
        "Most of the variables in ourdataset were categorical variables and we needed to be able to express them numerically for the regression models. For the categorical variables with no order, OneHot encoding was used to express the variables numerically. These variables were  `source` (indicates the starting neighborhood in Boston), `destination` (indicates the ending neighborhood in Boston), `cab_type` (Uber vs Lyft),`short_summary`(few word description of the weather), and `icon`(one word indicator of the weather). One of the categorical variables of `name` had order to it since it was the product type (UberPool vs UberXL). UberXL is a more premium service than UberPool. Ordinal encoding was used in order to map the `name` to numbers to represent the product hierarchy."
      ],
      "metadata": {
        "id": "e1jBlYLxQcNV"
      }
    },
    {
      "cell_type": "markdown",
      "source": [
        "---\n",
        "\n",
        "## Topic: 2: **Other Visualization Packages**\n",
        "**Hyperlink: https://colab.research.google.com/drive/14AcV90BTqer4kuGBv0f-QcmjidOsEWkR#scrollTo=e2t22sB9Qacx&line=2&uniqifier=1**\n",
        "\n",
        "### Implementation & Rationale\n",
        "\n",
        "\n",
        "#### How did you implement this topic and why did you use it?\n",
        "\n",
        "We used Folium to create interactive maps that visualize the geographic distribution of rideshare activity in the Boston area. Specifically, we implemented two major visualizations:\n",
        "\n",
        "Heatmap:\n",
        "We cleaned and filtered the rideshare dataset to focus on relevant latitude and longitude ranges. We then extracted the coordinate data and used Folium’s HeatMap layer to visualize areas with higher concentrations of ride activity. The heatmap allowed us to quickly identify geographic hotspots where rideshare demand was densest. This method was chosen because it provides an intuitive, color-based representation of spatial intensity, which would not be as easily understood from static charts like scatter plots.\n",
        "\n",
        "Circle Markers:\n",
        "We also added individual circle markers for each rideshare trip using Folium’s Circle feature. By plotting each ride as a small circle, we uncovered an important observation about the dataset's coordinate features. By preserving the granularity of the data, showing not just clusters but the exact spatial spread of rides (or lack of spread in this case), we saw that the longitude and latitude features are not continuous, but rather catagorical variables. This view shows 12 single pinpoints that correspond to the boston neighborhoods from the source and destination catagories. This implementation uncovered that the longitude and latitude features of the dataset did not provide more information than the source and destination features do; further, this is an observation that may not have come so easily since longitude and latitude intuitively are continuous numeric values. This implementation was especially useful for highlighting this, which the heatmap alone obscures.\n",
        "\n",
        "We chose Folium because it excels at combining interactive mapping with layered visualizations, allowing users to zoom, pan, and explore the data dynamically. Static plots would not have captured the spatial relationships and clustering patterns as effectively."
      ],
      "metadata": {
        "id": "ZUfPpvutQyA3"
      }
    },
    {
      "cell_type": "markdown",
      "source": [
        "---\n",
        "\n",
        "## Topic: 3: **Ensemble Methods**\n",
        "**Hyperlink: [Random Forest](https://colab.research.google.com/drive/14AcV90BTqer4kuGBv0f-QcmjidOsEWkR#scrollTo=YGeZKDsvnc2c)**\n",
        "**, [XGBoost](https://colab.research.google.com/drive/14AcV90BTqer4kuGBv0f-QcmjidOsEWkR#scrollTo=x7IuGRXjnkwc)**\n",
        "\n",
        "\n",
        "### Implementation & Rationale\n",
        "\n",
        "\n",
        "#### How did you implement this topic and why did you use it?\n",
        "\n",
        "We implemented ensemble methods by using both Random Forest and XGBoost models to predict rideshare prices. Random Forest uses bagging - training multiple decision trees on different subsets of the data and averaging their outputs. XGBoost uses boosting - sequentially training models to correct errors from previous ones. Through linear regression modeling, we found that the relationship between price and other predictive factors was not linear. We then chose to use ensemble methods because they can model non-linear relationships, reduce overfitting, and improve prediction accuracy. To further optimize model performance, we used Grid Search to perform hyperparameter tuning. This allowed us to identify the highest performance configuration for our data."
      ],
      "metadata": {
        "id": "hMWIG0EXQ3sa"
      }
    },
    {
      "cell_type": "code",
      "source": [],
      "metadata": {
        "id": "TTzco3RUBvbP"
      },
      "execution_count": null,
      "outputs": []
    }
  ]
}