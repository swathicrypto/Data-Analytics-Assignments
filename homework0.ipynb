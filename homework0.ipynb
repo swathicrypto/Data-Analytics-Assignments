{
  "cells": [
    {
      "cell_type": "markdown",
      "metadata": {
        "id": "whOFv2wpMlhb"
      },
      "source": [
        "# Homework 0: Getting Started (7 points)\n",
        "\n",
        "## Due Jan 30th, 2025 by 10 PM\n",
        "\n",
        "For this initial assignment, our primary goal is to familiarize you with Python and Pandas.\n",
        "\n",
        "**This class assumes you are comfortable programming in Python.**\n",
        "\n",
        "We will be using **Google Colab** to do the majority of work in the class, since it offers a standard environment regardless of your personal machine. This very file is a Jupyter **notebook** that you can edit and use to run Python code. Its file extension is “.ipynb” for (I)nteractive (Py)thon (N)ote(b)ook.\n",
        "\n",
        "Notebooks are divided into Cells. Some Cells are text (written in Markdown). You won’t need to edit these. The other Cells are executable code and will have `[ ]` to the left of them. After running one of these Cells, a number will appear inside the brackets, indicating the order in which the Cells were run.\n",
        "\n",
        "\n",
        "<br>\n",
        "\n",
        "#### **Please make a COPY of this notebook!**\n",
        "\n",
        "Please make a COPY of this notebook when you are getting started; nobody should have edit privileges which means that while you can type and run cells here, **it will NOT save**. Make a copy to your own Colab!"
      ]
    },
    {
      "cell_type": "markdown",
      "metadata": {
        "id": "jK6AEVjH0_ws"
      },
      "source": [
        "# Part 1: PennGrader\n",
        "\n",
        "\n"
      ]
    },
    {
      "cell_type": "markdown",
      "metadata": {
        "id": "Tn3wuswcj3fw"
      },
      "source": [
        "\n",
        "Next you'll need to set up the PennGrader, which we'll be using throughout the semester to help you with your homeworks."
      ]
    },
    {
      "cell_type": "code",
      "execution_count": null,
      "metadata": {
        "id": "AFixFKy2kAev"
      },
      "outputs": [],
      "source": [
        "%%capture\n",
        "!pip install penngrader-client"
      ]
    },
    {
      "cell_type": "markdown",
      "metadata": {
        "id": "_PFKrty7lK5N"
      },
      "source": [
        "Let's try it out! Fill in the cell below with your 8-digit Penn ID and then run the following cell to initialize the grader."
      ]
    },
    {
      "cell_type": "code",
      "execution_count": null,
      "metadata": {
        "id": "kcS79C9blJBm"
      },
      "outputs": [],
      "source": [
        "# PLEASE ENSURE YOUR PENN-ID IS ENTERED CORRECTLY. IF NOT, THE AUTOGRADER WON'T KNOW WHO\n",
        "# TO ASSIGN POINTS TO YOU IN OUR BACKEND\n",
        "\n",
        "# TODO: Assign the STUDENT_ID variable your PENN-ID as an integer\n",
        "STUDENT_ID = 73619426"
      ]
    },
    {
      "cell_type": "code",
      "execution_count": null,
      "metadata": {
        "id": "8ToIBcSTdJ0j",
        "colab": {
          "base_uri": "https://localhost:8080/"
        },
        "outputId": "e78fbd5f-a6ca-495f-c235-d6ff56e448cc"
      },
      "outputs": [
        {
          "output_type": "stream",
          "name": "stdout",
          "text": [
            "Overwriting notebook-config.yaml\n"
          ]
        }
      ],
      "source": [
        "# don't touch this cell -- this tells PennGrader where to submit your results\n",
        "%%writefile notebook-config.yaml\n",
        "\n",
        "grader_api_url: 'https://23whrwph9h.execute-api.us-east-1.amazonaws.com/default/Grader23'\n",
        "grader_api_key: 'flfkE736fA6Z8GxMDJe2q8Kfk8UDqjsG3GVqOFOa'"
      ]
    },
    {
      "cell_type": "code",
      "execution_count": null,
      "metadata": {
        "id": "x62rNEosdQdZ"
      },
      "outputs": [],
      "source": [
        "from penngrader.grader import *\n",
        "\n",
        "# Import useful libraries\n",
        "import pandas as pd\n",
        "import numpy as np\n",
        "import matplotlib.pyplot as plt"
      ]
    },
    {
      "cell_type": "code",
      "execution_count": null,
      "metadata": {
        "id": "wd0oMe8glNnA",
        "colab": {
          "base_uri": "https://localhost:8080/"
        },
        "outputId": "65f2fda9-cdf9-4d62-d7fa-82c9a6095d8a"
      },
      "outputs": [
        {
          "output_type": "stream",
          "name": "stdout",
          "text": [
            "PennGrader initialized with Student ID: 73619426\n",
            "\n",
            "Make sure this correct or we will not be able to store your grade\n"
          ]
        }
      ],
      "source": [
        "grader = PennGrader('notebook-config.yaml', \"cis5450_sp25_HW0\", STUDENT_ID, STUDENT_ID)"
      ]
    },
    {
      "cell_type": "markdown",
      "metadata": {
        "id": "KVm1kMgrgG6E"
      },
      "source": [
        "# Part 2: Your First CIS 5450 Notebook\n",
        "\n",
        "The rest of the assignment will try to illustrate a few aspects of data analytics...  Don't be concerned if you don't yet know all of the operations, libraries, etc. because that's what we'll be covering soon!"
      ]
    },
    {
      "cell_type": "markdown",
      "metadata": {
        "id": "hpAxQ5Ac1O5v"
      },
      "source": [
        "## 2.1 A Simple Program to Read from the Web with Pandas\n",
        "The cell below uses the **Pandas** library to read a table from the given web page (the Wikipedia information on films in the year 2024).  The code loads this into a list of **DataFrames** called `films_2024`.  We then pull the table at the right index, then do some simple **data wrangling** on `top_films` to set up the appropriate types.\n",
        "\n",
        "Select the Cell below and then select the Run button which appeared over the brackets."
      ]
    },
    {
      "cell_type": "code",
      "execution_count": null,
      "metadata": {
        "id": "-IG5hBbY97J8",
        "colab": {
          "base_uri": "https://localhost:8080/"
        },
        "outputId": "23e2dc17-b012-4924-a689-dbfad52a6d06"
      },
      "outputs": [
        {
          "output_type": "stream",
          "name": "stdout",
          "text": [
            "Requirement already satisfied: money-parser in /usr/local/lib/python3.11/dist-packages (0.0.1)\n"
          ]
        }
      ],
      "source": [
        "!pip install money-parser"
      ]
    },
    {
      "cell_type": "code",
      "execution_count": null,
      "metadata": {
        "id": "K0c5Tsrjhou0",
        "colab": {
          "base_uri": "https://localhost:8080/",
          "height": 394
        },
        "outputId": "5ebaad45-2ec0-498a-b7b5-1f46c47dcda5"
      },
      "outputs": [
        {
          "output_type": "execute_result",
          "data": {
            "text/plain": [
              "                                Title   Distributor     Worldwide gross  \\\n",
              "Rank                                                                      \n",
              "1                        Inside Out 2        Disney      $1,698,863,816   \n",
              "2                Deadpool & Wolverine        Disney      $1,338,073,645   \n",
              "3                           Moana 2 †        Disney      $1,026,040,000   \n",
              "4                     Despicable Me 4     Universal        $969,239,433   \n",
              "5                            Wicked †     Universal        $717,045,270   \n",
              "6                      Dune: Part Two  Warner Bros.        $714,444,358   \n",
              "7             Mufasa: The Lion King †        Disney        $626,673,045   \n",
              "8     Godzilla x Kong: The New Empire  Warner Bros.        $571,750,016   \n",
              "9                     Kung Fu Panda 4     Universal        $547,699,816   \n",
              "10                               YOLO    China Film  $479,597,304[3][4]   \n",
              "\n",
              "     Revenue (millions)  \n",
              "Rank                     \n",
              "1               1698.86  \n",
              "2               1338.07  \n",
              "3               1026.04  \n",
              "4                969.24  \n",
              "5                717.05  \n",
              "6                714.44  \n",
              "7                626.67  \n",
              "8                571.75  \n",
              "9                547.70  \n",
              "10               479.60  "
            ],
            "text/html": [
              "\n",
              "  <div id=\"df-140792e7-87b7-425b-9449-bf623e273a6b\" class=\"colab-df-container\">\n",
              "    <div>\n",
              "<style scoped>\n",
              "    .dataframe tbody tr th:only-of-type {\n",
              "        vertical-align: middle;\n",
              "    }\n",
              "\n",
              "    .dataframe tbody tr th {\n",
              "        vertical-align: top;\n",
              "    }\n",
              "\n",
              "    .dataframe thead th {\n",
              "        text-align: right;\n",
              "    }\n",
              "</style>\n",
              "<table border=\"1\" class=\"dataframe\">\n",
              "  <thead>\n",
              "    <tr style=\"text-align: right;\">\n",
              "      <th></th>\n",
              "      <th>Title</th>\n",
              "      <th>Distributor</th>\n",
              "      <th>Worldwide gross</th>\n",
              "      <th>Revenue (millions)</th>\n",
              "    </tr>\n",
              "    <tr>\n",
              "      <th>Rank</th>\n",
              "      <th></th>\n",
              "      <th></th>\n",
              "      <th></th>\n",
              "      <th></th>\n",
              "    </tr>\n",
              "  </thead>\n",
              "  <tbody>\n",
              "    <tr>\n",
              "      <th>1</th>\n",
              "      <td>Inside Out 2</td>\n",
              "      <td>Disney</td>\n",
              "      <td>$1,698,863,816</td>\n",
              "      <td>1698.86</td>\n",
              "    </tr>\n",
              "    <tr>\n",
              "      <th>2</th>\n",
              "      <td>Deadpool &amp; Wolverine</td>\n",
              "      <td>Disney</td>\n",
              "      <td>$1,338,073,645</td>\n",
              "      <td>1338.07</td>\n",
              "    </tr>\n",
              "    <tr>\n",
              "      <th>3</th>\n",
              "      <td>Moana 2 †</td>\n",
              "      <td>Disney</td>\n",
              "      <td>$1,026,040,000</td>\n",
              "      <td>1026.04</td>\n",
              "    </tr>\n",
              "    <tr>\n",
              "      <th>4</th>\n",
              "      <td>Despicable Me 4</td>\n",
              "      <td>Universal</td>\n",
              "      <td>$969,239,433</td>\n",
              "      <td>969.24</td>\n",
              "    </tr>\n",
              "    <tr>\n",
              "      <th>5</th>\n",
              "      <td>Wicked †</td>\n",
              "      <td>Universal</td>\n",
              "      <td>$717,045,270</td>\n",
              "      <td>717.05</td>\n",
              "    </tr>\n",
              "    <tr>\n",
              "      <th>6</th>\n",
              "      <td>Dune: Part Two</td>\n",
              "      <td>Warner Bros.</td>\n",
              "      <td>$714,444,358</td>\n",
              "      <td>714.44</td>\n",
              "    </tr>\n",
              "    <tr>\n",
              "      <th>7</th>\n",
              "      <td>Mufasa: The Lion King †</td>\n",
              "      <td>Disney</td>\n",
              "      <td>$626,673,045</td>\n",
              "      <td>626.67</td>\n",
              "    </tr>\n",
              "    <tr>\n",
              "      <th>8</th>\n",
              "      <td>Godzilla x Kong: The New Empire</td>\n",
              "      <td>Warner Bros.</td>\n",
              "      <td>$571,750,016</td>\n",
              "      <td>571.75</td>\n",
              "    </tr>\n",
              "    <tr>\n",
              "      <th>9</th>\n",
              "      <td>Kung Fu Panda 4</td>\n",
              "      <td>Universal</td>\n",
              "      <td>$547,699,816</td>\n",
              "      <td>547.70</td>\n",
              "    </tr>\n",
              "    <tr>\n",
              "      <th>10</th>\n",
              "      <td>YOLO</td>\n",
              "      <td>China Film</td>\n",
              "      <td>$479,597,304[3][4]</td>\n",
              "      <td>479.60</td>\n",
              "    </tr>\n",
              "  </tbody>\n",
              "</table>\n",
              "</div>\n",
              "    <div class=\"colab-df-buttons\">\n",
              "\n",
              "  <div class=\"colab-df-container\">\n",
              "    <button class=\"colab-df-convert\" onclick=\"convertToInteractive('df-140792e7-87b7-425b-9449-bf623e273a6b')\"\n",
              "            title=\"Convert this dataframe to an interactive table.\"\n",
              "            style=\"display:none;\">\n",
              "\n",
              "  <svg xmlns=\"http://www.w3.org/2000/svg\" height=\"24px\" viewBox=\"0 -960 960 960\">\n",
              "    <path d=\"M120-120v-720h720v720H120Zm60-500h600v-160H180v160Zm220 220h160v-160H400v160Zm0 220h160v-160H400v160ZM180-400h160v-160H180v160Zm440 0h160v-160H620v160ZM180-180h160v-160H180v160Zm440 0h160v-160H620v160Z\"/>\n",
              "  </svg>\n",
              "    </button>\n",
              "\n",
              "  <style>\n",
              "    .colab-df-container {\n",
              "      display:flex;\n",
              "      gap: 12px;\n",
              "    }\n",
              "\n",
              "    .colab-df-convert {\n",
              "      background-color: #E8F0FE;\n",
              "      border: none;\n",
              "      border-radius: 50%;\n",
              "      cursor: pointer;\n",
              "      display: none;\n",
              "      fill: #1967D2;\n",
              "      height: 32px;\n",
              "      padding: 0 0 0 0;\n",
              "      width: 32px;\n",
              "    }\n",
              "\n",
              "    .colab-df-convert:hover {\n",
              "      background-color: #E2EBFA;\n",
              "      box-shadow: 0px 1px 2px rgba(60, 64, 67, 0.3), 0px 1px 3px 1px rgba(60, 64, 67, 0.15);\n",
              "      fill: #174EA6;\n",
              "    }\n",
              "\n",
              "    .colab-df-buttons div {\n",
              "      margin-bottom: 4px;\n",
              "    }\n",
              "\n",
              "    [theme=dark] .colab-df-convert {\n",
              "      background-color: #3B4455;\n",
              "      fill: #D2E3FC;\n",
              "    }\n",
              "\n",
              "    [theme=dark] .colab-df-convert:hover {\n",
              "      background-color: #434B5C;\n",
              "      box-shadow: 0px 1px 3px 1px rgba(0, 0, 0, 0.15);\n",
              "      filter: drop-shadow(0px 1px 2px rgba(0, 0, 0, 0.3));\n",
              "      fill: #FFFFFF;\n",
              "    }\n",
              "  </style>\n",
              "\n",
              "    <script>\n",
              "      const buttonEl =\n",
              "        document.querySelector('#df-140792e7-87b7-425b-9449-bf623e273a6b button.colab-df-convert');\n",
              "      buttonEl.style.display =\n",
              "        google.colab.kernel.accessAllowed ? 'block' : 'none';\n",
              "\n",
              "      async function convertToInteractive(key) {\n",
              "        const element = document.querySelector('#df-140792e7-87b7-425b-9449-bf623e273a6b');\n",
              "        const dataTable =\n",
              "          await google.colab.kernel.invokeFunction('convertToInteractive',\n",
              "                                                    [key], {});\n",
              "        if (!dataTable) return;\n",
              "\n",
              "        const docLinkHtml = 'Like what you see? Visit the ' +\n",
              "          '<a target=\"_blank\" href=https://colab.research.google.com/notebooks/data_table.ipynb>data table notebook</a>'\n",
              "          + ' to learn more about interactive tables.';\n",
              "        element.innerHTML = '';\n",
              "        dataTable['output_type'] = 'display_data';\n",
              "        await google.colab.output.renderOutput(dataTable, element);\n",
              "        const docLink = document.createElement('div');\n",
              "        docLink.innerHTML = docLinkHtml;\n",
              "        element.appendChild(docLink);\n",
              "      }\n",
              "    </script>\n",
              "  </div>\n",
              "\n",
              "\n",
              "<div id=\"df-b7327845-119a-4d40-8bdd-cbe363f9dc90\">\n",
              "  <button class=\"colab-df-quickchart\" onclick=\"quickchart('df-b7327845-119a-4d40-8bdd-cbe363f9dc90')\"\n",
              "            title=\"Suggest charts\"\n",
              "            style=\"display:none;\">\n",
              "\n",
              "<svg xmlns=\"http://www.w3.org/2000/svg\" height=\"24px\"viewBox=\"0 0 24 24\"\n",
              "     width=\"24px\">\n",
              "    <g>\n",
              "        <path d=\"M19 3H5c-1.1 0-2 .9-2 2v14c0 1.1.9 2 2 2h14c1.1 0 2-.9 2-2V5c0-1.1-.9-2-2-2zM9 17H7v-7h2v7zm4 0h-2V7h2v10zm4 0h-2v-4h2v4z\"/>\n",
              "    </g>\n",
              "</svg>\n",
              "  </button>\n",
              "\n",
              "<style>\n",
              "  .colab-df-quickchart {\n",
              "      --bg-color: #E8F0FE;\n",
              "      --fill-color: #1967D2;\n",
              "      --hover-bg-color: #E2EBFA;\n",
              "      --hover-fill-color: #174EA6;\n",
              "      --disabled-fill-color: #AAA;\n",
              "      --disabled-bg-color: #DDD;\n",
              "  }\n",
              "\n",
              "  [theme=dark] .colab-df-quickchart {\n",
              "      --bg-color: #3B4455;\n",
              "      --fill-color: #D2E3FC;\n",
              "      --hover-bg-color: #434B5C;\n",
              "      --hover-fill-color: #FFFFFF;\n",
              "      --disabled-bg-color: #3B4455;\n",
              "      --disabled-fill-color: #666;\n",
              "  }\n",
              "\n",
              "  .colab-df-quickchart {\n",
              "    background-color: var(--bg-color);\n",
              "    border: none;\n",
              "    border-radius: 50%;\n",
              "    cursor: pointer;\n",
              "    display: none;\n",
              "    fill: var(--fill-color);\n",
              "    height: 32px;\n",
              "    padding: 0;\n",
              "    width: 32px;\n",
              "  }\n",
              "\n",
              "  .colab-df-quickchart:hover {\n",
              "    background-color: var(--hover-bg-color);\n",
              "    box-shadow: 0 1px 2px rgba(60, 64, 67, 0.3), 0 1px 3px 1px rgba(60, 64, 67, 0.15);\n",
              "    fill: var(--button-hover-fill-color);\n",
              "  }\n",
              "\n",
              "  .colab-df-quickchart-complete:disabled,\n",
              "  .colab-df-quickchart-complete:disabled:hover {\n",
              "    background-color: var(--disabled-bg-color);\n",
              "    fill: var(--disabled-fill-color);\n",
              "    box-shadow: none;\n",
              "  }\n",
              "\n",
              "  .colab-df-spinner {\n",
              "    border: 2px solid var(--fill-color);\n",
              "    border-color: transparent;\n",
              "    border-bottom-color: var(--fill-color);\n",
              "    animation:\n",
              "      spin 1s steps(1) infinite;\n",
              "  }\n",
              "\n",
              "  @keyframes spin {\n",
              "    0% {\n",
              "      border-color: transparent;\n",
              "      border-bottom-color: var(--fill-color);\n",
              "      border-left-color: var(--fill-color);\n",
              "    }\n",
              "    20% {\n",
              "      border-color: transparent;\n",
              "      border-left-color: var(--fill-color);\n",
              "      border-top-color: var(--fill-color);\n",
              "    }\n",
              "    30% {\n",
              "      border-color: transparent;\n",
              "      border-left-color: var(--fill-color);\n",
              "      border-top-color: var(--fill-color);\n",
              "      border-right-color: var(--fill-color);\n",
              "    }\n",
              "    40% {\n",
              "      border-color: transparent;\n",
              "      border-right-color: var(--fill-color);\n",
              "      border-top-color: var(--fill-color);\n",
              "    }\n",
              "    60% {\n",
              "      border-color: transparent;\n",
              "      border-right-color: var(--fill-color);\n",
              "    }\n",
              "    80% {\n",
              "      border-color: transparent;\n",
              "      border-right-color: var(--fill-color);\n",
              "      border-bottom-color: var(--fill-color);\n",
              "    }\n",
              "    90% {\n",
              "      border-color: transparent;\n",
              "      border-bottom-color: var(--fill-color);\n",
              "    }\n",
              "  }\n",
              "</style>\n",
              "\n",
              "  <script>\n",
              "    async function quickchart(key) {\n",
              "      const quickchartButtonEl =\n",
              "        document.querySelector('#' + key + ' button');\n",
              "      quickchartButtonEl.disabled = true;  // To prevent multiple clicks.\n",
              "      quickchartButtonEl.classList.add('colab-df-spinner');\n",
              "      try {\n",
              "        const charts = await google.colab.kernel.invokeFunction(\n",
              "            'suggestCharts', [key], {});\n",
              "      } catch (error) {\n",
              "        console.error('Error during call to suggestCharts:', error);\n",
              "      }\n",
              "      quickchartButtonEl.classList.remove('colab-df-spinner');\n",
              "      quickchartButtonEl.classList.add('colab-df-quickchart-complete');\n",
              "    }\n",
              "    (() => {\n",
              "      let quickchartButtonEl =\n",
              "        document.querySelector('#df-b7327845-119a-4d40-8bdd-cbe363f9dc90 button');\n",
              "      quickchartButtonEl.style.display =\n",
              "        google.colab.kernel.accessAllowed ? 'block' : 'none';\n",
              "    })();\n",
              "  </script>\n",
              "</div>\n",
              "\n",
              "  <div id=\"id_556246d5-80c1-411b-b8c5-ceffcdd6e4fe\">\n",
              "    <style>\n",
              "      .colab-df-generate {\n",
              "        background-color: #E8F0FE;\n",
              "        border: none;\n",
              "        border-radius: 50%;\n",
              "        cursor: pointer;\n",
              "        display: none;\n",
              "        fill: #1967D2;\n",
              "        height: 32px;\n",
              "        padding: 0 0 0 0;\n",
              "        width: 32px;\n",
              "      }\n",
              "\n",
              "      .colab-df-generate:hover {\n",
              "        background-color: #E2EBFA;\n",
              "        box-shadow: 0px 1px 2px rgba(60, 64, 67, 0.3), 0px 1px 3px 1px rgba(60, 64, 67, 0.15);\n",
              "        fill: #174EA6;\n",
              "      }\n",
              "\n",
              "      [theme=dark] .colab-df-generate {\n",
              "        background-color: #3B4455;\n",
              "        fill: #D2E3FC;\n",
              "      }\n",
              "\n",
              "      [theme=dark] .colab-df-generate:hover {\n",
              "        background-color: #434B5C;\n",
              "        box-shadow: 0px 1px 3px 1px rgba(0, 0, 0, 0.15);\n",
              "        filter: drop-shadow(0px 1px 2px rgba(0, 0, 0, 0.3));\n",
              "        fill: #FFFFFF;\n",
              "      }\n",
              "    </style>\n",
              "    <button class=\"colab-df-generate\" onclick=\"generateWithVariable('top_films')\"\n",
              "            title=\"Generate code using this dataframe.\"\n",
              "            style=\"display:none;\">\n",
              "\n",
              "  <svg xmlns=\"http://www.w3.org/2000/svg\" height=\"24px\"viewBox=\"0 0 24 24\"\n",
              "       width=\"24px\">\n",
              "    <path d=\"M7,19H8.4L18.45,9,17,7.55,7,17.6ZM5,21V16.75L18.45,3.32a2,2,0,0,1,2.83,0l1.4,1.43a1.91,1.91,0,0,1,.58,1.4,1.91,1.91,0,0,1-.58,1.4L9.25,21ZM18.45,9,17,7.55Zm-12,3A5.31,5.31,0,0,0,4.9,8.1,5.31,5.31,0,0,0,1,6.5,5.31,5.31,0,0,0,4.9,4.9,5.31,5.31,0,0,0,6.5,1,5.31,5.31,0,0,0,8.1,4.9,5.31,5.31,0,0,0,12,6.5,5.46,5.46,0,0,0,6.5,12Z\"/>\n",
              "  </svg>\n",
              "    </button>\n",
              "    <script>\n",
              "      (() => {\n",
              "      const buttonEl =\n",
              "        document.querySelector('#id_556246d5-80c1-411b-b8c5-ceffcdd6e4fe button.colab-df-generate');\n",
              "      buttonEl.style.display =\n",
              "        google.colab.kernel.accessAllowed ? 'block' : 'none';\n",
              "\n",
              "      buttonEl.onclick = () => {\n",
              "        google.colab.notebook.generateWithVariable('top_films');\n",
              "      }\n",
              "      })();\n",
              "    </script>\n",
              "  </div>\n",
              "\n",
              "    </div>\n",
              "  </div>\n"
            ],
            "application/vnd.google.colaboratory.intrinsic+json": {
              "type": "dataframe",
              "variable_name": "top_films",
              "summary": "{\n  \"name\": \"top_films\",\n  \"rows\": 10,\n  \"fields\": [\n    {\n      \"column\": \"Rank\",\n      \"properties\": {\n        \"dtype\": \"number\",\n        \"std\": 3,\n        \"min\": 1,\n        \"max\": 10,\n        \"num_unique_values\": 10,\n        \"samples\": [\n          9,\n          2,\n          6\n        ],\n        \"semantic_type\": \"\",\n        \"description\": \"\"\n      }\n    },\n    {\n      \"column\": \"Title\",\n      \"properties\": {\n        \"dtype\": \"string\",\n        \"num_unique_values\": 10,\n        \"samples\": [\n          \"Kung Fu Panda 4\",\n          \"Deadpool & Wolverine\",\n          \"Dune: Part Two\"\n        ],\n        \"semantic_type\": \"\",\n        \"description\": \"\"\n      }\n    },\n    {\n      \"column\": \"Distributor\",\n      \"properties\": {\n        \"dtype\": \"category\",\n        \"num_unique_values\": 4,\n        \"samples\": [\n          \"Universal\",\n          \"China Film\",\n          \"Disney\"\n        ],\n        \"semantic_type\": \"\",\n        \"description\": \"\"\n      }\n    },\n    {\n      \"column\": \"Worldwide gross\",\n      \"properties\": {\n        \"dtype\": \"string\",\n        \"num_unique_values\": 10,\n        \"samples\": [\n          \"$547,699,816\",\n          \"$1,338,073,645\",\n          \"$714,444,358\"\n        ],\n        \"semantic_type\": \"\",\n        \"description\": \"\"\n      }\n    },\n    {\n      \"column\": \"Revenue (millions)\",\n      \"properties\": {\n        \"dtype\": \"string\",\n        \"num_unique_values\": 10,\n        \"samples\": [\n          \"547.70\",\n          \"1338.07\",\n          \"714.44\"\n        ],\n        \"semantic_type\": \"\",\n        \"description\": \"\"\n      }\n    }\n  ]\n}"
            }
          },
          "metadata": {},
          "execution_count": 7
        }
      ],
      "source": [
        "import pandas as pd\n",
        "from money_parser import price_dec\n",
        "\n",
        "def extract_number(x):\n",
        "  items = str(x).split('[')\n",
        "  return round(price_dec(items[0]) / 1000000, 2)\n",
        "\n",
        "films_2024 = pd.read_html('https://en.wikipedia.org/wiki/2024_in_film')\n",
        "\n",
        "top_films = films_2024[2]\n",
        "top_films = top_films.set_index(\"Rank\")\n",
        "\n",
        "top_films['Revenue (millions)'] = top_films['Worldwide gross'].apply(extract_number)\n",
        "top_films"
      ]
    },
    {
      "cell_type": "markdown",
      "metadata": {
        "id": "lHYYZNCe-eM1"
      },
      "source": [
        "Can we programmatically compute how many entries were scored as top films?"
      ]
    },
    {
      "cell_type": "code",
      "execution_count": null,
      "metadata": {
        "id": "FfBjaH1U-hIh"
      },
      "outputs": [],
      "source": [
        "# You can use the Python len() function on a dataframe to figure out how many rows!\n",
        "\n",
        "# TODO: Update dataframe_length with your code here!\n",
        "dataframe_length = len(top_films)"
      ]
    },
    {
      "cell_type": "code",
      "execution_count": null,
      "metadata": {
        "id": "st8grxXxk1cy",
        "colab": {
          "base_uri": "https://localhost:8080/"
        },
        "outputId": "66a0448c-8c2a-4be7-cf3f-fa2b06529240"
      },
      "outputs": [
        {
          "output_type": "stream",
          "name": "stdout",
          "text": [
            "Correct! You earned 3/3 points. You are a star!\n",
            "\n",
            "Your submission has been successfully recorded in the gradebook.\n"
          ]
        }
      ],
      "source": [
        "# Run this cell to submit to PennGrader!\n",
        "\n",
        "grader.grade(test_case_id = 'length_test', answer = dataframe_length)"
      ]
    },
    {
      "cell_type": "markdown",
      "metadata": {
        "id": "CO7JiYf3gzbS"
      },
      "source": [
        "\n",
        "## 2.2 Something a Little More Fun\n",
        "Running the cell below will create a scatter plot.\n",
        "\n",
        "**Your task is to edit this cell such that:**\n",
        "\n",
        "1. The text (which says “CIS5450Student”) should be replaced with your full name.\n",
        "2. The number of values sampled should be 50, and you should  change the figure title to match!\n",
        "\n",
        "4. The x-axis should be labeled “Index”.\n",
        "\n",
        "You may run this cell repeatedly to see the output."
      ]
    },
    {
      "cell_type": "code",
      "execution_count": null,
      "metadata": {
        "id": "stqXhjIOMbOG",
        "colab": {
          "base_uri": "https://localhost:8080/",
          "height": 489
        },
        "outputId": "42e0ceb5-1185-40c3-91f1-25c970b95e6f"
      },
      "outputs": [
        {
          "output_type": "execute_result",
          "data": {
            "text/plain": [
              "Text(0.5, 1.0, '50 data points from Swathi Prakash')"
            ]
          },
          "metadata": {},
          "execution_count": 10
        },
        {
          "output_type": "display_data",
          "data": {
            "text/plain": [
              "<Figure size 640x480 with 1 Axes>"
            ],
            "image/png": "[encoded data removed]"
          },
          "metadata": {}
        }
      ],
      "source": [
        "# We’ll be using Matplotlib to plot a visualization\n",
        "%matplotlib inline\n",
        "\n",
        "import matplotlib.pyplot as plt\n",
        "import numpy as np\n",
        "\n",
        "# Create 10 random numbers and sort them\n",
        "NUM_PTS_TO_SAMPLE = 50\n",
        "x = np.arange(0, NUM_PTS_TO_SAMPLE)\n",
        "y = np.sort(np.random.rand(NUM_PTS_TO_SAMPLE))\n",
        "\n",
        "# fit a line (polynomial with degree 1) through the data\n",
        "slope, intercept = np.polyfit(x, y, 1)\n",
        "\n",
        "# plot our initial random points\n",
        "plt.scatter(x, y, label=\"Data\")\n",
        "\n",
        "# plot our line-of-best-fit over the data\n",
        "fit_x = np.linspace(0, NUM_PTS_TO_SAMPLE, 100)\n",
        "fit_y = slope * fit_x + intercept\n",
        "plt.plot(fit_x, fit_y, color=\"red\", label=\"Fit\")\n",
        "plt.ylabel(\"Value\")\n",
        "plt.xlabel(\"Index\")\n",
        "plt.legend()\n",
        "\n",
        "# give the plot a title based on the variable `student`\n",
        "student = \"Swathi Prakash\"\n",
        "plt.title(f\"50 data points from {student}\")"
      ]
    },
    {
      "cell_type": "markdown",
      "metadata": {
        "id": "daKoWpQZg7EJ"
      },
      "source": [
        "The following test cell prints your name and tests whether you followed the directions."
      ]
    },
    {
      "cell_type": "code",
      "execution_count": null,
      "metadata": {
        "id": "MXhK2uIFg2BJ",
        "colab": {
          "base_uri": "https://localhost:8080/"
        },
        "outputId": "0c3df7e1-c44d-4eb2-8c69-41fad116a667"
      },
      "outputs": [
        {
          "output_type": "stream",
          "name": "stdout",
          "text": [
            "Your name is: Swathi Prakash\n",
            "Correct! You earned 2/2 points. You are a star!\n",
            "\n",
            "Your submission has been successfully recorded in the gradebook.\n"
          ]
        }
      ],
      "source": [
        "print(\"Your name is:\", student)\n",
        "\n",
        "# Run this cell to submit to PennGrader!\n",
        "grader.grade(test_case_id = 'name_test', answer = student)"
      ]
    },
    {
      "cell_type": "markdown",
      "metadata": {
        "id": "VzLJBEcl8r2X"
      },
      "source": [
        "# Part 3: Submitting Your Homework\n",
        "\n",
        "First, note that it's easy to \"break\" your notebook by changing something...  So you should *ALWAYS* clear output and re-run your code, just to make sure that hasn't happened. When you are done, select the \"Runtime\" menu at the top of the window. Then, select \"Restart and run all\". Please make sure all cells complete!\n",
        "\n",
        "![out.png](data:image/png;base64,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)\n"
      ]
    },
    {
      "cell_type": "markdown",
      "metadata": {
        "id": "cvJC6H9k1gYD"
      },
      "source": [
        "## 3.1 Submission to Gradescope\n",
        "\n",
        "Now go to the File menu and choose \"Download .ipynb\" and also \"Download .py\".  Go to Gradescope through Canvas and:\n",
        "\n",
        "1. (If you didn't read the above carefully) from \"File\" --> Download *both* .ipynb and .py files\n",
        "1. Rename these downloaded files `homework0.ipynb` and `homework0.py`, respectively\n",
        "1. Sign in using your Penn email address (if you are a SEAS student we recommend using the Google login) and select the correct class\n",
        "1. Select Homework 0\n",
        "1. Upload both files\n",
        "1. PLEASE CHECK THE AUTOGRADER OUTPUT TO ENSURE YOUR SUBMISSION IS PROCESSED CORRECTLY!\n",
        "\n",
        "**NOTE: in future HW, we will apply a penalty if we have to re-upload your submission to Gradescope after the deadline.**\n",
        "\n",
        "You should be set! Note that this assignment has 8 autograded points and 2 manually graded points! The autograded points will show upon submission, but the manually graded portion will be graded by your TAs after the deadline has passed."
      ]
    },
    {
      "cell_type": "code",
      "source": [],
      "metadata": {
        "id": "gIZ09-GIyW1Z"
      },
      "execution_count": null,
      "outputs": []
    }
  ],
  "metadata": {
    "colab": {
      "provenance": []
    },
    "kernelspec": {
      "display_name": "Python 3",
      "name": "python3"
    }
  },
  "nbformat": 4,
  "nbformat_minor": 0
}