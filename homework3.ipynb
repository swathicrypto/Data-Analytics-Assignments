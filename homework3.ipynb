{
  "nbformat": 4,
  "nbformat_minor": 0,
  "metadata": {
    "colab": {
      "provenance": []
    },
    "kernelspec": {
      "name": "python3",
      "display_name": "Python 3"
    },
    "language_info": {
      "name": "python"
    }
  },
  "cells": [
    {
      "cell_type": "markdown",
      "source": [
        "# CIS 5450 Homework 3: Hypothesis Testing and Machine Learning\n",
        "\n",
        "*Due Date: **Friday, March 28 10:00 PM EST**<br>\n",
        "**105 points total** (= 95 autograded + 10 manually graded).*\n",
        "\n",
        "Welcome to CIS 5450 Homework 3! In this homework you will gain some familiarity with machine learning models for supervised learning. Over the next few days you will strengthen your understanding of hypothesis testing via simulation and ML concepts using various datasets. Some housekeeping below!<br><br>\n",
        "\n",
        "<center>\n",
        "<img src=\"https://storage.googleapis.com/kaggle-forum-message-attachments/703594/14673/DATAAC.jpeg\" alt=\"drawing\" width=\"500\"/>\n",
        "</center>\n",
        "\n",
        "**Before you begin:**\n",
        "- Be sure to click \"Copy to Drive\" to make sure you're working on your own personal version of the homework\n",
        "- Check the pinned FAQ post on Ed for updates! If you have been stuck, chances are other students have also faced similar problems.\n",
        "\n",
        "**Note:**  We will be manually checking your implementations and code for certain problems. If you incorrectly implemented a procedure using Scikit-learn (e.g. creating predictions on training dataset, incorrectly process training data prior to running certain machine learning models, hardcoding values, etc.), we will be enforcing a penalty system up to the maximum value of points allocated to the problem. (e.g. if your problem is worth 4 points, the maximum number of points that can be deducted is 4 points).\n",
        "  - **Note:** If your plot is not run or not present after we open your notebook/pdf, we will deduct the entire manually graded point value of the plot. (e.g. if your plot is worth 4 points, we will deduct 4 points).\n",
        "  - **Note:** If your `.py` file is hidden because it's too large, that's ok! We only care about your `.pdf` file."
      ],
      "metadata": {
        "id": "VmW0ktbhNrPT"
      }
    },
    {
      "cell_type": "markdown",
      "metadata": {
        "id": "XjKROoTspFgL"
      },
      "source": [
        "# Part 0. Import and Setup"
      ]
    },
    {
      "cell_type": "markdown",
      "metadata": {
        "id": "ZvjA4b4HpL88"
      },
      "source": [
        "Import necessary libraries (do not import anything else!)"
      ]
    },
    {
      "cell_type": "code",
      "execution_count": 1,
      "metadata": {
        "id": "y08C1JYkplJR"
      },
      "outputs": [],
      "source": [
        "%%capture\n",
        "!pip3 install penngrader-client"
      ]
    },
    {
      "cell_type": "code",
      "execution_count": 2,
      "metadata": {
        "id": "gW8F02E0CcUM"
      },
      "outputs": [],
      "source": [
        "import numpy as np\n",
        "import pandas as pd\n",
        "import seaborn as sns\n",
        "import matplotlib.pyplot as plt\n",
        "from sklearn.neighbors import KNeighborsClassifier\n",
        "from sklearn.linear_model import LogisticRegression\n",
        "from sklearn.model_selection import train_test_split, GridSearchCV, StratifiedKFold\n",
        "from sklearn.metrics import accuracy_score, precision_score, recall_score, f1_score\n",
        "from sklearn.preprocessing import OneHotEncoder, OrdinalEncoder, StandardScaler\n",
        "from sklearn.ensemble import RandomForestClassifier\n",
        "import random\n",
        "import math\n",
        "import datetime as dt\n",
        "from xgboost import XGBClassifier\n",
        "from penngrader.grader import *\n",
        "import inspect"
      ]
    },
    {
      "cell_type": "markdown",
      "metadata": {
        "id": "Jnf6ndFiwC_q"
      },
      "source": [
        "###PennGrader Setup"
      ]
    },
    {
      "cell_type": "code",
      "execution_count": 3,
      "metadata": {
        "id": "4lDYWRSSwCht"
      },
      "outputs": [],
      "source": [
        "# PLEASE ENSURE YOUR PENN-ID IS ENTERED CORRECTLY. IF NOT, THE AUTOGRADER WON'T KNOW\n",
        "# TO ASSIGN POINTS TO YOU IN OUR BACKEND\n",
        "STUDENT_ID = 73619426\n",
        "SECRET = \"... watching Ted Lasso...\""
      ]
    },
    {
      "cell_type": "code",
      "execution_count": 4,
      "metadata": {
        "id": "VkNysqz4wM5Q",
        "colab": {
          "base_uri": "https://localhost:8080/"
        },
        "outputId": "1f9e7a3e-a471-4c52-ee46-026f54df2a8f"
      },
      "outputs": [
        {
          "output_type": "stream",
          "name": "stdout",
          "text": [
            "Overwriting config.yaml\n"
          ]
        }
      ],
      "source": [
        "%%writefile config.yaml\n",
        "\n",
        "grader_api_url: 'https://23whrwph9h.execute-api.us-east-1.amazonaws.com/default/Grader23'\n",
        "grader_api_key: 'flfkE736fA6Z8GxMDJe2q8Kfk8UDqjsG3GVqOFOa'"
      ]
    },
    {
      "cell_type": "code",
      "execution_count": 5,
      "metadata": {
        "id": "_1s7dHbqgTK_",
        "colab": {
          "base_uri": "https://localhost:8080/"
        },
        "outputId": "4fc89798-2132-4ec5-f5da-12d87ac194ae"
      },
      "outputs": [
        {
          "output_type": "stream",
          "name": "stdout",
          "text": [
            "env: HW_ID=cis5450_sp25_HW3\n"
          ]
        }
      ],
      "source": [
        "%set_env HW_ID=cis5450_sp25_HW3"
      ]
    },
    {
      "cell_type": "code",
      "execution_count": 6,
      "metadata": {
        "id": "GTwhj0D6wS-C",
        "colab": {
          "base_uri": "https://localhost:8080/"
        },
        "outputId": "e809555b-5e84-4d2a-9b36-83325ab10e95"
      },
      "outputs": [
        {
          "output_type": "stream",
          "name": "stdout",
          "text": [
            "PennGrader initialized with Student ID: 73619426\n",
            "\n",
            "Make sure this correct or we will not be able to store your grade\n"
          ]
        }
      ],
      "source": [
        "grader = PennGrader('config.yaml', 'cis5450_sp25_HW3', STUDENT_ID, SECRET)"
      ]
    },
    {
      "cell_type": "markdown",
      "metadata": {
        "id": "aeYgjHfUsPN6"
      },
      "source": [
        "# Part 1: Hypothesis Testing via Simulation [23 Points Total] (3 manually graded points)"
      ]
    },
    {
      "cell_type": "markdown",
      "metadata": {
        "id": "WSUkKtOdZKVF"
      },
      "source": [
        "## 1.1: Birthday Paradox Simulation [9 points] (3 manually graded points)"
      ]
    },
    {
      "cell_type": "markdown",
      "metadata": {
        "id": "SKBrRLBgZKVF"
      },
      "source": [
        "The Birthday Paradox states that in a group of just 23 people, there's a greater than 50% chance that at least two people share the same birthday. This counterintuitive result demonstrates how our intuition about probability can often be misleading. In this problem, you'll implement a simulation to verify this mathematical result and explore how the probability changes with different group sizes.\n",
        "\n",
        "For simplicity, we'll make the following assumptions:\n",
        "- There are 365 possible birthdays (ignoring leap years)\n",
        "- Birthdays are uniformly distributed throughout the year\n",
        "- Births are independent events"
      ]
    },
    {
      "cell_type": "markdown",
      "metadata": {
        "id": "apWACgXbZKVF"
      },
      "source": [
        "### 1.1.1 Basic Simulation [2 points]\n",
        "\n",
        "First, let's implement a basic simulation using loops to understand the problem.\n",
        "\n",
        "TODO:\n",
        "Implement a function `simulate_birthday_paradox_basic(n_people, n_simulations)` that:\n",
        "- Takes two parameters:\n",
        "    - n_people: The number of people in each simulated group\n",
        "    - n_simulations: The number of random groups to simulate\n",
        "- For each simulation:\n",
        "    - Generates `n_people` random birthdays (integers from 1 to 366)\n",
        "    - Checks if at least two people in the group share the same birthday\n",
        "- Returns the proportion of simulations where a shared birthday occurred\n",
        "\n",
        "**Hint**:\n",
        "- Please check whether each side of `randint` is inclusive or not.\n"
      ]
    },
    {
      "cell_type": "code",
      "execution_count": 7,
      "metadata": {
        "id": "nbGq_D1cZKVG",
        "colab": {
          "base_uri": "https://localhost:8080/"
        },
        "outputId": "2f9dba33-29de-43ad-ed53-a37a981165f7"
      },
      "outputs": [
        {
          "output_type": "stream",
          "name": "stdout",
          "text": [
            "Probability of shared birthday with 23 people: 0.5131\n"
          ]
        }
      ],
      "source": [
        "### DO NOT CHANGE ###\n",
        "random.seed(42)\n",
        "### DO NOT CHANGE ###\n",
        "\n",
        "def simulate_birthday_paradox_basic(n_people, n_simulations=10000):\n",
        "    \"\"\"\n",
        "    Simulates the birthday paradox for a given number of people using loops.\n",
        "\n",
        "    Parameters:\n",
        "    n_people (int): Number of people in each simulation\n",
        "    n_simulations (int): Number of simulations to run\n",
        "\n",
        "    Returns:\n",
        "    float: Proportion of simulations with at least one shared birthday\n",
        "    \"\"\"\n",
        "    # TODO: Implement this function using loops\n",
        "    # Hint: Use random.randint(1, 366) to generate random birthdays\n",
        "    # Hint: You can check for duplicates by comparing the length of a list with the length of a set\n",
        "\n",
        "    shared_birthday_count = 0  # Initialize a counter for shared birthdays\n",
        "\n",
        "    for _ in range(n_simulations):  # Run the simulation for the specified number of times\n",
        "        birthdays = []  # Initialize an empty list to store birthdays for this simulation\n",
        "        for _ in range(n_people):  # Generate birthdays for each person in the group\n",
        "            birthdays.append(random.randint(1, 366))  # Generate a random birthday (1 to 366)\n",
        "\n",
        "        # Check if there's a shared birthday by comparing the length of the list to the length of a set\n",
        "        if len(birthdays) != len(set(birthdays)):\n",
        "            shared_birthday_count += 1  # Increment the counter if there's a shared birthday\n",
        "\n",
        "    # Calculate and return the proportion of simulations with shared birthdays\n",
        "    return shared_birthday_count / n_simulations\n",
        "\n",
        "# Test the function with 23 people\n",
        "probability_23 = simulate_birthday_paradox_basic(23, 10000)\n",
        "print(f\"Probability of shared birthday with 23 people: {probability_23:.4f}\")"
      ]
    },
    {
      "cell_type": "code",
      "execution_count": 8,
      "metadata": {
        "id": "dAoFjmOQZKVG",
        "colab": {
          "base_uri": "https://localhost:8080/"
        },
        "outputId": "49ad0195-b8c9-4730-ae40-c28cf484bd9f"
      },
      "outputs": [
        {
          "output_type": "stream",
          "name": "stdout",
          "text": [
            "Correct! You earned 2/2 points. You are a star!\n",
            "\n",
            "Your submission has been successfully recorded in the gradebook.\n"
          ]
        }
      ],
      "source": [
        "grader.grade(test_case_id = 'test_basic_simulation', answer = probability_23)"
      ]
    },
    {
      "cell_type": "markdown",
      "metadata": {
        "id": "ii75FgAsZKVG"
      },
      "source": [
        "### 1.1.2 Vectorized Simulation [4 points]"
      ]
    },
    {
      "cell_type": "markdown",
      "metadata": {
        "id": "fIpf1jh0ZKVG"
      },
      "source": [
        "Next, let's accelerate our simulation with vectorization! Using numpy, write a vectorized version of the simulation.\n",
        "\n",
        "Your solution must:\n",
        "- Contain no loops (while, for, etc.) or list comprehensions\n",
        "- Contain no if statements or conditionals\n",
        "- Only use built-in or numpy np. functions\n",
        "- Should make only a single call to `np.random`\n",
        "\n",
        "TODO:\n",
        "- Implement a function `simulate_birthday_paradox_vectorized(n_people, n_simulations)` that performs the same task as the basic simulation but uses vectorization for improved performance."
      ]
    },
    {
      "cell_type": "code",
      "execution_count": 9,
      "metadata": {
        "id": "zLC_7F2wZKVH",
        "colab": {
          "base_uri": "https://localhost:8080/"
        },
        "outputId": "67be558a-9536-45c5-fa23-c9c8af450241"
      },
      "outputs": [
        {
          "output_type": "stream",
          "name": "stdout",
          "text": [
            "Basic implementation:\n",
            "CPU times: user 248 ms, sys: 0 ns, total: 248 ms\n",
            "Wall time: 816 ms\n",
            "Probability: 0.5131\n",
            "\n",
            "Vectorized implementation:\n",
            "CPU times: user 9.4 ms, sys: 2.3 ms, total: 11.7 ms\n",
            "Wall time: 96.6 ms\n",
            "Probability: 0.5066\n"
          ]
        }
      ],
      "source": [
        "### DO NOT CHANGE ###\n",
        "random.seed(42)\n",
        "np.random.seed(42)\n",
        "### DO NOT CHANGE ###\n",
        "\n",
        "def simulate_birthday_paradox_vectorized(n_people, n_simulations=10000):\n",
        "    \"\"\"\n",
        "    Simulates the birthday paradox for a given number of people using vectorization.\n",
        "\n",
        "    Parameters:\n",
        "    n_people (int): Number of people in each simulation\n",
        "    n_simulations (int): Number of simulations to run\n",
        "\n",
        "    Returns:\n",
        "    float: Proportion of simulations with at least one shared birthday\n",
        "    \"\"\"\n",
        "    # TODO: Generate all birthdays at once: shape (n_simulations, n_people)\n",
        "    birthdays = np.random.randint(1, 366, size=(n_simulations, n_people))\n",
        "\n",
        "    # TODO: Sort birthdays along each simulation (row-wise)\n",
        "    sorted_birthdays = np.sort(birthdays, axis=1)\n",
        "\n",
        "    # TODO: Check if there are any duplicates by comparing adjacent sorted birthdays\n",
        "    duplicates = np.any(sorted_birthdays[:, 1:] == sorted_birthdays[:, :-1], axis=1)\n",
        "\n",
        "    # TODO: Return the proportion of simulations with at least one shared birthday\n",
        "    return np.mean(duplicates)\n",
        "\n",
        "vectorized_code = inspect.getsource(simulate_birthday_paradox_vectorized)\n",
        "\n",
        "# Compare execution times\n",
        "print(\"Basic implementation:\")\n",
        "%time probability_23_basic = simulate_birthday_paradox_basic(23, 10000)\n",
        "print(f\"Probability: {probability_23_basic:.4f}\")\n",
        "\n",
        "print(\"\\nVectorized implementation:\")\n",
        "%time probability_23_vec = simulate_birthday_paradox_vectorized(23, 10000)\n",
        "print(f\"Probability: {probability_23_vec:.4f}\")"
      ]
    },
    {
      "cell_type": "code",
      "execution_count": 10,
      "metadata": {
        "id": "PMbe5m3OZKVH",
        "colab": {
          "base_uri": "https://localhost:8080/"
        },
        "outputId": "5b92d234-a953-4d3a-e2ed-df9a130a4437"
      },
      "outputs": [
        {
          "output_type": "stream",
          "name": "stdout",
          "text": [
            "Correct! You earned 4/4 points. You are a star!\n",
            "\n",
            "Your submission has been successfully recorded in the gradebook.\n"
          ]
        }
      ],
      "source": [
        "grader.grade(test_case_id='test_vectorized_simulation', answer=(probability_23_vec, vectorized_code))"
      ]
    },
    {
      "cell_type": "markdown",
      "metadata": {
        "id": "_4pIINRyZKVH"
      },
      "source": [
        "### 1.1.3 Probability Analysis [3 points] (3 manually graded points)\n",
        "\n",
        "Now create a plot showing how the probability changes with group size from 1 to 60 people (i.e. range(1, 61)) using the calculation results from `simulate_birthday_paradox_vectorized()`.\n",
        "Your plot with figure size (10, 6) should include:\n",
        "- A curve showing the simulated probabilities\n",
        "- An additional horizontal line at 0.5 (50% probability)\n",
        "- An additional vertical line at n=23 people\n",
        "- All labels for axes and a title 'Birthday Paradox: Probability vs. Group Size'\n",
        "\n",
        "Hint: Please check `plt.axhline()` and `plt.axvline()` for additional lines."
      ]
    },
    {
      "cell_type": "code",
      "execution_count": 11,
      "metadata": {
        "id": "a4VTpYDEZKVH",
        "colab": {
          "base_uri": "https://localhost:8080/",
          "height": 564
        },
        "outputId": "ee1031d1-8024-4c30-a54d-1acf5b6ad5ad"
      },
      "outputs": [
        {
          "output_type": "display_data",
          "data": {
            "text/plain": [
              "<Figure size 1000x600 with 1 Axes>"
            ],
            "image/png": "[encoded data removed]"
          },
          "metadata": {}
        }
      ],
      "source": [
        "# TODO: Create a plot for group sizes 1 to 60 with probs from simulate_birthday_paradox_vectorized().\n",
        "sizes = range(1, 61)\n",
        "probs = [simulate_birthday_paradox_vectorized(size, 10000) for size in sizes]\n",
        "\n",
        "\n",
        "# TODO: Implement the ploting content.\n",
        "\n",
        "plt.figure(figsize=(10, 6))  # Set figure size\n",
        "plt.plot(sizes, probs)  # Plot the probabilities\n",
        "plt.axhline(y=0.5, color='r', linestyle='--')  # Add horizontal line at 0.5\n",
        "plt.axvline(x=23, color='g', linestyle='--')  # Add vertical line at n=23\n",
        "plt.title('Birthday Paradox: Probability vs. Group Size')  # Set title\n",
        "plt.xlabel('Group Size')  # Set x-axis label\n",
        "plt.ylabel('Probability of Shared Birthday')  # Set y-axis label\n",
        "\n",
        "plt.show()"
      ]
    },
    {
      "cell_type": "markdown",
      "metadata": {
        "id": "hXBQx6zTZKVI"
      },
      "source": [
        "## 1.2 Hypothesis Testing [14 points]\n",
        "\n",
        "Now that you've explored the Birthday Paradox through simulation, let's analyze a dataset of birthdays to see if the theoretical assumptions hold in practice. The dataset `birthday_data.csv` contains birth date information for 10,000 individuals from different regions.\n",
        "\n",
        "Dataset Description:\n",
        "- `person_id`: Unique identifier for each person\n",
        "- `birth_month`: Month of birth (1-12)\n",
        "- `birth_day`: Day of birth (1-31)\n",
        "- `birth_year`: Year of birth\n",
        "- `region`: Geographic region (A, B, C, D, E)\n",
        "- `gender`: Gender (M, F)\n"
      ]
    },
    {
      "cell_type": "code",
      "execution_count": 12,
      "metadata": {
        "id": "GWyd9MChZKVI",
        "colab": {
          "base_uri": "https://localhost:8080/"
        },
        "outputId": "b964bfd9-2fee-4709-cd37-c8b9091f2da7"
      },
      "outputs": [
        {
          "output_type": "stream",
          "name": "stdout",
          "text": [
            "Dataset created successfully!\n"
          ]
        }
      ],
      "source": [
        "########## DO NOT CHANGE THIS BLOCK ##########\n",
        "\n",
        "# Set random seed for reproducibility\n",
        "np.random.seed(42)\n",
        "\n",
        "# Generate 10,000 random people\n",
        "n_people = 10000\n",
        "\n",
        "# Create person IDs\n",
        "person_ids = np.arange(1, n_people + 1)\n",
        "\n",
        "# Generate birth years (between 1950 and 2000)\n",
        "birth_years = np.random.randint(1950, 2001, n_people)\n",
        "\n",
        "# Create non-uniform distribution of birthdays\n",
        "# More births in summer and September, fewer in winter\n",
        "weights = np.ones(12)\n",
        "weights[[0, 1, 11]] *= 0.8  # Fewer births in winter (Jan, Feb, Dec)\n",
        "weights[[6, 7, 8]] *= 1.2   # More births in summer (Jul, Aug, Sep)\n",
        "weights[8] *= 1.1           # Even more in September\n",
        "weights = weights / np.sum(weights)\n",
        "\n",
        "# Generate birth months with non-uniform distribution\n",
        "birth_months = np.random.choice(np.arange(1, 13), n_people, p=weights)\n",
        "\n",
        "# Generate birth days (accounting for different month lengths)\n",
        "birth_days = []\n",
        "for month in birth_months:\n",
        "    if month in [4, 6, 9, 11]:  # 30 days\n",
        "        day = np.random.randint(1, 31)\n",
        "    elif month == 2:  # February, simplifying to always 28 days\n",
        "        day = np.random.randint(1, 29)\n",
        "    else:  # 31 days\n",
        "        day = np.random.randint(1, 32)\n",
        "    birth_days.append(day)\n",
        "\n",
        "birth_days = np.array(birth_days)\n",
        "\n",
        "# Generate regions with different distributions\n",
        "regions = np.random.choice(['A', 'B', 'C', 'D', 'E'], n_people, p=[0.3, 0.25, 0.2, 0.15, 0.1])\n",
        "\n",
        "# Generate genders (slightly more females than males)\n",
        "genders = np.random.choice(['M', 'F'], n_people, p=[0.48, 0.52])\n",
        "\n",
        "# Create the dataframe\n",
        "birthday_df = pd.DataFrame({\n",
        "    'person_id': person_ids,\n",
        "    'birth_month': birth_months,\n",
        "    'birth_day': birth_days,\n",
        "    'birth_year': birth_years,\n",
        "    'region': regions,\n",
        "    'gender': genders\n",
        "})\n",
        "\n",
        "# Add some regional variations in birth patterns\n",
        "for region in ['A', 'B', 'C', 'D', 'E']:\n",
        "    mask = birthday_df['region'] == region\n",
        "    if region == 'A':  # Region A has more winter births\n",
        "        idx = birthday_df.loc[mask & (birthday_df['birth_month'].isin([12, 1, 2]))].index\n",
        "        n_shift = int(len(idx) * 0.2)\n",
        "        birthday_df.loc[idx[:n_shift], 'birth_month'] = np.random.choice([12, 1, 2], n_shift)\n",
        "    elif region == 'B':  # Region B has more spring births\n",
        "        idx = birthday_df.loc[mask & (birthday_df['birth_month'].isin([3, 4, 5]))].index\n",
        "        n_shift = int(len(idx) * 0.2)\n",
        "        birthday_df.loc[idx[:n_shift], 'birth_month'] = np.random.choice([3, 4, 5], n_shift)\n",
        "\n",
        "# Save to CSV\n",
        "birthday_df.to_csv('birthday.csv', index=False)\n",
        "\n",
        "print(\"Dataset created successfully!\")\n",
        "\n",
        "########## DO NOT CHANGE THIS BLOCK ##########"
      ]
    },
    {
      "cell_type": "markdown",
      "metadata": {
        "id": "0y90fbVyZKVI"
      },
      "source": [
        "### 1.2.1 Load Data [2 points]"
      ]
    },
    {
      "cell_type": "markdown",
      "metadata": {
        "id": "NO8xE1HYZKVI"
      },
      "source": [
        "In hypothesis testing, we start by assuming a baseline called the null hypothesis. For this test, the null hypothesis (H₀) is that the Birthday Paradox does not hold true in generated data. This means that, under the null hypothesis, the probability of finding at least one shared birthday in a group of 23 people is not greater than 45%.\n",
        "\n",
        "As a brief review, to determine whether we can reject or fail to reject the null hypothesis, we will:\n",
        "\n",
        "1. Set up the hypotheses:\n",
        "    -  **H₀: The probability of finding at least one shared birthday in a group of 23 people is ≤ 45%.**\n",
        "    - **H₁: The probability of finding at least one shared birthday in a group of 23 people is > 45%.**\n",
        "\n",
        "2. Analyze the data: We will calculate the observed proportion of groups with shared birthdays using the birthday dataset.\n",
        "\n",
        "3. Simulate random outcomes: We will simulate a large number of random groups where birthdays are uniformly distributed throughout the year, assuming the null hypothesis is true.\n",
        "\n",
        "4. Compare observed results to simulations: We will determine how often the simulated results produce shared birthday rates as extreme or more extreme than the observed data. This will give us a p-value, which tells us the likelihood of observing the current data under the null hypothesis.\n",
        "\n",
        "5. Make a decision: Based on the p-value, we will decide whether to reject or fail to reject the null hypothesis:\n",
        "    * If the p-value is below a **threshold** (in this case we'll use 0.08), we will reject the null hypothesis and conclude that home field advantage likely exists. Intuitively, a small p-value means that the data we observed is extremely unlikely to occur under the null hypothesis.\n",
        "    * If the p-value is higher, we will fail to reject the null hypothesis, meaning the evidence is not strong enough to suggest home field advantage."
      ]
    },
    {
      "cell_type": "markdown",
      "metadata": {
        "id": "QMOpOFoqZKVJ"
      },
      "source": [
        "Before diving into the simulation, we need to load in the data first.\n",
        "\n",
        "**TODO:**\n",
        "\n",
        "\n",
        "*   Load `birthday.csv` and save the data to a dataframe called `birthday_df`.\n",
        "*   Create a new column birthday that combines `birth_month` and `birth_day` to represent the day of the year (1-365), you can just use **2001** year as datetime parameter for simplicity.\n",
        "*   Inspect the first five rows. There are many columns in this dataframe, but think about which ones we will actually need for hypothesis testing.\n",
        "\n",
        "**Hint:**\n",
        "* use `np.nan` to handle invalid dates."
      ]
    },
    {
      "cell_type": "code",
      "execution_count": 13,
      "metadata": {
        "id": "av91eSQuZKVJ",
        "colab": {
          "base_uri": "https://localhost:8080/",
          "height": 206
        },
        "outputId": "dbeb8985-c3ae-4123-e8a3-e0b7e6800e06"
      },
      "outputs": [
        {
          "output_type": "execute_result",
          "data": {
            "text/plain": [
              "   person_id  birth_month  birth_day  birth_year region gender  birthday\n",
              "0          1            6         12        1988      A      M     163.0\n",
              "1          2            6         29        1978      A      F     180.0\n",
              "2          3            3          3        1964      B      F      62.0\n",
              "3          4            5         23        1992      C      M     143.0\n",
              "4          5            7         22        1957      A      F     203.0"
            ],
            "text/html": [
              "\n",
              "  <div id=\"df-be1a8790-38f0-4bc7-a74f-0babd625d713\" class=\"colab-df-container\">\n",
              "    <div>\n",
              "<style scoped>\n",
              "    .dataframe tbody tr th:only-of-type {\n",
              "        vertical-align: middle;\n",
              "    }\n",
              "\n",
              "    .dataframe tbody tr th {\n",
              "        vertical-align: top;\n",
              "    }\n",
              "\n",
              "    .dataframe thead th {\n",
              "        text-align: right;\n",
              "    }\n",
              "</style>\n",
              "<table border=\"1\" class=\"dataframe\">\n",
              "  <thead>\n",
              "    <tr style=\"text-align: right;\">\n",
              "      <th></th>\n",
              "      <th>person_id</th>\n",
              "      <th>birth_month</th>\n",
              "      <th>birth_day</th>\n",
              "      <th>birth_year</th>\n",
              "      <th>region</th>\n",
              "      <th>gender</th>\n",
              "      <th>birthday</th>\n",
              "    </tr>\n",
              "  </thead>\n",
              "  <tbody>\n",
              "    <tr>\n",
              "      <th>0</th>\n",
              "      <td>1</td>\n",
              "      <td>6</td>\n",
              "      <td>12</td>\n",
              "      <td>1988</td>\n",
              "      <td>A</td>\n",
              "      <td>M</td>\n",
              "      <td>163.0</td>\n",
              "    </tr>\n",
              "    <tr>\n",
              "      <th>1</th>\n",
              "      <td>2</td>\n",
              "      <td>6</td>\n",
              "      <td>29</td>\n",
              "      <td>1978</td>\n",
              "      <td>A</td>\n",
              "      <td>F</td>\n",
              "      <td>180.0</td>\n",
              "    </tr>\n",
              "    <tr>\n",
              "      <th>2</th>\n",
              "      <td>3</td>\n",
              "      <td>3</td>\n",
              "      <td>3</td>\n",
              "      <td>1964</td>\n",
              "      <td>B</td>\n",
              "      <td>F</td>\n",
              "      <td>62.0</td>\n",
              "    </tr>\n",
              "    <tr>\n",
              "      <th>3</th>\n",
              "      <td>4</td>\n",
              "      <td>5</td>\n",
              "      <td>23</td>\n",
              "      <td>1992</td>\n",
              "      <td>C</td>\n",
              "      <td>M</td>\n",
              "      <td>143.0</td>\n",
              "    </tr>\n",
              "    <tr>\n",
              "      <th>4</th>\n",
              "      <td>5</td>\n",
              "      <td>7</td>\n",
              "      <td>22</td>\n",
              "      <td>1957</td>\n",
              "      <td>A</td>\n",
              "      <td>F</td>\n",
              "      <td>203.0</td>\n",
              "    </tr>\n",
              "  </tbody>\n",
              "</table>\n",
              "</div>\n",
              "    <div class=\"colab-df-buttons\">\n",
              "\n",
              "  <div class=\"colab-df-container\">\n",
              "    <button class=\"colab-df-convert\" onclick=\"convertToInteractive('df-be1a8790-38f0-4bc7-a74f-0babd625d713')\"\n",
              "            title=\"Convert this dataframe to an interactive table.\"\n",
              "            style=\"display:none;\">\n",
              "\n",
              "  <svg xmlns=\"http://www.w3.org/2000/svg\" height=\"24px\" viewBox=\"0 -960 960 960\">\n",
              "    <path d=\"M120-120v-720h720v720H120Zm60-500h600v-160H180v160Zm220 220h160v-160H400v160Zm0 220h160v-160H400v160ZM180-400h160v-160H180v160Zm440 0h160v-160H620v160ZM180-180h160v-160H180v160Zm440 0h160v-160H620v160Z\"/>\n",
              "  </svg>\n",
              "    </button>\n",
              "\n",
              "  <style>\n",
              "    .colab-df-container {\n",
              "      display:flex;\n",
              "      gap: 12px;\n",
              "    }\n",
              "\n",
              "    .colab-df-convert {\n",
              "      background-color: #E8F0FE;\n",
              "      border: none;\n",
              "      border-radius: 50%;\n",
              "      cursor: pointer;\n",
              "      display: none;\n",
              "      fill: #1967D2;\n",
              "      height: 32px;\n",
              "      padding: 0 0 0 0;\n",
              "      width: 32px;\n",
              "    }\n",
              "\n",
              "    .colab-df-convert:hover {\n",
              "      background-color: #E2EBFA;\n",
              "      box-shadow: 0px 1px 2px rgba(60, 64, 67, 0.3), 0px 1px 3px 1px rgba(60, 64, 67, 0.15);\n",
              "      fill: #174EA6;\n",
              "    }\n",
              "\n",
              "    .colab-df-buttons div {\n",
              "      margin-bottom: 4px;\n",
              "    }\n",
              "\n",
              "    [theme=dark] .colab-df-convert {\n",
              "      background-color: #3B4455;\n",
              "      fill: #D2E3FC;\n",
              "    }\n",
              "\n",
              "    [theme=dark] .colab-df-convert:hover {\n",
              "      background-color: #434B5C;\n",
              "      box-shadow: 0px 1px 3px 1px rgba(0, 0, 0, 0.15);\n",
              "      filter: drop-shadow(0px 1px 2px rgba(0, 0, 0, 0.3));\n",
              "      fill: #FFFFFF;\n",
              "    }\n",
              "  </style>\n",
              "\n",
              "    <script>\n",
              "      const buttonEl =\n",
              "        document.querySelector('#df-be1a8790-38f0-4bc7-a74f-0babd625d713 button.colab-df-convert');\n",
              "      buttonEl.style.display =\n",
              "        google.colab.kernel.accessAllowed ? 'block' : 'none';\n",
              "\n",
              "      async function convertToInteractive(key) {\n",
              "        const element = document.querySelector('#df-be1a8790-38f0-4bc7-a74f-0babd625d713');\n",
              "        const dataTable =\n",
              "          await google.colab.kernel.invokeFunction('convertToInteractive',\n",
              "                                                    [key], {});\n",
              "        if (!dataTable) return;\n",
              "\n",
              "        const docLinkHtml = 'Like what you see? Visit the ' +\n",
              "          '<a target=\"_blank\" href=https://colab.research.google.com/notebooks/data_table.ipynb>data table notebook</a>'\n",
              "          + ' to learn more about interactive tables.';\n",
              "        element.innerHTML = '';\n",
              "        dataTable['output_type'] = 'display_data';\n",
              "        await google.colab.output.renderOutput(dataTable, element);\n",
              "        const docLink = document.createElement('div');\n",
              "        docLink.innerHTML = docLinkHtml;\n",
              "        element.appendChild(docLink);\n",
              "      }\n",
              "    </script>\n",
              "  </div>\n",
              "\n",
              "\n",
              "<div id=\"df-70e3bbc6-b8a9-46a9-8e28-19cd7de47f79\">\n",
              "  <button class=\"colab-df-quickchart\" onclick=\"quickchart('df-70e3bbc6-b8a9-46a9-8e28-19cd7de47f79')\"\n",
              "            title=\"Suggest charts\"\n",
              "            style=\"display:none;\">\n",
              "\n",
              "<svg xmlns=\"http://www.w3.org/2000/svg\" height=\"24px\"viewBox=\"0 0 24 24\"\n",
              "     width=\"24px\">\n",
              "    <g>\n",
              "        <path d=\"M19 3H5c-1.1 0-2 .9-2 2v14c0 1.1.9 2 2 2h14c1.1 0 2-.9 2-2V5c0-1.1-.9-2-2-2zM9 17H7v-7h2v7zm4 0h-2V7h2v10zm4 0h-2v-4h2v4z\"/>\n",
              "    </g>\n",
              "</svg>\n",
              "  </button>\n",
              "\n",
              "<style>\n",
              "  .colab-df-quickchart {\n",
              "      --bg-color: #E8F0FE;\n",
              "      --fill-color: #1967D2;\n",
              "      --hover-bg-color: #E2EBFA;\n",
              "      --hover-fill-color: #174EA6;\n",
              "      --disabled-fill-color: #AAA;\n",
              "      --disabled-bg-color: #DDD;\n",
              "  }\n",
              "\n",
              "  [theme=dark] .colab-df-quickchart {\n",
              "      --bg-color: #3B4455;\n",
              "      --fill-color: #D2E3FC;\n",
              "      --hover-bg-color: #434B5C;\n",
              "      --hover-fill-color: #FFFFFF;\n",
              "      --disabled-bg-color: #3B4455;\n",
              "      --disabled-fill-color: #666;\n",
              "  }\n",
              "\n",
              "  .colab-df-quickchart {\n",
              "    background-color: var(--bg-color);\n",
              "    border: none;\n",
              "    border-radius: 50%;\n",
              "    cursor: pointer;\n",
              "    display: none;\n",
              "    fill: var(--fill-color);\n",
              "    height: 32px;\n",
              "    padding: 0;\n",
              "    width: 32px;\n",
              "  }\n",
              "\n",
              "  .colab-df-quickchart:hover {\n",
              "    background-color: var(--hover-bg-color);\n",
              "    box-shadow: 0 1px 2px rgba(60, 64, 67, 0.3), 0 1px 3px 1px rgba(60, 64, 67, 0.15);\n",
              "    fill: var(--button-hover-fill-color);\n",
              "  }\n",
              "\n",
              "  .colab-df-quickchart-complete:disabled,\n",
              "  .colab-df-quickchart-complete:disabled:hover {\n",
              "    background-color: var(--disabled-bg-color);\n",
              "    fill: var(--disabled-fill-color);\n",
              "    box-shadow: none;\n",
              "  }\n",
              "\n",
              "  .colab-df-spinner {\n",
              "    border: 2px solid var(--fill-color);\n",
              "    border-color: transparent;\n",
              "    border-bottom-color: var(--fill-color);\n",
              "    animation:\n",
              "      spin 1s steps(1) infinite;\n",
              "  }\n",
              "\n",
              "  @keyframes spin {\n",
              "    0% {\n",
              "      border-color: transparent;\n",
              "      border-bottom-color: var(--fill-color);\n",
              "      border-left-color: var(--fill-color);\n",
              "    }\n",
              "    20% {\n",
              "      border-color: transparent;\n",
              "      border-left-color: var(--fill-color);\n",
              "      border-top-color: var(--fill-color);\n",
              "    }\n",
              "    30% {\n",
              "      border-color: transparent;\n",
              "      border-left-color: var(--fill-color);\n",
              "      border-top-color: var(--fill-color);\n",
              "      border-right-color: var(--fill-color);\n",
              "    }\n",
              "    40% {\n",
              "      border-color: transparent;\n",
              "      border-right-color: var(--fill-color);\n",
              "      border-top-color: var(--fill-color);\n",
              "    }\n",
              "    60% {\n",
              "      border-color: transparent;\n",
              "      border-right-color: var(--fill-color);\n",
              "    }\n",
              "    80% {\n",
              "      border-color: transparent;\n",
              "      border-right-color: var(--fill-color);\n",
              "      border-bottom-color: var(--fill-color);\n",
              "    }\n",
              "    90% {\n",
              "      border-color: transparent;\n",
              "      border-bottom-color: var(--fill-color);\n",
              "    }\n",
              "  }\n",
              "</style>\n",
              "\n",
              "  <script>\n",
              "    async function quickchart(key) {\n",
              "      const quickchartButtonEl =\n",
              "        document.querySelector('#' + key + ' button');\n",
              "      quickchartButtonEl.disabled = true;  // To prevent multiple clicks.\n",
              "      quickchartButtonEl.classList.add('colab-df-spinner');\n",
              "      try {\n",
              "        const charts = await google.colab.kernel.invokeFunction(\n",
              "            'suggestCharts', [key], {});\n",
              "      } catch (error) {\n",
              "        console.error('Error during call to suggestCharts:', error);\n",
              "      }\n",
              "      quickchartButtonEl.classList.remove('colab-df-spinner');\n",
              "      quickchartButtonEl.classList.add('colab-df-quickchart-complete');\n",
              "    }\n",
              "    (() => {\n",
              "      let quickchartButtonEl =\n",
              "        document.querySelector('#df-70e3bbc6-b8a9-46a9-8e28-19cd7de47f79 button');\n",
              "      quickchartButtonEl.style.display =\n",
              "        google.colab.kernel.accessAllowed ? 'block' : 'none';\n",
              "    })();\n",
              "  </script>\n",
              "</div>\n",
              "\n",
              "    </div>\n",
              "  </div>\n"
            ],
            "application/vnd.google.colaboratory.intrinsic+json": {
              "type": "dataframe",
              "variable_name": "birthday_df",
              "summary": "{\n  \"name\": \"birthday_df\",\n  \"rows\": 10000,\n  \"fields\": [\n    {\n      \"column\": \"person_id\",\n      \"properties\": {\n        \"dtype\": \"number\",\n        \"std\": 2886,\n        \"min\": 1,\n        \"max\": 10000,\n        \"num_unique_values\": 10000,\n        \"samples\": [\n          6253,\n          4685,\n          1732\n        ],\n        \"semantic_type\": \"\",\n        \"description\": \"\"\n      }\n    },\n    {\n      \"column\": \"birth_month\",\n      \"properties\": {\n        \"dtype\": \"number\",\n        \"std\": 3,\n        \"min\": 1,\n        \"max\": 12,\n        \"num_unique_values\": 12,\n        \"samples\": [\n          2,\n          1,\n          6\n        ],\n        \"semantic_type\": \"\",\n        \"description\": \"\"\n      }\n    },\n    {\n      \"column\": \"birth_day\",\n      \"properties\": {\n        \"dtype\": \"number\",\n        \"std\": 8,\n        \"min\": 1,\n        \"max\": 31,\n        \"num_unique_values\": 31,\n        \"samples\": [\n          31,\n          24,\n          6\n        ],\n        \"semantic_type\": \"\",\n        \"description\": \"\"\n      }\n    },\n    {\n      \"column\": \"birth_year\",\n      \"properties\": {\n        \"dtype\": \"number\",\n        \"std\": 14,\n        \"min\": 1950,\n        \"max\": 2000,\n        \"num_unique_values\": 51,\n        \"samples\": [\n          1997,\n          1983,\n          1950\n        ],\n        \"semantic_type\": \"\",\n        \"description\": \"\"\n      }\n    },\n    {\n      \"column\": \"region\",\n      \"properties\": {\n        \"dtype\": \"category\",\n        \"num_unique_values\": 5,\n        \"samples\": [\n          \"B\",\n          \"D\",\n          \"C\"\n        ],\n        \"semantic_type\": \"\",\n        \"description\": \"\"\n      }\n    },\n    {\n      \"column\": \"gender\",\n      \"properties\": {\n        \"dtype\": \"category\",\n        \"num_unique_values\": 2,\n        \"samples\": [\n          \"F\",\n          \"M\"\n        ],\n        \"semantic_type\": \"\",\n        \"description\": \"\"\n      }\n    },\n    {\n      \"column\": \"birthday\",\n      \"properties\": {\n        \"dtype\": \"number\",\n        \"std\": 99.71850894942577,\n        \"min\": 1.0,\n        \"max\": 365.0,\n        \"num_unique_values\": 365,\n        \"samples\": [\n          196.0,\n          99.0\n        ],\n        \"semantic_type\": \"\",\n        \"description\": \"\"\n      }\n    }\n  ]\n}"
            }
          },
          "metadata": {},
          "execution_count": 13
        }
      ],
      "source": [
        "# TODO: Load the dataset\n",
        "\n",
        "birthday_df = pd.read_csv('birthday.csv')\n",
        "\n",
        "# TODO: Create a function to convert month and day to day of year\n",
        "def get_day_of_year(month, day):\n",
        "    \"\"\"\n",
        "    Convert month and day to day of year (1-365)\n",
        "\n",
        "    Parameters:\n",
        "    month (int): Month (1-12)\n",
        "    day (int): Day (1-31)\n",
        "\n",
        "    Returns:\n",
        "    int: Day of year (1-365)\n",
        "    \"\"\"\n",
        "    # Hint: Use datetime to handle this conversion\n",
        "    try:\n",
        "        # Create a datetime object for the given month and day in 2001\n",
        "        date = dt.datetime(2001, month, day)\n",
        "        # Get the day of year (1-366) and adjust to (1-365)\n",
        "        day_of_year = date.timetuple().tm_yday\n",
        "\n",
        "        return day_of_year\n",
        "    except ValueError:\n",
        "        # Handle invalid dates by returning NaN\n",
        "        return np.nan\n",
        "\n",
        "# TODO: Apply the function to create a new column 'birthday'\n",
        "birthday_df['birthday'] = birthday_df.apply(lambda row: get_day_of_year(row['birth_month'], row['birth_day']), axis=1)\n",
        "\n",
        "\n",
        "birthday_df.head()"
      ]
    },
    {
      "cell_type": "code",
      "execution_count": 14,
      "metadata": {
        "id": "YmwpXqXJZKVJ",
        "colab": {
          "base_uri": "https://localhost:8080/"
        },
        "outputId": "37d05941-a709-45c1-f44c-f10eeba9e4c1"
      },
      "outputs": [
        {
          "output_type": "stream",
          "name": "stdout",
          "text": [
            "Correct! You earned 2/2 points. You are a star!\n",
            "\n",
            "Your submission has been successfully recorded in the gradebook.\n"
          ]
        }
      ],
      "source": [
        "grader.grade(test_case_id='test_birthday_data', answer=birthday_df)"
      ]
    },
    {
      "cell_type": "markdown",
      "metadata": {
        "id": "PHyYNd2gZKVJ"
      },
      "source": [
        "### 1.2.2 Calculate Original Test Statistic [5 points]\n",
        "\n",
        "Now, we'll calculate our test statistic: the proportion of randomly selected groups of 23 people that have at least one shared birthday.\n",
        "\n",
        "TODO:\n",
        "\n",
        "1. Write a function calculate_shared_birthday_proportion that:\n",
        "    * Takes a dataframe and group size as input\n",
        "    * Randomly samples a large number of groups of the specified size\n",
        "    * For each group, checks if any birthdays are shared\n",
        "    * Returns the proportion of groups with at least one shared birthday\n",
        "\n",
        "2. Calculate this proportion for groups of size 23 with 10000 samples\n",
        "\n",
        "3. Calculate the theoretical probability of at least one shared birthday in a group of n people. Do NOT use functions from 1.1."
      ]
    },
    {
      "cell_type": "code",
      "execution_count": 20,
      "metadata": {
        "id": "Y6lnes_1ZKVK",
        "colab": {
          "base_uri": "https://localhost:8080/"
        },
        "outputId": "40acacdd-953a-46ba-aac9-f9752bd7228b"
      },
      "outputs": [
        {
          "output_type": "stream",
          "name": "stdout",
          "text": [
            "Observed proportion of groups with shared birthdays: 0.5142\n",
            "Theoretical probability: 0.5073\n",
            "Difference: 0.0069\n"
          ]
        }
      ],
      "source": [
        "### DO NOT CHANGE ###\n",
        "np.random.seed(42)\n",
        "### DO NOT CHANGE ###\n",
        "\n",
        "def calculate_shared_birthday_proportion(data, group_size, n_samples=10000):\n",
        "    \"\"\"\n",
        "    Calculate the proportion of randomly sampled groups with at least one shared birthday.\n",
        "\n",
        "    Parameters:\n",
        "    data (DataFrame): DataFrame containing birthday data\n",
        "    group_size (int): Size of each random group\n",
        "    n_samples (int): Number of random samples to take\n",
        "\n",
        "    Returns:\n",
        "    float: Proportion of samples with at least one shared birthday\n",
        "    \"\"\"\n",
        "    # TODO: Implement this function\n",
        "    # Hint: Use data.sample(group_size) to randomly sample people\n",
        "\n",
        "    shared_birthday_count = 0\n",
        "    for _ in range(n_samples):\n",
        "        # Randomly sample a group of people\n",
        "        group = data.sample(group_size, replace=False)['birthday'].values\n",
        "\n",
        "        # Check if any birthdays are shared\n",
        "        if len(group) != len(np.unique(group)):\n",
        "            shared_birthday_count += 1\n",
        "\n",
        "    # Calculate and return the proportion\n",
        "    return shared_birthday_count / n_samples\n",
        "\n",
        "\n",
        "# TODO: Calculate the observed proportion for groups of size 23\n",
        "observed_proportion = calculate_shared_birthday_proportion(birthday_df, 23, n_samples=10000)\n",
        "\n",
        "\n",
        "# TODO: Calculate the theoretical probability\n",
        "def theoretical_probability(n):\n",
        "    \"\"\"\n",
        "    Calculate the theoretical probability of shared birthdays for a group of n people.\n",
        "\n",
        "    Parameters:\n",
        "    n (int): Number of people in the group\n",
        "\n",
        "    Returns:\n",
        "    float: Theoretical probability of at least one shared birthday\n",
        "    \"\"\"\n",
        "    # TODO: Implement this function\n",
        "    prob_no_shared = 1.0\n",
        "    for i in range(n):\n",
        "        prob_no_shared *= (365 - i) / 365\n",
        "\n",
        "    # The probability of at least one shared birthday is 1 minus the probability of no shared birthdays\n",
        "    return 1 - prob_no_shared\n",
        "\n",
        "\n",
        "theoretical_prob = theoretical_probability(23)\n",
        "\n",
        "print(f\"Observed proportion of groups with shared birthdays: {observed_proportion:.4f}\")\n",
        "print(f\"Theoretical probability: {theoretical_prob:.4f}\")\n",
        "print(f\"Difference: {abs(observed_proportion - theoretical_prob):.4f}\")"
      ]
    },
    {
      "cell_type": "code",
      "execution_count": 21,
      "metadata": {
        "id": "qK6v3ybsZKVK",
        "colab": {
          "base_uri": "https://localhost:8080/"
        },
        "outputId": "c0320089-b628-4570-c9d3-da9778702106"
      },
      "outputs": [
        {
          "output_type": "stream",
          "name": "stdout",
          "text": [
            "Correct! You earned 5/5 points. You are a star!\n",
            "\n",
            "Your submission has been successfully recorded in the gradebook.\n"
          ]
        }
      ],
      "source": [
        "grader.grade(test_case_id='test_birthday_statistic', answer=(observed_proportion, theoretical_prob))"
      ]
    },
    {
      "cell_type": "markdown",
      "metadata": {
        "id": "AmJZxZF5ZKVK"
      },
      "source": [
        "### 1.2.3 Simulate Under the Null Hypothesis [4 points]\n",
        "\n",
        "Under the null hypothesis, the probability of finding at least one shared birthday in a group of 23 people is not greater than 45%. Let's simulate this scenario. For 45%, we just set the adjuested days to 380 for better calculation.\n",
        "\n",
        "TODO:\n",
        "\n",
        "1. Write a function simulate_null_hypothesis that:\n",
        "    * Simulates a large number of random groups of 23 people as uniformly distributed birthdays with 1000 simulations and 1000 samples per simulation\n",
        "    * For each group, checks if any birthdays are shared\n",
        "    * Returns the proportion of groups with at least one shared birthday\n"
      ]
    },
    {
      "cell_type": "code",
      "execution_count": 22,
      "metadata": {
        "id": "u_1GU6M0ZKVQ",
        "colab": {
          "base_uri": "https://localhost:8080/"
        },
        "outputId": "a0b3bfd2-3c00-49b1-9367-a20d4f8345f3"
      },
      "outputs": [
        {
          "output_type": "stream",
          "name": "stdout",
          "text": [
            "Mean of null distribution: 0.4928\n",
            "Standard deviation of null distribution: 0.0153\n"
          ]
        }
      ],
      "source": [
        "### DO NOT CHANGE ###\n",
        "np.random.seed(42)\n",
        "### DO NOT CHANGE ###\n",
        "\n",
        "def simulate_null_hypothesis(group_size=23, n_simulations=1000, n_samples=1000):\n",
        "    \"\"\"\n",
        "    Simulate the null hypothesis that birthdays are uniformly distributed.\n",
        "\n",
        "    Parameters:\n",
        "    group_size (int): Size of each group\n",
        "    n_simulations (int): Number of simulations to run\n",
        "    n_samples (int): Number of samples per simulation\n",
        "\n",
        "    Returns:\n",
        "    numpy.ndarray: Array of proportions from each simulation\n",
        "    \"\"\"\n",
        "\n",
        "    # For 23 people, we need to solve: 1 - (n!/(n-23)! × n^23) = 0.45\n",
        "    # This is approximately n = 380 days\n",
        "\n",
        "    adjusted_days = 380  # This gives approximately 45% probability for 23 people\n",
        "\n",
        "\n",
        "    # TODO: Implement this function\n",
        "    # Hint: Use np.random.randint(1, adjusted_days+1, (n_samples, group_size)) to generate random birthdays\n",
        "\n",
        "    proportions = []\n",
        "    for _ in range(n_simulations):\n",
        "        # Generate random birthdays for all samples in this simulation\n",
        "        birthdays = np.random.randint(1, adjusted_days + 1, size=(n_samples, group_size))\n",
        "\n",
        "        # Check for shared birthdays in each sample\n",
        "        shared_birthdays = np.any(np.diff(np.sort(birthdays, axis=1), axis=1) == 0, axis=1)\n",
        "\n",
        "        # Calculate and store the proportion for this simulation\n",
        "        proportions.append(np.mean(shared_birthdays))\n",
        "\n",
        "    return np.array(proportions)  # Return as a NumPy array\n",
        "\n",
        "\n",
        "# Calculate summary statistics of the null distribution\n",
        "null_proportions = simulate_null_hypothesis()\n",
        "mean_null = np.mean(null_proportions)\n",
        "std_null = np.std(null_proportions)\n",
        "\n",
        "print(f\"Mean of null distribution: {mean_null:.4f}\")\n",
        "print(f\"Standard deviation of null distribution: {std_null:.4f}\")"
      ]
    },
    {
      "cell_type": "code",
      "execution_count": 23,
      "metadata": {
        "id": "AdEtUyQaZKVR",
        "colab": {
          "base_uri": "https://localhost:8080/"
        },
        "outputId": "da205bdf-ebb7-4c19-fab3-fd7b4e6f7f36"
      },
      "outputs": [
        {
          "output_type": "stream",
          "name": "stdout",
          "text": [
            "Correct! You earned 4/4 points. You are a star!\n",
            "\n",
            "Your submission has been successfully recorded in the gradebook.\n"
          ]
        }
      ],
      "source": [
        "grader.grade(test_case_id='test_birthday_null', answer=(mean_null, std_null))"
      ]
    },
    {
      "cell_type": "markdown",
      "metadata": {
        "id": "npMFLraNZKVR"
      },
      "source": [
        "### 1.2.4 P-value and Decision [3 points]\n",
        "\n",
        "Now, we'll calculate the p-value and make a decision about our hypothesis.\n",
        "\n",
        "TODO:\n",
        "\n",
        "1. Calculate the p-value as the proportion of simulations under the null hypothesis from 1.2.3 that produced a proportion of shared birthdays greater than or equal to the observed proportion from 1.2.2\n",
        "\n",
        "2. Based on the p-value, decide whether to reject or fail to reject the null hypothesis:\n",
        "    - If p-value < 0.08, reject the null hypothesis, and set decision = \"Reject\"\n",
        "    - Otherwise, fail to reject the null hypothesis, and set decision = \"Accept\""
      ]
    },
    {
      "cell_type": "code",
      "execution_count": 24,
      "metadata": {
        "id": "RAu6rJCxZKVR",
        "colab": {
          "base_uri": "https://localhost:8080/"
        },
        "outputId": "404521cf-0a01-4c26-8990-00103d1e3d66"
      },
      "outputs": [
        {
          "output_type": "stream",
          "name": "stdout",
          "text": [
            "p-value: 0.078000\n",
            "Since p-value (0.078000) < alpha (0.08), we reject the null hypothesis.\n",
            "There is sufficient evidence to suggest that the Birthday Paradox could be true in synthesized data with 45% threshold.\n"
          ]
        }
      ],
      "source": [
        "# TODO: Calculate the p-value\n",
        "p_value = np.mean(null_proportions >= observed_proportion)\n",
        "\n",
        "print(f\"p-value: {p_value:.6f}\")\n",
        "\n",
        "# TODO: Make a decision based on the p-value\n",
        "alpha = 0.08\n",
        "if p_value < alpha:\n",
        "    print(f\"Since p-value ({p_value:.6f}) < alpha ({alpha}), we reject the null hypothesis.\")\n",
        "    print(\"There is sufficient evidence to suggest that the Birthday Paradox could be true in synthesized data with 45% threshold.\")\n",
        "else:\n",
        "    print(f\"Since p-value ({p_value:.6f}) >= alpha ({alpha}), we fail to reject the null hypothesis.\")\n",
        "    print(\"There is insufficient evidence to suggest that the Birthday Paradox holds true in synthesized data even with 45% threshold.\")\n",
        "\n",
        "decision = \"Reject\" if p_value < alpha else \"Accept\""
      ]
    },
    {
      "cell_type": "code",
      "execution_count": 25,
      "metadata": {
        "id": "tot9GkD7ZKVR",
        "colab": {
          "base_uri": "https://localhost:8080/"
        },
        "outputId": "219e7640-e677-42dd-ecab-6028d994c7ec"
      },
      "outputs": [
        {
          "output_type": "stream",
          "name": "stdout",
          "text": [
            "Correct! You earned 3/3 points. You are a star!\n",
            "\n",
            "Your submission has been successfully recorded in the gradebook.\n"
          ]
        }
      ],
      "source": [
        "grader.grade(test_case_id='test_birthday_pvalue', answer=(p_value, alpha, decision))"
      ]
    },
    {
      "cell_type": "markdown",
      "metadata": {
        "id": "7fz87q7JuVIO"
      },
      "source": [
        "# Part 2. Linear Regression and Hypothesis Testing [Total 40 points]"
      ]
    },
    {
      "cell_type": "markdown",
      "metadata": {
        "id": "ADxjKgUpug-g"
      },
      "source": [
        "## 2.1 Load and Proprocess data [20 Points]\n",
        "In this section, we will use this [properties dataset](https://www.kaggle.com/datasets/dataregress/dubai-properties-dataset/data) from Kaggle to explore linear regression, interpret its results, and perform coefficients hypothesis testings. Our goal is to model the relationship between the price of a house and all of its other features.\n",
        "\n",
        "In supervised machine learning, regression and classification are two foundational tasks. While classification focuses on predicting discrete labels or categories, regression is concerned with predicting continuous values. One of the simplest and most widely used techniques for regression is linear regression, which models the relationship between input features and a continuous target variable by fitting a linear equation to the data.\n",
        "\n",
        "To load the data:\n",
        "1. Go to this [Kaggle link](https://www.kaggle.com) and create a Kaggle account (unless you already have one)\n",
        "2. Go to Settings, scroll down to the \"API\" section and click on \"Create New Token\" to get the API key in the form of a json file `kaggle.json`\n",
        "3. Upload the `kaggle.json` file to the default location in your Google Drive (Please **DO NOT** upload the json file into any _specific_ folder as it will be difficult for us to debug issues if you deviate from these instructions!).\n",
        "\n",
        "This can be helpful for your project if you decide to use Kaggle for your final project or for future projects!"
      ]
    },
    {
      "cell_type": "code",
      "source": [
        "# Run this cell to mount your drive (you will be prompted to sign in)\n",
        "from google.colab import drive\n",
        "drive.mount('/content/drive')"
      ],
      "metadata": {
        "id": "Vmpoyw099JT4",
        "colab": {
          "base_uri": "https://localhost:8080/"
        },
        "outputId": "c564e1a7-01df-405f-8dc7-838013e218d5"
      },
      "execution_count": 26,
      "outputs": [
        {
          "output_type": "stream",
          "name": "stdout",
          "text": [
            "Drive already mounted at /content/drive; to attempt to forcibly remount, call drive.mount(\"/content/drive\", force_remount=True).\n"
          ]
        }
      ]
    },
    {
      "cell_type": "code",
      "source": [
        "# Create the kaggle directory and\n",
        "# (NOTE: Do NOT run this cell more than once unless restarting kernel)\n",
        "!mkdir ~/.kaggle"
      ],
      "metadata": {
        "id": "U1Lc7jMn9QV-",
        "colab": {
          "base_uri": "https://localhost:8080/"
        },
        "outputId": "3d4fb705-78ac-4527-fe11-65d26ae5bd21"
      },
      "execution_count": 27,
      "outputs": [
        {
          "output_type": "stream",
          "name": "stdout",
          "text": [
            "mkdir: cannot create directory ‘/root/.kaggle’: File exists\n"
          ]
        }
      ]
    },
    {
      "cell_type": "code",
      "source": [
        "# Read the uploaded kaggle.json file\n",
        "!cp /content/drive/MyDrive/kaggle.json ~/.kaggle/"
      ],
      "metadata": {
        "id": "n0phhFN_9S_b"
      },
      "execution_count": 28,
      "outputs": []
    },
    {
      "cell_type": "code",
      "source": [
        "# Download dataset\n",
        "!kaggle datasets download -d dataregress/dubai-properties-dataset"
      ],
      "metadata": {
        "id": "IvD4EKd29Xaf",
        "colab": {
          "base_uri": "https://localhost:8080/"
        },
        "outputId": "b50b9c71-9629-4ef4-ec3a-fffef1e3cba6"
      },
      "execution_count": 29,
      "outputs": [
        {
          "output_type": "stream",
          "name": "stdout",
          "text": [
            "Dataset URL: https://www.kaggle.com/datasets/dataregress/dubai-properties-dataset\n",
            "License(s): CC0-1.0\n",
            "dubai-properties-dataset.zip: Skipping, found more recently modified local copy (use --force to force download)\n"
          ]
        }
      ]
    },
    {
      "cell_type": "code",
      "source": [
        "# Unzip folder in Colab content folder\n",
        "!unzip /content/dubai-properties-dataset.zip"
      ],
      "metadata": {
        "id": "hwqyJbC29aaT",
        "colab": {
          "base_uri": "https://localhost:8080/"
        },
        "outputId": "61aee47a-5366-4e13-f006-9d11c6af4d47"
      },
      "execution_count": 30,
      "outputs": [
        {
          "output_type": "stream",
          "name": "stdout",
          "text": [
            "Archive:  /content/dubai-properties-dataset.zip\n",
            "replace properties_data.csv? [y]es, [n]o, [A]ll, [N]one, [r]ename: y\n",
            "  inflating: properties_data.csv     \n"
          ]
        }
      ]
    },
    {
      "cell_type": "code",
      "execution_count": 31,
      "metadata": {
        "id": "EBYedIcgvgnt",
        "colab": {
          "base_uri": "https://localhost:8080/",
          "height": 325
        },
        "outputId": "3edaaad4-6c72-4ae7-ed54-e7d7b277927f"
      },
      "outputs": [
        {
          "output_type": "execute_result",
          "data": {
            "text/plain": [
              "        id          neighborhood   latitude  longitude    price  size_in_sqft  \\\n",
              "0  5528049         Palm Jumeirah  25.113208  55.138932  2700000          1079   \n",
              "1  6008529         Palm Jumeirah  25.106809  55.151201  2850000          1582   \n",
              "2  6034542  Jumeirah Lake Towers  25.063302  55.137728  1150000          1951   \n",
              "3  6326063       Culture Village  25.227295  55.341761  2850000          2020   \n",
              "4  6356778         Palm Jumeirah  25.114275  55.139764  1729200           507   \n",
              "\n",
              "   price_per_sqft  no_of_bedrooms  no_of_bathrooms quality  ...  private_pool  \\\n",
              "0         2502.32               1                2  Medium  ...         False   \n",
              "1         1801.52               2                2  Medium  ...         False   \n",
              "2          589.44               3                5  Medium  ...         False   \n",
              "3         1410.89               2                3     Low  ...         False   \n",
              "4         3410.65               0                1  Medium  ...         False   \n",
              "\n",
              "   security  shared_gym  shared_pool  shared_spa  study  vastu_compliant  \\\n",
              "0     False        True        False       False  False            False   \n",
              "1     False        True         True       False  False            False   \n",
              "2      True        True         True       False  False            False   \n",
              "3     False       False        False       False  False            False   \n",
              "4      True        True         True        True  False            False   \n",
              "\n",
              "   view_of_landmark  view_of_water  walk_in_closet  \n",
              "0             False           True           False  \n",
              "1             False           True           False  \n",
              "2              True           True            True  \n",
              "3             False          False           False  \n",
              "4              True           True           False  \n",
              "\n",
              "[5 rows x 38 columns]"
            ],
            "text/html": [
              "\n",
              "  <div id=\"df-38a8a252-7ae9-4fa2-ad41-34a524af7230\" class=\"colab-df-container\">\n",
              "    <div>\n",
              "<style scoped>\n",
              "    .dataframe tbody tr th:only-of-type {\n",
              "        vertical-align: middle;\n",
              "    }\n",
              "\n",
              "    .dataframe tbody tr th {\n",
              "        vertical-align: top;\n",
              "    }\n",
              "\n",
              "    .dataframe thead th {\n",
              "        text-align: right;\n",
              "    }\n",
              "</style>\n",
              "<table border=\"1\" class=\"dataframe\">\n",
              "  <thead>\n",
              "    <tr style=\"text-align: right;\">\n",
              "      <th></th>\n",
              "      <th>id</th>\n",
              "      <th>neighborhood</th>\n",
              "      <th>latitude</th>\n",
              "      <th>longitude</th>\n",
              "      <th>price</th>\n",
              "      <th>size_in_sqft</th>\n",
              "      <th>price_per_sqft</th>\n",
              "      <th>no_of_bedrooms</th>\n",
              "      <th>no_of_bathrooms</th>\n",
              "      <th>quality</th>\n",
              "      <th>...</th>\n",
              "      <th>private_pool</th>\n",
              "      <th>security</th>\n",
              "      <th>shared_gym</th>\n",
              "      <th>shared_pool</th>\n",
              "      <th>shared_spa</th>\n",
              "      <th>study</th>\n",
              "      <th>vastu_compliant</th>\n",
              "      <th>view_of_landmark</th>\n",
              "      <th>view_of_water</th>\n",
              "      <th>walk_in_closet</th>\n",
              "    </tr>\n",
              "  </thead>\n",
              "  <tbody>\n",
              "    <tr>\n",
              "      <th>0</th>\n",
              "      <td>5528049</td>\n",
              "      <td>Palm Jumeirah</td>\n",
              "      <td>25.113208</td>\n",
              "      <td>55.138932</td>\n",
              "      <td>2700000</td>\n",
              "      <td>1079</td>\n",
              "      <td>2502.32</td>\n",
              "      <td>1</td>\n",
              "      <td>2</td>\n",
              "      <td>Medium</td>\n",
              "      <td>...</td>\n",
              "      <td>False</td>\n",
              "      <td>False</td>\n",
              "      <td>True</td>\n",
              "      <td>False</td>\n",
              "      <td>False</td>\n",
              "      <td>False</td>\n",
              "      <td>False</td>\n",
              "      <td>False</td>\n",
              "      <td>True</td>\n",
              "      <td>False</td>\n",
              "    </tr>\n",
              "    <tr>\n",
              "      <th>1</th>\n",
              "      <td>6008529</td>\n",
              "      <td>Palm Jumeirah</td>\n",
              "      <td>25.106809</td>\n",
              "      <td>55.151201</td>\n",
              "      <td>2850000</td>\n",
              "      <td>1582</td>\n",
              "      <td>1801.52</td>\n",
              "      <td>2</td>\n",
              "      <td>2</td>\n",
              "      <td>Medium</td>\n",
              "      <td>...</td>\n",
              "      <td>False</td>\n",
              "      <td>False</td>\n",
              "      <td>True</td>\n",
              "      <td>True</td>\n",
              "      <td>False</td>\n",
              "      <td>False</td>\n",
              "      <td>False</td>\n",
              "      <td>False</td>\n",
              "      <td>True</td>\n",
              "      <td>False</td>\n",
              "    </tr>\n",
              "    <tr>\n",
              "      <th>2</th>\n",
              "      <td>6034542</td>\n",
              "      <td>Jumeirah Lake Towers</td>\n",
              "      <td>25.063302</td>\n",
              "      <td>55.137728</td>\n",
              "      <td>1150000</td>\n",
              "      <td>1951</td>\n",
              "      <td>589.44</td>\n",
              "      <td>3</td>\n",
              "      <td>5</td>\n",
              "      <td>Medium</td>\n",
              "      <td>...</td>\n",
              "      <td>False</td>\n",
              "      <td>True</td>\n",
              "      <td>True</td>\n",
              "      <td>True</td>\n",
              "      <td>False</td>\n",
              "      <td>False</td>\n",
              "      <td>False</td>\n",
              "      <td>True</td>\n",
              "      <td>True</td>\n",
              "      <td>True</td>\n",
              "    </tr>\n",
              "    <tr>\n",
              "      <th>3</th>\n",
              "      <td>6326063</td>\n",
              "      <td>Culture Village</td>\n",
              "      <td>25.227295</td>\n",
              "      <td>55.341761</td>\n",
              "      <td>2850000</td>\n",
              "      <td>2020</td>\n",
              "      <td>1410.89</td>\n",
              "      <td>2</td>\n",
              "      <td>3</td>\n",
              "      <td>Low</td>\n",
              "      <td>...</td>\n",
              "      <td>False</td>\n",
              "      <td>False</td>\n",
              "      <td>False</td>\n",
              "      <td>False</td>\n",
              "      <td>False</td>\n",
              "      <td>False</td>\n",
              "      <td>False</td>\n",
              "      <td>False</td>\n",
              "      <td>False</td>\n",
              "      <td>False</td>\n",
              "    </tr>\n",
              "    <tr>\n",
              "      <th>4</th>\n",
              "      <td>6356778</td>\n",
              "      <td>Palm Jumeirah</td>\n",
              "      <td>25.114275</td>\n",
              "      <td>55.139764</td>\n",
              "      <td>1729200</td>\n",
              "      <td>507</td>\n",
              "      <td>3410.65</td>\n",
              "      <td>0</td>\n",
              "      <td>1</td>\n",
              "      <td>Medium</td>\n",
              "      <td>...</td>\n",
              "      <td>False</td>\n",
              "      <td>True</td>\n",
              "      <td>True</td>\n",
              "      <td>True</td>\n",
              "      <td>True</td>\n",
              "      <td>False</td>\n",
              "      <td>False</td>\n",
              "      <td>True</td>\n",
              "      <td>True</td>\n",
              "      <td>False</td>\n",
              "    </tr>\n",
              "  </tbody>\n",
              "</table>\n",
              "<p>5 rows × 38 columns</p>\n",
              "</div>\n",
              "    <div class=\"colab-df-buttons\">\n",
              "\n",
              "  <div class=\"colab-df-container\">\n",
              "    <button class=\"colab-df-convert\" onclick=\"convertToInteractive('df-38a8a252-7ae9-4fa2-ad41-34a524af7230')\"\n",
              "            title=\"Convert this dataframe to an interactive table.\"\n",
              "            style=\"display:none;\">\n",
              "\n",
              "  <svg xmlns=\"http://www.w3.org/2000/svg\" height=\"24px\" viewBox=\"0 -960 960 960\">\n",
              "    <path d=\"M120-120v-720h720v720H120Zm60-500h600v-160H180v160Zm220 220h160v-160H400v160Zm0 220h160v-160H400v160ZM180-400h160v-160H180v160Zm440 0h160v-160H620v160ZM180-180h160v-160H180v160Zm440 0h160v-160H620v160Z\"/>\n",
              "  </svg>\n",
              "    </button>\n",
              "\n",
              "  <style>\n",
              "    .colab-df-container {\n",
              "      display:flex;\n",
              "      gap: 12px;\n",
              "    }\n",
              "\n",
              "    .colab-df-convert {\n",
              "      background-color: #E8F0FE;\n",
              "      border: none;\n",
              "      border-radius: 50%;\n",
              "      cursor: pointer;\n",
              "      display: none;\n",
              "      fill: #1967D2;\n",
              "      height: 32px;\n",
              "      padding: 0 0 0 0;\n",
              "      width: 32px;\n",
              "    }\n",
              "\n",
              "    .colab-df-convert:hover {\n",
              "      background-color: #E2EBFA;\n",
              "      box-shadow: 0px 1px 2px rgba(60, 64, 67, 0.3), 0px 1px 3px 1px rgba(60, 64, 67, 0.15);\n",
              "      fill: #174EA6;\n",
              "    }\n",
              "\n",
              "    .colab-df-buttons div {\n",
              "      margin-bottom: 4px;\n",
              "    }\n",
              "\n",
              "    [theme=dark] .colab-df-convert {\n",
              "      background-color: #3B4455;\n",
              "      fill: #D2E3FC;\n",
              "    }\n",
              "\n",
              "    [theme=dark] .colab-df-convert:hover {\n",
              "      background-color: #434B5C;\n",
              "      box-shadow: 0px 1px 3px 1px rgba(0, 0, 0, 0.15);\n",
              "      filter: drop-shadow(0px 1px 2px rgba(0, 0, 0, 0.3));\n",
              "      fill: #FFFFFF;\n",
              "    }\n",
              "  </style>\n",
              "\n",
              "    <script>\n",
              "      const buttonEl =\n",
              "        document.querySelector('#df-38a8a252-7ae9-4fa2-ad41-34a524af7230 button.colab-df-convert');\n",
              "      buttonEl.style.display =\n",
              "        google.colab.kernel.accessAllowed ? 'block' : 'none';\n",
              "\n",
              "      async function convertToInteractive(key) {\n",
              "        const element = document.querySelector('#df-38a8a252-7ae9-4fa2-ad41-34a524af7230');\n",
              "        const dataTable =\n",
              "          await google.colab.kernel.invokeFunction('convertToInteractive',\n",
              "                                                    [key], {});\n",
              "        if (!dataTable) return;\n",
              "\n",
              "        const docLinkHtml = 'Like what you see? Visit the ' +\n",
              "          '<a target=\"_blank\" href=https://colab.research.google.com/notebooks/data_table.ipynb>data table notebook</a>'\n",
              "          + ' to learn more about interactive tables.';\n",
              "        element.innerHTML = '';\n",
              "        dataTable['output_type'] = 'display_data';\n",
              "        await google.colab.output.renderOutput(dataTable, element);\n",
              "        const docLink = document.createElement('div');\n",
              "        docLink.innerHTML = docLinkHtml;\n",
              "        element.appendChild(docLink);\n",
              "      }\n",
              "    </script>\n",
              "  </div>\n",
              "\n",
              "\n",
              "<div id=\"df-4a943bf0-a2dd-4063-be69-baacad7482db\">\n",
              "  <button class=\"colab-df-quickchart\" onclick=\"quickchart('df-4a943bf0-a2dd-4063-be69-baacad7482db')\"\n",
              "            title=\"Suggest charts\"\n",
              "            style=\"display:none;\">\n",
              "\n",
              "<svg xmlns=\"http://www.w3.org/2000/svg\" height=\"24px\"viewBox=\"0 0 24 24\"\n",
              "     width=\"24px\">\n",
              "    <g>\n",
              "        <path d=\"M19 3H5c-1.1 0-2 .9-2 2v14c0 1.1.9 2 2 2h14c1.1 0 2-.9 2-2V5c0-1.1-.9-2-2-2zM9 17H7v-7h2v7zm4 0h-2V7h2v10zm4 0h-2v-4h2v4z\"/>\n",
              "    </g>\n",
              "</svg>\n",
              "  </button>\n",
              "\n",
              "<style>\n",
              "  .colab-df-quickchart {\n",
              "      --bg-color: #E8F0FE;\n",
              "      --fill-color: #1967D2;\n",
              "      --hover-bg-color: #E2EBFA;\n",
              "      --hover-fill-color: #174EA6;\n",
              "      --disabled-fill-color: #AAA;\n",
              "      --disabled-bg-color: #DDD;\n",
              "  }\n",
              "\n",
              "  [theme=dark] .colab-df-quickchart {\n",
              "      --bg-color: #3B4455;\n",
              "      --fill-color: #D2E3FC;\n",
              "      --hover-bg-color: #434B5C;\n",
              "      --hover-fill-color: #FFFFFF;\n",
              "      --disabled-bg-color: #3B4455;\n",
              "      --disabled-fill-color: #666;\n",
              "  }\n",
              "\n",
              "  .colab-df-quickchart {\n",
              "    background-color: var(--bg-color);\n",
              "    border: none;\n",
              "    border-radius: 50%;\n",
              "    cursor: pointer;\n",
              "    display: none;\n",
              "    fill: var(--fill-color);\n",
              "    height: 32px;\n",
              "    padding: 0;\n",
              "    width: 32px;\n",
              "  }\n",
              "\n",
              "  .colab-df-quickchart:hover {\n",
              "    background-color: var(--hover-bg-color);\n",
              "    box-shadow: 0 1px 2px rgba(60, 64, 67, 0.3), 0 1px 3px 1px rgba(60, 64, 67, 0.15);\n",
              "    fill: var(--button-hover-fill-color);\n",
              "  }\n",
              "\n",
              "  .colab-df-quickchart-complete:disabled,\n",
              "  .colab-df-quickchart-complete:disabled:hover {\n",
              "    background-color: var(--disabled-bg-color);\n",
              "    fill: var(--disabled-fill-color);\n",
              "    box-shadow: none;\n",
              "  }\n",
              "\n",
              "  .colab-df-spinner {\n",
              "    border: 2px solid var(--fill-color);\n",
              "    border-color: transparent;\n",
              "    border-bottom-color: var(--fill-color);\n",
              "    animation:\n",
              "      spin 1s steps(1) infinite;\n",
              "  }\n",
              "\n",
              "  @keyframes spin {\n",
              "    0% {\n",
              "      border-color: transparent;\n",
              "      border-bottom-color: var(--fill-color);\n",
              "      border-left-color: var(--fill-color);\n",
              "    }\n",
              "    20% {\n",
              "      border-color: transparent;\n",
              "      border-left-color: var(--fill-color);\n",
              "      border-top-color: var(--fill-color);\n",
              "    }\n",
              "    30% {\n",
              "      border-color: transparent;\n",
              "      border-left-color: var(--fill-color);\n",
              "      border-top-color: var(--fill-color);\n",
              "      border-right-color: var(--fill-color);\n",
              "    }\n",
              "    40% {\n",
              "      border-color: transparent;\n",
              "      border-right-color: var(--fill-color);\n",
              "      border-top-color: var(--fill-color);\n",
              "    }\n",
              "    60% {\n",
              "      border-color: transparent;\n",
              "      border-right-color: var(--fill-color);\n",
              "    }\n",
              "    80% {\n",
              "      border-color: transparent;\n",
              "      border-right-color: var(--fill-color);\n",
              "      border-bottom-color: var(--fill-color);\n",
              "    }\n",
              "    90% {\n",
              "      border-color: transparent;\n",
              "      border-bottom-color: var(--fill-color);\n",
              "    }\n",
              "  }\n",
              "</style>\n",
              "\n",
              "  <script>\n",
              "    async function quickchart(key) {\n",
              "      const quickchartButtonEl =\n",
              "        document.querySelector('#' + key + ' button');\n",
              "      quickchartButtonEl.disabled = true;  // To prevent multiple clicks.\n",
              "      quickchartButtonEl.classList.add('colab-df-spinner');\n",
              "      try {\n",
              "        const charts = await google.colab.kernel.invokeFunction(\n",
              "            'suggestCharts', [key], {});\n",
              "      } catch (error) {\n",
              "        console.error('Error during call to suggestCharts:', error);\n",
              "      }\n",
              "      quickchartButtonEl.classList.remove('colab-df-spinner');\n",
              "      quickchartButtonEl.classList.add('colab-df-quickchart-complete');\n",
              "    }\n",
              "    (() => {\n",
              "      let quickchartButtonEl =\n",
              "        document.querySelector('#df-4a943bf0-a2dd-4063-be69-baacad7482db button');\n",
              "      quickchartButtonEl.style.display =\n",
              "        google.colab.kernel.accessAllowed ? 'block' : 'none';\n",
              "    })();\n",
              "  </script>\n",
              "</div>\n",
              "\n",
              "    </div>\n",
              "  </div>\n"
            ],
            "application/vnd.google.colaboratory.intrinsic+json": {
              "type": "dataframe",
              "variable_name": "properties_df"
            }
          },
          "metadata": {},
          "execution_count": 31
        }
      ],
      "source": [
        "# TODO: Read the csv file and save it to a dataframe called \"properties_df\"\n",
        "properties_df = pd.read_csv('properties_data.csv')\n",
        "\n",
        "# Check out the first five rows\n",
        "properties_df.head()"
      ]
    },
    {
      "cell_type": "code",
      "source": [
        "# Look at the data types in properties_df\n",
        "properties_df.info()"
      ],
      "metadata": {
        "id": "mo8IRtsWz1jP",
        "colab": {
          "base_uri": "https://localhost:8080/"
        },
        "outputId": "a8bb8fd1-6acd-44ce-dac2-1acb22b36e95"
      },
      "execution_count": 32,
      "outputs": [
        {
          "output_type": "stream",
          "name": "stdout",
          "text": [
            "<class 'pandas.core.frame.DataFrame'>\n",
            "RangeIndex: 1905 entries, 0 to 1904\n",
            "Data columns (total 38 columns):\n",
            " #   Column               Non-Null Count  Dtype  \n",
            "---  ------               --------------  -----  \n",
            " 0   id                   1905 non-null   int64  \n",
            " 1   neighborhood         1905 non-null   object \n",
            " 2   latitude             1905 non-null   float64\n",
            " 3   longitude            1905 non-null   float64\n",
            " 4   price                1905 non-null   int64  \n",
            " 5   size_in_sqft         1905 non-null   int64  \n",
            " 6   price_per_sqft       1905 non-null   float64\n",
            " 7   no_of_bedrooms       1905 non-null   int64  \n",
            " 8   no_of_bathrooms      1905 non-null   int64  \n",
            " 9   quality              1905 non-null   object \n",
            " 10  maid_room            1905 non-null   bool   \n",
            " 11  unfurnished          1905 non-null   bool   \n",
            " 12  balcony              1905 non-null   bool   \n",
            " 13  barbecue_area        1905 non-null   bool   \n",
            " 14  built_in_wardrobes   1905 non-null   bool   \n",
            " 15  central_ac           1905 non-null   bool   \n",
            " 16  childrens_play_area  1905 non-null   bool   \n",
            " 17  childrens_pool       1905 non-null   bool   \n",
            " 18  concierge            1905 non-null   bool   \n",
            " 19  covered_parking      1905 non-null   bool   \n",
            " 20  kitchen_appliances   1905 non-null   bool   \n",
            " 21  lobby_in_building    1905 non-null   bool   \n",
            " 22  maid_service         1905 non-null   bool   \n",
            " 23  networked            1905 non-null   bool   \n",
            " 24  pets_allowed         1905 non-null   bool   \n",
            " 25  private_garden       1905 non-null   bool   \n",
            " 26  private_gym          1905 non-null   bool   \n",
            " 27  private_jacuzzi      1905 non-null   bool   \n",
            " 28  private_pool         1905 non-null   bool   \n",
            " 29  security             1905 non-null   bool   \n",
            " 30  shared_gym           1905 non-null   bool   \n",
            " 31  shared_pool          1905 non-null   bool   \n",
            " 32  shared_spa           1905 non-null   bool   \n",
            " 33  study                1905 non-null   bool   \n",
            " 34  vastu_compliant      1905 non-null   bool   \n",
            " 35  view_of_landmark     1905 non-null   bool   \n",
            " 36  view_of_water        1905 non-null   bool   \n",
            " 37  walk_in_closet       1905 non-null   bool   \n",
            "dtypes: bool(28), float64(3), int64(5), object(2)\n",
            "memory usage: 201.0+ KB\n"
          ]
        }
      ]
    },
    {
      "cell_type": "markdown",
      "metadata": {
        "id": "GiyUQ1VxywiW"
      },
      "source": [
        "### 2.1.1 Encode [5 points]\n",
        "For linear regression to run, it only accepts numerical values, so we need to convert all non-numerical columns into numerical ones. All of the non-numerical columns we want to consider are booleans, so we can encode them by casting the type of their columns to integers.\n",
        "\n",
        "Task:\n",
        "- Save a copy of the current table as `encoded_properties_df`\n",
        "- Drop the columns `id, price_per_sqft, latitude, longitude, neighborhood, and quality` from `encoded_properties_df`. We are doing this because `id`, `latitude`, and `longitude` are unlikely to have numerical significance, `quality` and `price_per_sqft` are too similar to our target variable, and there are too many categories for `neighborhood`\n",
        "- Create a list of all categorical features (boolean type) and save it as `categorical_features`\n",
        "- Create a list of all numerical features (non-boolean type) and save it as `numerical_features` to be used later. Do not include the `price` column in this list, as it will be our target variable\n",
        "- Cast all categorical feature columns to integer type to encode them as either 0 or 1"
      ]
    },
    {
      "cell_type": "code",
      "source": [
        "# DO NOT EDIT\n",
        "encoded_properties_df = properties_df.copy()"
      ],
      "metadata": {
        "id": "u_n7KCvL2ks_"
      },
      "execution_count": 33,
      "outputs": []
    },
    {
      "cell_type": "code",
      "execution_count": 34,
      "metadata": {
        "id": "GYg5bTCJ93oR"
      },
      "outputs": [],
      "source": [
        "# TODO: drop columns from `df_properties`\n",
        "encoded_properties_df  = encoded_properties_df.drop(['id', 'price_per_sqft', 'latitude', 'longitude', 'neighborhood', 'quality'], axis=1)"
      ]
    },
    {
      "cell_type": "code",
      "execution_count": 35,
      "metadata": {
        "id": "DkNR62lzywB7"
      },
      "outputs": [],
      "source": [
        "# TODO: create a list of all categorical features\n",
        "categorical_features = encoded_properties_df .select_dtypes(include=['bool']).columns.tolist()\n",
        "\n",
        "# TODO: create a list of all numerical features\n",
        "numerical_features = encoded_properties_df .select_dtypes(exclude=['bool']).drop('price', axis=1).columns.tolist()\n",
        "\n",
        "# TODO: cast all categorical features to integer type\n",
        "for feature in categorical_features:\n",
        "    encoded_properties_df[feature] = encoded_properties_df[feature].astype(int)"
      ]
    },
    {
      "cell_type": "code",
      "execution_count": 36,
      "metadata": {
        "id": "iKvS_doUA3-1",
        "colab": {
          "base_uri": "https://localhost:8080/"
        },
        "outputId": "b9f383c1-fcc9-4b24-e0d4-cfe313f60d9c"
      },
      "outputs": [
        {
          "output_type": "stream",
          "name": "stdout",
          "text": [
            "<class 'pandas.core.frame.DataFrame'>\n",
            "RangeIndex: 1905 entries, 0 to 1904\n",
            "Data columns (total 32 columns):\n",
            " #   Column               Non-Null Count  Dtype\n",
            "---  ------               --------------  -----\n",
            " 0   price                1905 non-null   int64\n",
            " 1   size_in_sqft         1905 non-null   int64\n",
            " 2   no_of_bedrooms       1905 non-null   int64\n",
            " 3   no_of_bathrooms      1905 non-null   int64\n",
            " 4   maid_room            1905 non-null   int64\n",
            " 5   unfurnished          1905 non-null   int64\n",
            " 6   balcony              1905 non-null   int64\n",
            " 7   barbecue_area        1905 non-null   int64\n",
            " 8   built_in_wardrobes   1905 non-null   int64\n",
            " 9   central_ac           1905 non-null   int64\n",
            " 10  childrens_play_area  1905 non-null   int64\n",
            " 11  childrens_pool       1905 non-null   int64\n",
            " 12  concierge            1905 non-null   int64\n",
            " 13  covered_parking      1905 non-null   int64\n",
            " 14  kitchen_appliances   1905 non-null   int64\n",
            " 15  lobby_in_building    1905 non-null   int64\n",
            " 16  maid_service         1905 non-null   int64\n",
            " 17  networked            1905 non-null   int64\n",
            " 18  pets_allowed         1905 non-null   int64\n",
            " 19  private_garden       1905 non-null   int64\n",
            " 20  private_gym          1905 non-null   int64\n",
            " 21  private_jacuzzi      1905 non-null   int64\n",
            " 22  private_pool         1905 non-null   int64\n",
            " 23  security             1905 non-null   int64\n",
            " 24  shared_gym           1905 non-null   int64\n",
            " 25  shared_pool          1905 non-null   int64\n",
            " 26  shared_spa           1905 non-null   int64\n",
            " 27  study                1905 non-null   int64\n",
            " 28  vastu_compliant      1905 non-null   int64\n",
            " 29  view_of_landmark     1905 non-null   int64\n",
            " 30  view_of_water        1905 non-null   int64\n",
            " 31  walk_in_closet       1905 non-null   int64\n",
            "dtypes: int64(32)\n",
            "memory usage: 476.4 KB\n"
          ]
        }
      ],
      "source": [
        "# self-check: no need to change datatypes for this section\n",
        "encoded_properties_df.info()"
      ]
    },
    {
      "cell_type": "code",
      "execution_count": 37,
      "metadata": {
        "id": "CB3gxw2_ycz8",
        "colab": {
          "base_uri": "https://localhost:8080/"
        },
        "outputId": "344befb2-7322-4f3a-a827-ab2a1562d67f"
      },
      "outputs": [
        {
          "output_type": "stream",
          "name": "stdout",
          "text": [
            "Correct! You earned 5/5 points. You are a star!\n",
            "\n",
            "Your submission has been successfully recorded in the gradebook.\n"
          ]
        }
      ],
      "source": [
        "# Grader Cell (5 points)\n",
        "grader.grade(test_case_id = 'properties_encode', answer = (categorical_features, numerical_features, encoded_properties_df))"
      ]
    },
    {
      "cell_type": "markdown",
      "metadata": {
        "id": "i8FvvT831xd2"
      },
      "source": [
        "### 2.1.2 Train-Test-Split [2 points]\n",
        "\n",
        "The overall goal of this regression tasks is the use the independent variables we have to make a prediction on the price of the property, so the `price` column will be our target<br>\n",
        "\n",
        "\n",
        "Conduct a train-test split on `encoded_properties_df`, assigning **80%** of the data to the training set and the remaining **20%** to the testing set. This ensures that the encoding and scaling we perform later are fitted only on the training data, preventing any spillover from the test data.\n",
        "\n",
        "- Name the outputs as `X_train`, `X_test`, `y_train`, and `y_test`.\n",
        "- Pass the argument `random_state = seed` in the function to fix the random state, ensuring consistency in our results.\n",
        "\n",
        "The documentation of train_test_split can be found: https://scikit-learn.org/stable/modules/generated/sklearn.model_selection.train_test_split.html"
      ]
    },
    {
      "cell_type": "code",
      "source": [
        "# DO NOT EDIT\n",
        "seed = 42"
      ],
      "metadata": {
        "id": "C0oIzEOD0-5I"
      },
      "execution_count": 38,
      "outputs": []
    },
    {
      "cell_type": "code",
      "execution_count": 39,
      "metadata": {
        "id": "9WwJrqVj1htR"
      },
      "outputs": [],
      "source": [
        "# TODO: perform train_test_split on encoded_properties_df\n",
        "# Assuming 'encoded_properties_df' is your DataFrame and 'price' is the target column\n",
        "X = encoded_properties_df.drop('price', axis=1)  # Features\n",
        "y = encoded_properties_df['price']  # Target variable\n",
        "\n",
        "# Perform the train-test split\n",
        "X_train, X_test, y_train, y_test = train_test_split(X, y, test_size=0.20, random_state=seed)"
      ]
    },
    {
      "cell_type": "code",
      "execution_count": 40,
      "metadata": {
        "id": "l6gfK1Bc4Nof",
        "colab": {
          "base_uri": "https://localhost:8080/"
        },
        "outputId": "a6b252a2-4981-4188-8784-afa528af94d0"
      },
      "outputs": [
        {
          "output_type": "stream",
          "name": "stdout",
          "text": [
            "Correct! You earned 2/2 points. You are a star!\n",
            "\n",
            "Your submission has been successfully recorded in the gradebook.\n"
          ]
        }
      ],
      "source": [
        "# Grader Cell (2 points)\n",
        "grader.grade(test_case_id = 'properties_train_test_split', answer = (X_train, X_test, y_train, y_test))"
      ]
    },
    {
      "cell_type": "markdown",
      "metadata": {
        "id": "xlPKb9HkCwe_"
      },
      "source": [
        "### 2.1.3 Scaling [3 points]\n",
        "\n",
        "As the final step in data pre-processing, we will prepare a scaled version of the data. Scaling refers to the process of mapping your features to a new range of values. This often helps machine learning models learn and converge faster. Some machine learning models are not *scale invariant*, meaning their ability to learn from the data can be impacted by the scale of the features. For example, models might give more influence to features with larger scales, implying that these features are more important than others, even when they should be treated with similar importance. Scaling features helps mitigate this issue.\n",
        "\n",
        "There are several strategies for scaling, but in this section we will use **Standardization** on our continuous numerical features. Standardizing the data ensures that each feature is centered around zero ($\\mu=0$) and has unit variance ($\\sigma^2=1$).\n",
        "\n",
        "**Task:**\n",
        "\n",
        "* Apply standardization to the `numerical_features` in both the training and testing datasets using `StandardScaler` from sklearn\n",
        "  * Make sure to include only the original numerical columns and not the newly encoded ones\n",
        "* Store the results in `X_train_scaled` and `X_test_scaled`\n",
        "\n",
        "**Note:**\n",
        "\n",
        "* Prevent data leakage by ensuring that scaling parameters are learned only from the training set.\n",
        "* While we only transform the original numerical columns, `X_train_scaled` and `X_test_scaled` should have the same shape as `X_train_encoded_full` and `X_test_encoded_full` from the end of section 2.1.2.\n",
        "\n",
        "The documentation for StandardScaler can be found here: https://scikit-learn.org/stable/modules/generated/sklearn.preprocessing.StandardScaler.html"
      ]
    },
    {
      "cell_type": "code",
      "execution_count": 41,
      "metadata": {
        "id": "FT91jh6oIAzv"
      },
      "outputs": [],
      "source": [
        "# DO NOT EDIT\n",
        "X_train_scaled = X_train.copy()\n",
        "X_test_scaled = X_test.copy()"
      ]
    },
    {
      "cell_type": "code",
      "execution_count": 42,
      "metadata": {
        "id": "2YBCuyttDpPj"
      },
      "outputs": [],
      "source": [
        "# TODO: instantiate a StandardScaler object\n",
        "scaler = StandardScaler()\n",
        "# TODO: fit and transform on relevant columns from the training data\n",
        "scaler.fit(X_train[numerical_features])\n",
        "\n",
        "# TODO: transform relevant columns from the testing data\n",
        "X_train_scaled = X_train.copy()\n",
        "X_test_scaled = X_test.copy()\n",
        "X_train_scaled[numerical_features] = scaler.transform(X_train[numerical_features])\n",
        "X_test_scaled[numerical_features] = scaler.transform(X_test[numerical_features])"
      ]
    },
    {
      "cell_type": "markdown",
      "metadata": {
        "id": "d7hht98RJ_xe"
      },
      "source": [
        "Print the head of your df to see if the transformed columns' values make sense"
      ]
    },
    {
      "cell_type": "code",
      "execution_count": 43,
      "metadata": {
        "id": "iiTQpDPLJ5CW",
        "colab": {
          "base_uri": "https://localhost:8080/",
          "height": 255
        },
        "outputId": "4d9ee69f-9bd4-4884-9c9d-58cc1a786d83"
      },
      "outputs": [
        {
          "output_type": "execute_result",
          "data": {
            "text/plain": [
              "      size_in_sqft  no_of_bedrooms  no_of_bathrooms  maid_room  unfurnished  \\\n",
              "812       1.127365        1.285056         0.450158          0            1   \n",
              "141       1.015458        1.285056         1.400353          1            0   \n",
              "1302      1.134217        1.285056         1.400353          1            1   \n",
              "1124      0.195569        0.207814         0.450158          0            1   \n",
              "1779     -0.540961       -0.869428        -0.500037          0            1   \n",
              "\n",
              "      balcony  barbecue_area  built_in_wardrobes  central_ac  \\\n",
              "812         0              0                   1           1   \n",
              "141         1              0                   1           0   \n",
              "1302        1              0                   1           1   \n",
              "1124        1              1                   1           1   \n",
              "1779        0              0                   1           1   \n",
              "\n",
              "      childrens_play_area  ...  private_pool  security  shared_gym  \\\n",
              "812                     1  ...             0         0           1   \n",
              "141                     0  ...             0         0           1   \n",
              "1302                    0  ...             0         1           0   \n",
              "1124                    1  ...             0         1           1   \n",
              "1779                    1  ...             0         0           0   \n",
              "\n",
              "      shared_pool  shared_spa  study  vastu_compliant  view_of_landmark  \\\n",
              "812             1           0      0                0                 1   \n",
              "141             0           0      0                0                 0   \n",
              "1302            0           0      0                0                 1   \n",
              "1124            1           1      1                1                 1   \n",
              "1779            1           0      0                0                 0   \n",
              "\n",
              "      view_of_water  walk_in_closet  \n",
              "812               0               0  \n",
              "141               1               0  \n",
              "1302              0               1  \n",
              "1124              1               1  \n",
              "1779              0               0  \n",
              "\n",
              "[5 rows x 31 columns]"
            ],
            "text/html": [
              "\n",
              "  <div id=\"df-17a80e2f-92ac-4832-a78d-6a18898349e5\" class=\"colab-df-container\">\n",
              "    <div>\n",
              "<style scoped>\n",
              "    .dataframe tbody tr th:only-of-type {\n",
              "        vertical-align: middle;\n",
              "    }\n",
              "\n",
              "    .dataframe tbody tr th {\n",
              "        vertical-align: top;\n",
              "    }\n",
              "\n",
              "    .dataframe thead th {\n",
              "        text-align: right;\n",
              "    }\n",
              "</style>\n",
              "<table border=\"1\" class=\"dataframe\">\n",
              "  <thead>\n",
              "    <tr style=\"text-align: right;\">\n",
              "      <th></th>\n",
              "      <th>size_in_sqft</th>\n",
              "      <th>no_of_bedrooms</th>\n",
              "      <th>no_of_bathrooms</th>\n",
              "      <th>maid_room</th>\n",
              "      <th>unfurnished</th>\n",
              "      <th>balcony</th>\n",
              "      <th>barbecue_area</th>\n",
              "      <th>built_in_wardrobes</th>\n",
              "      <th>central_ac</th>\n",
              "      <th>childrens_play_area</th>\n",
              "      <th>...</th>\n",
              "      <th>private_pool</th>\n",
              "      <th>security</th>\n",
              "      <th>shared_gym</th>\n",
              "      <th>shared_pool</th>\n",
              "      <th>shared_spa</th>\n",
              "      <th>study</th>\n",
              "      <th>vastu_compliant</th>\n",
              "      <th>view_of_landmark</th>\n",
              "      <th>view_of_water</th>\n",
              "      <th>walk_in_closet</th>\n",
              "    </tr>\n",
              "  </thead>\n",
              "  <tbody>\n",
              "    <tr>\n",
              "      <th>812</th>\n",
              "      <td>1.127365</td>\n",
              "      <td>1.285056</td>\n",
              "      <td>0.450158</td>\n",
              "      <td>0</td>\n",
              "      <td>1</td>\n",
              "      <td>0</td>\n",
              "      <td>0</td>\n",
              "      <td>1</td>\n",
              "      <td>1</td>\n",
              "      <td>1</td>\n",
              "      <td>...</td>\n",
              "      <td>0</td>\n",
              "      <td>0</td>\n",
              "      <td>1</td>\n",
              "      <td>1</td>\n",
              "      <td>0</td>\n",
              "      <td>0</td>\n",
              "      <td>0</td>\n",
              "      <td>1</td>\n",
              "      <td>0</td>\n",
              "      <td>0</td>\n",
              "    </tr>\n",
              "    <tr>\n",
              "      <th>141</th>\n",
              "      <td>1.015458</td>\n",
              "      <td>1.285056</td>\n",
              "      <td>1.400353</td>\n",
              "      <td>1</td>\n",
              "      <td>0</td>\n",
              "      <td>1</td>\n",
              "      <td>0</td>\n",
              "      <td>1</td>\n",
              "      <td>0</td>\n",
              "      <td>0</td>\n",
              "      <td>...</td>\n",
              "      <td>0</td>\n",
              "      <td>0</td>\n",
              "      <td>1</td>\n",
              "      <td>0</td>\n",
              "      <td>0</td>\n",
              "      <td>0</td>\n",
              "      <td>0</td>\n",
              "      <td>0</td>\n",
              "      <td>1</td>\n",
              "      <td>0</td>\n",
              "    </tr>\n",
              "    <tr>\n",
              "      <th>1302</th>\n",
              "      <td>1.134217</td>\n",
              "      <td>1.285056</td>\n",
              "      <td>1.400353</td>\n",
              "      <td>1</td>\n",
              "      <td>1</td>\n",
              "      <td>1</td>\n",
              "      <td>0</td>\n",
              "      <td>1</td>\n",
              "      <td>1</td>\n",
              "      <td>0</td>\n",
              "      <td>...</td>\n",
              "      <td>0</td>\n",
              "      <td>1</td>\n",
              "      <td>0</td>\n",
              "      <td>0</td>\n",
              "      <td>0</td>\n",
              "      <td>0</td>\n",
              "      <td>0</td>\n",
              "      <td>1</td>\n",
              "      <td>0</td>\n",
              "      <td>1</td>\n",
              "    </tr>\n",
              "    <tr>\n",
              "      <th>1124</th>\n",
              "      <td>0.195569</td>\n",
              "      <td>0.207814</td>\n",
              "      <td>0.450158</td>\n",
              "      <td>0</td>\n",
              "      <td>1</td>\n",
              "      <td>1</td>\n",
              "      <td>1</td>\n",
              "      <td>1</td>\n",
              "      <td>1</td>\n",
              "      <td>1</td>\n",
              "      <td>...</td>\n",
              "      <td>0</td>\n",
              "      <td>1</td>\n",
              "      <td>1</td>\n",
              "      <td>1</td>\n",
              "      <td>1</td>\n",
              "      <td>1</td>\n",
              "      <td>1</td>\n",
              "      <td>1</td>\n",
              "      <td>1</td>\n",
              "      <td>1</td>\n",
              "    </tr>\n",
              "    <tr>\n",
              "      <th>1779</th>\n",
              "      <td>-0.540961</td>\n",
              "      <td>-0.869428</td>\n",
              "      <td>-0.500037</td>\n",
              "      <td>0</td>\n",
              "      <td>1</td>\n",
              "      <td>0</td>\n",
              "      <td>0</td>\n",
              "      <td>1</td>\n",
              "      <td>1</td>\n",
              "      <td>1</td>\n",
              "      <td>...</td>\n",
              "      <td>0</td>\n",
              "      <td>0</td>\n",
              "      <td>0</td>\n",
              "      <td>1</td>\n",
              "      <td>0</td>\n",
              "      <td>0</td>\n",
              "      <td>0</td>\n",
              "      <td>0</td>\n",
              "      <td>0</td>\n",
              "      <td>0</td>\n",
              "    </tr>\n",
              "  </tbody>\n",
              "</table>\n",
              "<p>5 rows × 31 columns</p>\n",
              "</div>\n",
              "    <div class=\"colab-df-buttons\">\n",
              "\n",
              "  <div class=\"colab-df-container\">\n",
              "    <button class=\"colab-df-convert\" onclick=\"convertToInteractive('df-17a80e2f-92ac-4832-a78d-6a18898349e5')\"\n",
              "            title=\"Convert this dataframe to an interactive table.\"\n",
              "            style=\"display:none;\">\n",
              "\n",
              "  <svg xmlns=\"http://www.w3.org/2000/svg\" height=\"24px\" viewBox=\"0 -960 960 960\">\n",
              "    <path d=\"M120-120v-720h720v720H120Zm60-500h600v-160H180v160Zm220 220h160v-160H400v160Zm0 220h160v-160H400v160ZM180-400h160v-160H180v160Zm440 0h160v-160H620v160ZM180-180h160v-160H180v160Zm440 0h160v-160H620v160Z\"/>\n",
              "  </svg>\n",
              "    </button>\n",
              "\n",
              "  <style>\n",
              "    .colab-df-container {\n",
              "      display:flex;\n",
              "      gap: 12px;\n",
              "    }\n",
              "\n",
              "    .colab-df-convert {\n",
              "      background-color: #E8F0FE;\n",
              "      border: none;\n",
              "      border-radius: 50%;\n",
              "      cursor: pointer;\n",
              "      display: none;\n",
              "      fill: #1967D2;\n",
              "      height: 32px;\n",
              "      padding: 0 0 0 0;\n",
              "      width: 32px;\n",
              "    }\n",
              "\n",
              "    .colab-df-convert:hover {\n",
              "      background-color: #E2EBFA;\n",
              "      box-shadow: 0px 1px 2px rgba(60, 64, 67, 0.3), 0px 1px 3px 1px rgba(60, 64, 67, 0.15);\n",
              "      fill: #174EA6;\n",
              "    }\n",
              "\n",
              "    .colab-df-buttons div {\n",
              "      margin-bottom: 4px;\n",
              "    }\n",
              "\n",
              "    [theme=dark] .colab-df-convert {\n",
              "      background-color: #3B4455;\n",
              "      fill: #D2E3FC;\n",
              "    }\n",
              "\n",
              "    [theme=dark] .colab-df-convert:hover {\n",
              "      background-color: #434B5C;\n",
              "      box-shadow: 0px 1px 3px 1px rgba(0, 0, 0, 0.15);\n",
              "      filter: drop-shadow(0px 1px 2px rgba(0, 0, 0, 0.3));\n",
              "      fill: #FFFFFF;\n",
              "    }\n",
              "  </style>\n",
              "\n",
              "    <script>\n",
              "      const buttonEl =\n",
              "        document.querySelector('#df-17a80e2f-92ac-4832-a78d-6a18898349e5 button.colab-df-convert');\n",
              "      buttonEl.style.display =\n",
              "        google.colab.kernel.accessAllowed ? 'block' : 'none';\n",
              "\n",
              "      async function convertToInteractive(key) {\n",
              "        const element = document.querySelector('#df-17a80e2f-92ac-4832-a78d-6a18898349e5');\n",
              "        const dataTable =\n",
              "          await google.colab.kernel.invokeFunction('convertToInteractive',\n",
              "                                                    [key], {});\n",
              "        if (!dataTable) return;\n",
              "\n",
              "        const docLinkHtml = 'Like what you see? Visit the ' +\n",
              "          '<a target=\"_blank\" href=https://colab.research.google.com/notebooks/data_table.ipynb>data table notebook</a>'\n",
              "          + ' to learn more about interactive tables.';\n",
              "        element.innerHTML = '';\n",
              "        dataTable['output_type'] = 'display_data';\n",
              "        await google.colab.output.renderOutput(dataTable, element);\n",
              "        const docLink = document.createElement('div');\n",
              "        docLink.innerHTML = docLinkHtml;\n",
              "        element.appendChild(docLink);\n",
              "      }\n",
              "    </script>\n",
              "  </div>\n",
              "\n",
              "\n",
              "<div id=\"df-f2c9667e-d4bf-4224-b7e5-ab7514220384\">\n",
              "  <button class=\"colab-df-quickchart\" onclick=\"quickchart('df-f2c9667e-d4bf-4224-b7e5-ab7514220384')\"\n",
              "            title=\"Suggest charts\"\n",
              "            style=\"display:none;\">\n",
              "\n",
              "<svg xmlns=\"http://www.w3.org/2000/svg\" height=\"24px\"viewBox=\"0 0 24 24\"\n",
              "     width=\"24px\">\n",
              "    <g>\n",
              "        <path d=\"M19 3H5c-1.1 0-2 .9-2 2v14c0 1.1.9 2 2 2h14c1.1 0 2-.9 2-2V5c0-1.1-.9-2-2-2zM9 17H7v-7h2v7zm4 0h-2V7h2v10zm4 0h-2v-4h2v4z\"/>\n",
              "    </g>\n",
              "</svg>\n",
              "  </button>\n",
              "\n",
              "<style>\n",
              "  .colab-df-quickchart {\n",
              "      --bg-color: #E8F0FE;\n",
              "      --fill-color: #1967D2;\n",
              "      --hover-bg-color: #E2EBFA;\n",
              "      --hover-fill-color: #174EA6;\n",
              "      --disabled-fill-color: #AAA;\n",
              "      --disabled-bg-color: #DDD;\n",
              "  }\n",
              "\n",
              "  [theme=dark] .colab-df-quickchart {\n",
              "      --bg-color: #3B4455;\n",
              "      --fill-color: #D2E3FC;\n",
              "      --hover-bg-color: #434B5C;\n",
              "      --hover-fill-color: #FFFFFF;\n",
              "      --disabled-bg-color: #3B4455;\n",
              "      --disabled-fill-color: #666;\n",
              "  }\n",
              "\n",
              "  .colab-df-quickchart {\n",
              "    background-color: var(--bg-color);\n",
              "    border: none;\n",
              "    border-radius: 50%;\n",
              "    cursor: pointer;\n",
              "    display: none;\n",
              "    fill: var(--fill-color);\n",
              "    height: 32px;\n",
              "    padding: 0;\n",
              "    width: 32px;\n",
              "  }\n",
              "\n",
              "  .colab-df-quickchart:hover {\n",
              "    background-color: var(--hover-bg-color);\n",
              "    box-shadow: 0 1px 2px rgba(60, 64, 67, 0.3), 0 1px 3px 1px rgba(60, 64, 67, 0.15);\n",
              "    fill: var(--button-hover-fill-color);\n",
              "  }\n",
              "\n",
              "  .colab-df-quickchart-complete:disabled,\n",
              "  .colab-df-quickchart-complete:disabled:hover {\n",
              "    background-color: var(--disabled-bg-color);\n",
              "    fill: var(--disabled-fill-color);\n",
              "    box-shadow: none;\n",
              "  }\n",
              "\n",
              "  .colab-df-spinner {\n",
              "    border: 2px solid var(--fill-color);\n",
              "    border-color: transparent;\n",
              "    border-bottom-color: var(--fill-color);\n",
              "    animation:\n",
              "      spin 1s steps(1) infinite;\n",
              "  }\n",
              "\n",
              "  @keyframes spin {\n",
              "    0% {\n",
              "      border-color: transparent;\n",
              "      border-bottom-color: var(--fill-color);\n",
              "      border-left-color: var(--fill-color);\n",
              "    }\n",
              "    20% {\n",
              "      border-color: transparent;\n",
              "      border-left-color: var(--fill-color);\n",
              "      border-top-color: var(--fill-color);\n",
              "    }\n",
              "    30% {\n",
              "      border-color: transparent;\n",
              "      border-left-color: var(--fill-color);\n",
              "      border-top-color: var(--fill-color);\n",
              "      border-right-color: var(--fill-color);\n",
              "    }\n",
              "    40% {\n",
              "      border-color: transparent;\n",
              "      border-right-color: var(--fill-color);\n",
              "      border-top-color: var(--fill-color);\n",
              "    }\n",
              "    60% {\n",
              "      border-color: transparent;\n",
              "      border-right-color: var(--fill-color);\n",
              "    }\n",
              "    80% {\n",
              "      border-color: transparent;\n",
              "      border-right-color: var(--fill-color);\n",
              "      border-bottom-color: var(--fill-color);\n",
              "    }\n",
              "    90% {\n",
              "      border-color: transparent;\n",
              "      border-bottom-color: var(--fill-color);\n",
              "    }\n",
              "  }\n",
              "</style>\n",
              "\n",
              "  <script>\n",
              "    async function quickchart(key) {\n",
              "      const quickchartButtonEl =\n",
              "        document.querySelector('#' + key + ' button');\n",
              "      quickchartButtonEl.disabled = true;  // To prevent multiple clicks.\n",
              "      quickchartButtonEl.classList.add('colab-df-spinner');\n",
              "      try {\n",
              "        const charts = await google.colab.kernel.invokeFunction(\n",
              "            'suggestCharts', [key], {});\n",
              "      } catch (error) {\n",
              "        console.error('Error during call to suggestCharts:', error);\n",
              "      }\n",
              "      quickchartButtonEl.classList.remove('colab-df-spinner');\n",
              "      quickchartButtonEl.classList.add('colab-df-quickchart-complete');\n",
              "    }\n",
              "    (() => {\n",
              "      let quickchartButtonEl =\n",
              "        document.querySelector('#df-f2c9667e-d4bf-4224-b7e5-ab7514220384 button');\n",
              "      quickchartButtonEl.style.display =\n",
              "        google.colab.kernel.accessAllowed ? 'block' : 'none';\n",
              "    })();\n",
              "  </script>\n",
              "</div>\n",
              "\n",
              "    </div>\n",
              "  </div>\n"
            ],
            "application/vnd.google.colaboratory.intrinsic+json": {
              "type": "dataframe",
              "variable_name": "X_train_scaled"
            }
          },
          "metadata": {},
          "execution_count": 43
        }
      ],
      "source": [
        "X_train_scaled.head()"
      ]
    },
    {
      "cell_type": "code",
      "execution_count": 44,
      "metadata": {
        "id": "PKwpnVQIKJoQ",
        "colab": {
          "base_uri": "https://localhost:8080/"
        },
        "outputId": "6838a0fc-47c2-4130-8984-c86df61478d7"
      },
      "outputs": [
        {
          "output_type": "stream",
          "name": "stdout",
          "text": [
            "Correct! You earned 3/3 points. You are a star!\n",
            "\n",
            "Your submission has been successfully recorded in the gradebook.\n"
          ]
        }
      ],
      "source": [
        "# Grader Cell (3 points)\n",
        "grader.grade(test_case_id = 'properties_scaling', answer = (X_train_scaled, X_test_scaled))"
      ]
    },
    {
      "cell_type": "markdown",
      "metadata": {
        "id": "Sw4vtox6upTF"
      },
      "source": [
        "### 2.1.4 Unregularized [5 points]\n",
        "\n",
        "Use the `LinearRegression` class ([documentation](https://scikit-learn.org/stable/modules/generated/sklearn.linear_model.LinearRegression.html)) in scikit-learn to perform Linear Regression. Initialize a Linear regression model named `lr` with default parameters, fit the model to the training set, and then make predictions on the testing set.\n",
        "\n",
        "Save your test predictions in an array named `y_pred_lr`, and report your [R-squared score](https://scikit-learn.org/stable/modules/generated/sklearn.linear_model.LinearRegression.html#sklearn.linear_model.LinearRegression.score) for both train and test predictions"
      ]
    },
    {
      "cell_type": "code",
      "execution_count": 45,
      "metadata": {
        "id": "IWasFkS9La23"
      },
      "outputs": [],
      "source": [
        "from sklearn.linear_model import LinearRegression\n",
        "from sklearn.metrics import r2_score\n",
        "\n",
        "# TO-DO: Initialize model with default parameters and fit it on the training set\n",
        "lr = LinearRegression()\n",
        "lr.fit(X_train_scaled, y_train)\n",
        "# TO-DO: Use the model to predict on the test set and save these predictions as `y_pred_lr`\n",
        "y_pred_lr = lr.predict(X_test_scaled)\n",
        "# TO-DO: Find the R-squared score for test and train and store the value in `lr_score_test` and `lr_score_train`\n",
        "lr_score_train = r2_score(y_train, lr.predict(X_train_scaled))\n",
        "lr_score_test = r2_score(y_test, y_pred_lr)"
      ]
    },
    {
      "cell_type": "code",
      "execution_count": 46,
      "metadata": {
        "id": "03qQZRFZMuVv",
        "colab": {
          "base_uri": "https://localhost:8080/"
        },
        "outputId": "49c9ade5-4727-44c4-8880-517a328b4363"
      },
      "outputs": [
        {
          "output_type": "stream",
          "name": "stdout",
          "text": [
            "R² value for training set: 0.723\n",
            "R² value for test set: 0.727\n"
          ]
        }
      ],
      "source": [
        "# DO NOT EDIT\n",
        "print(f\"R² value for training set: {lr_score_train:.3f}\")\n",
        "print(f\"R² value for test set: {lr_score_test:.3f}\")"
      ]
    },
    {
      "cell_type": "code",
      "execution_count": 47,
      "metadata": {
        "id": "bBF555ds06Qy",
        "colab": {
          "base_uri": "https://localhost:8080/"
        },
        "outputId": "e9e158e8-199f-45ed-bbca-5d9c9e74f1e5"
      },
      "outputs": [
        {
          "output_type": "stream",
          "name": "stdout",
          "text": [
            "Correct! You earned 5/5 points. You are a star!\n",
            "\n",
            "Your submission has been successfully recorded in the gradebook.\n"
          ]
        }
      ],
      "source": [
        "# Grader Cell (5 points)\n",
        "grader.grade(test_case_id = 'properties_lr_unreg', answer = (lr_score_train, lr_score_test))"
      ]
    },
    {
      "cell_type": "markdown",
      "metadata": {
        "id": "DHsYQvhWus0k"
      },
      "source": [
        "### 2.1.5 Ridge [5 points]\n",
        "Use the `Ridge` class ([documentation](https://scikit-learn.org/1.5/modules/generated/sklearn.linear_model.Ridge.html))in scikit-learn to perform $L_2$ Regularized Linear Regression. Initialize a Ridge regression model named `lr_ridge` with regularization strength `alpha = 10`, fit the model to the training set, and then make predictions on both the training and testing set.\n",
        "\n",
        "Save your test predictions in an array named `y_pred_ridge`, and report your [R-squared score](https://scikit-learn.org/1.5/modules/generated/sklearn.linear_model.Ridge.html#sklearn.linear_model.Ridge.score) for both train and test predictions.\n",
        "\n",
        "**Note:**\n",
        "- Recall that Ridge regression is not scale-invariant, so you should use the scaled data from section 2.1.3"
      ]
    },
    {
      "cell_type": "code",
      "execution_count": 48,
      "metadata": {
        "id": "POAQDEk0O0cd"
      },
      "outputs": [],
      "source": [
        "from sklearn.linear_model import Ridge\n",
        "\n",
        "# TO-DO: Initialize model and fit it on the training set\n",
        "lr_ridge = Ridge(alpha=10)\n",
        "lr_ridge.fit(X_train_scaled, y_train)\n",
        "# TO-DO: Use the model to predict on the test set and save these predictions as `y_pred_ridge`\n",
        "y_pred_ridge = lr_ridge.predict(X_test_scaled)\n",
        "# TO-DO: Find the R-squared score for test and  and store the value in `ridge_score_train` and `ridge_score_test`\n",
        "ridge_score_train = r2_score(y_train, lr_ridge.predict(X_train_scaled))\n",
        "ridge_score_test = r2_score(y_test, y_pred_ridge)"
      ]
    },
    {
      "cell_type": "code",
      "execution_count": 49,
      "metadata": {
        "id": "X4ELbvcWP9J8",
        "colab": {
          "base_uri": "https://localhost:8080/"
        },
        "outputId": "91fc7474-cacd-4199-f500-5ca6664c0d77"
      },
      "outputs": [
        {
          "output_type": "stream",
          "name": "stdout",
          "text": [
            "R² value for training set: 0.722\n",
            "R² value for test set: 0.727\n"
          ]
        }
      ],
      "source": [
        "### DO NOT EDIT\n",
        "print(f\"R² value for training set: {ridge_score_train:.3f}\")\n",
        "print(f\"R² value for test set: {ridge_score_test:.3f}\")"
      ]
    },
    {
      "cell_type": "code",
      "execution_count": 50,
      "metadata": {
        "id": "0r5Gto8B2Gov",
        "colab": {
          "base_uri": "https://localhost:8080/"
        },
        "outputId": "889acc6f-ac81-469d-fb98-f74aa573535b"
      },
      "outputs": [
        {
          "output_type": "stream",
          "name": "stdout",
          "text": [
            "Correct! You earned 5/5 points. You are a star!\n",
            "\n",
            "Your submission has been successfully recorded in the gradebook.\n"
          ]
        }
      ],
      "source": [
        "# Grader Cell (5 points)\n",
        "grader.grade(test_case_id = 'properties_lr_ridge', answer = (ridge_score_train, ridge_score_test))"
      ]
    },
    {
      "cell_type": "markdown",
      "metadata": {
        "id": "A-I57qonY55o"
      },
      "source": [
        "Before moving on to the next section, let's quickly reflect on the regularized versus unregularized linear regression models and think about some relevant questions (*note this exercise is NOT graded, just for your own exercise*):\n",
        "\n",
        "1. When would we prefer L1 (LASSO) instead of L2? Recall that L1 (LASSO) versus L2 (Ridge) regularization: L1 is for sparisty (e.g., when you have more features than data points) and L2 is to encode an assumption that no input has drastically larger impact than another.\n",
        "2. What do you notice about the $R^2$ scores of the Ridge and unregularized Linear Regression above? If Ridge is supposed to \"improve\" Linear Regression, we may find it unusual if that is not happening here. Under what circumstances would we consider using Ridge over unregularized Linear Regression\n",
        "3. Would you expect different results if we made alpha bigger ( 𝛼→∞ )? smaller ( 𝛼→0 )? Why or why not?"
      ]
    },
    {
      "cell_type": "markdown",
      "metadata": {
        "id": "MEMNLW01u4RA"
      },
      "source": [
        "## 2.2 Descriptive Model [10 Points]\n",
        "\n",
        "Different from predictive model, for descriptive model we DO NOT perform train-test-split. The model is run on the whole set of data availbale."
      ]
    },
    {
      "cell_type": "markdown",
      "metadata": {
        "id": "Oxw--Rk9ocuk"
      },
      "source": [
        "### 2.2.1 Pre-process data for descriptive model [3 points]\n",
        "\n",
        "Recall that in Section 2.1.3, scaling is trained only on the training set. However, since the descriptive model uses the entire dataset, scaling should be trained on the ***full*** dataset. Since we already encoded the entire dataset, we can reuse `encoded_properties_df` as our starting point.\n",
        "\n",
        "\n",
        "**Task**:\n",
        "  - Save the feature and target columns into `X` and `y` respectively. The target column is `price` and the feature columns are all of the other columns\n",
        "  - Apply standardization to the original numerical columns using StandardScaler from sklearn\n",
        "  - Make sure to include only the original numerical columns and not the newly encoded ones"
      ]
    },
    {
      "cell_type": "code",
      "execution_count": 51,
      "metadata": {
        "id": "Ao1j8kFkocIh"
      },
      "outputs": [],
      "source": [
        "# Create feature and target tables\n",
        "X = encoded_properties_df.drop('price', axis=1)\n",
        "y = encoded_properties_df['price']"
      ]
    },
    {
      "cell_type": "code",
      "execution_count": 52,
      "metadata": {
        "id": "rMe44A4lqYmE"
      },
      "outputs": [],
      "source": [
        "# TODO: instantiate a StandardScaler object\n",
        "scaler = StandardScaler()\n",
        "# TODO: fit and transform on relevant columns from the training data\n",
        "X[numerical_features] = scaler.fit_transform(X[numerical_features])"
      ]
    },
    {
      "cell_type": "code",
      "execution_count": 53,
      "metadata": {
        "id": "8g0UVYhlsxCC",
        "colab": {
          "base_uri": "https://localhost:8080/"
        },
        "outputId": "f7fb6d05-4e00-4758-f22c-3c156f3f3f9a"
      },
      "outputs": [
        {
          "output_type": "stream",
          "name": "stdout",
          "text": [
            "Correct! You earned 3/3 points. You are a star!\n",
            "\n",
            "Your submission has been successfully recorded in the gradebook.\n"
          ]
        }
      ],
      "source": [
        "# Grader Cell (3 points)\n",
        "grader.grade(test_case_id = 'properties_descriptive_scaling', answer = (X, y))"
      ]
    },
    {
      "cell_type": "markdown",
      "metadata": {
        "id": "to4EAqM-s44l"
      },
      "source": [
        "### 2.2.2 Linear Regression [2 points]\n",
        "\n",
        "Use the `LinearRegression` class ([documentation](https://scikit-learn.org/stable/modules/generated/sklearn.linear_model.LinearRegression.html)) in scikit-learn to perform Linear Regression. Initialize a Linear regression model named `lr_descriptive` with default parameters, fit the model to `X` and `y`, and report your [R-squared score](https://scikit-learn.org/stable/modules/generated/sklearn.linear_model.LinearRegression.html#sklearn.linear_model.LinearRegression.score) between `X` and `y`"
      ]
    },
    {
      "cell_type": "code",
      "execution_count": 54,
      "metadata": {
        "id": "uJ582IBYtYwv",
        "colab": {
          "base_uri": "https://localhost:8080/"
        },
        "outputId": "f81fcade-5d4c-4236-e3a8-2d4a7599b3cf"
      },
      "outputs": [
        {
          "output_type": "execute_result",
          "data": {
            "text/plain": [
              "0.7251881898001231"
            ]
          },
          "metadata": {},
          "execution_count": 54
        }
      ],
      "source": [
        "from sklearn.linear_model import LinearRegression\n",
        "\n",
        "# TODO: Initialize model with default parameters and fit it on the training set\n",
        "lr_descriptive = LinearRegression()\n",
        "lr_descriptive.fit(X, y)\n",
        "# TODO: Find the R-squared score for test and  and store the value in `lr_score_descriptive`\n",
        "lr_score_descriptive =r2_score(y, lr_descriptive.predict(X))\n",
        "lr_score_descriptive"
      ]
    },
    {
      "cell_type": "code",
      "execution_count": 55,
      "metadata": {
        "id": "dLyTgYo6tqqZ",
        "colab": {
          "base_uri": "https://localhost:8080/"
        },
        "outputId": "307f6b7d-a3b2-4a71-c5dc-7f291800edea"
      },
      "outputs": [
        {
          "output_type": "stream",
          "name": "stdout",
          "text": [
            "Correct! You earned 2/2 points. You are a star!\n",
            "\n",
            "Your submission has been successfully recorded in the gradebook.\n"
          ]
        }
      ],
      "source": [
        "# Grader Cell (2 points)\n",
        "grader.grade(test_case_id = 'properties_lr_descriptive', answer = (lr_score_descriptive))"
      ]
    },
    {
      "cell_type": "markdown",
      "metadata": {
        "id": "0YA6Tc_6oPOP"
      },
      "source": [
        "### 2.2.3 Interpreting Coefficients [5 points] (manually graded)\n",
        "**Task**\n",
        "1. Print out the coefficients of the descriptive linear regression model from Section 2.2.3 along with the feature names in a DataFrame:\n",
        "\n",
        "| feature | coefficient |\n",
        "|---------|----------|\n",
        "|    ...     |    ...      |\n",
        "|    ...     |    ...      |\n",
        "\n",
        "2. Explain how size in square feet and the presence of a balcony affect the price\n",
        "\n",
        "**Note**\n",
        "1. Answer this question based on the coefficients of the model (e.g., if feature x increases by 1, how does that affect the cost?). Think about whether phrases like \"balcony increases by 1\" make sense, given it can only be 0 or 1; consider what an increase of 1 means for the scaled columns. Be explicit in explaining its meaning.\n",
        "2. Reference of getting the coefficients from linear regression models: https://www.statology.org/sklearn-regression-coefficients/\n",
        "3. Consider how you might you interpret the coefficients of your scaled features vs. your encoded features differently"
      ]
    },
    {
      "cell_type": "code",
      "execution_count": 56,
      "metadata": {
        "id": "zmGwmeZadqHb",
        "colab": {
          "base_uri": "https://localhost:8080/"
        },
        "outputId": "b1f1957d-7376-4514-a327-e5a7ed0afb1d"
      },
      "outputs": [
        {
          "output_type": "stream",
          "name": "stdout",
          "text": [
            "                feature   coefficient\n",
            "0          size_in_sqft  2.816150e+06\n",
            "1        no_of_bedrooms -6.762234e+05\n",
            "2       no_of_bathrooms -5.903475e+03\n",
            "3             maid_room -6.224876e+05\n",
            "4           unfurnished -1.160124e+05\n",
            "5               balcony  1.424954e+05\n",
            "6         barbecue_area -2.450784e+05\n",
            "7    built_in_wardrobes  1.415701e+05\n",
            "8            central_ac  2.381081e+05\n",
            "9   childrens_play_area -1.175384e+05\n",
            "10       childrens_pool -1.196038e+05\n",
            "11            concierge  3.797051e+05\n",
            "12      covered_parking -6.223711e+04\n",
            "13   kitchen_appliances -7.800800e+04\n",
            "14    lobby_in_building -4.982706e+05\n",
            "15         maid_service  5.722804e+05\n",
            "16            networked  5.692393e+05\n",
            "17         pets_allowed -3.438404e+05\n",
            "18       private_garden -5.051576e+05\n",
            "19          private_gym  3.780610e+05\n",
            "20      private_jacuzzi  1.916841e+05\n",
            "21         private_pool  1.677015e+06\n",
            "22             security -3.440602e+05\n",
            "23           shared_gym  1.412586e+05\n",
            "24          shared_pool -1.141709e+05\n",
            "25           shared_spa  2.151977e+05\n",
            "26                study -2.819841e+05\n",
            "27      vastu_compliant -2.519867e+05\n",
            "28     view_of_landmark  2.095254e+05\n",
            "29        view_of_water  2.484999e+05\n",
            "30       walk_in_closet  1.284993e+04\n"
          ]
        }
      ],
      "source": [
        "# TODO 1: print models' coefficients with matching column names\n",
        "coefficients = lr_descriptive.coef_\n",
        "coefficients_df = pd.DataFrame({'feature': X.columns, 'coefficient': coefficients})\n",
        "print(coefficients_df)"
      ]
    },
    {
      "cell_type": "markdown",
      "metadata": {
        "id": "UnSaoeiMcWNW"
      },
      "source": [
        "**TODO 2: Explain how `size_in_sqft` and `balcony` affect the price** <br>\n"
      ]
    },
    {
      "cell_type": "markdown",
      "source": [
        "Since size_in_sqft is a scaled feature, its coefficient represents the change in price (in the original units of price) for a one-standard-deviation increase in size_in_sqft. If the coefficient for size_in_sqft is 100,000, it means that for every one-standard-deviation increase in size_in_sqft, the price is expected to increase by 100,000 (assuming all other features remain constant).\n",
        "\n",
        "Since balcony is an encoded feature (0 or 1), its coefficient represents the change in price (in the original units of price) when the property has a balcony (balcony = 1) compared to when it doesn't (balcony = 0), holding all other features constant. If the coefficient for balcony is 50,000, it means that having a balcony is associated with an increase in price of 50,000 compared to not having a balcony, assuming all other features remain constant.\n",
        "\n",
        " The coefficients of scaled features represent the change in the target variable for a one-standard-deviation change in the feature. This allows for comparison of the relative importance of different features, even if they have different scales. The coefficients of encoded features represent the change in the target variable when the feature is present (encoded as 1) compared to when it's absent (encoded as 0).\n",
        "\n",
        " The interpretation assumes that the model is a good representation of the relationship between the features and the target variable. If the model is not a good fit, the interpretation of the coefficients may not be accurate."
      ],
      "metadata": {
        "id": "98KPVg6c_wJF"
      }
    },
    {
      "cell_type": "markdown",
      "metadata": {
        "id": "W6p-5q9XvIKe"
      },
      "source": [
        "## 2.3 Hypothesis Testing [10 Pointes]"
      ]
    },
    {
      "cell_type": "markdown",
      "metadata": {
        "id": "786urX8YIL84"
      },
      "source": [
        "### 2.3.1 Testing for *all* coefficients = 0 [5 points] (1 manually graded)\n",
        "\n",
        "\n",
        "Null Hypothesis: All coefficients of the unregularized model are 0, i.e., $\\beta_0 = \\beta_1 = ... = \\beta_n = 0$.\n",
        "\n",
        "**Task:**  \n",
        "\n",
        "Use the code template given, report the following:\n",
        "\n",
        "1. `original_r2`: The original model's $R^2$ value (you can use the value reported for the training data from Section 2.2.2).\n",
        "2. `simulated_r2`: An array of $R^2$ values from the permuted data linear regression simulations.\n",
        "3. `all_zero_p_value`: The p-value for the given null hypothesis, calculated by the proportion of times the simulated $R^2$ is larger than the original $R^2$.\n",
        "\n",
        "**Note:**\n",
        "- Use the method covered in lecture to complete this section (comparing $R^2$ values between the original regression and simulations of regressions on permuted data).\n",
        "- Do **NOT** use any additional imports.\n",
        "- We will manually check the code used and deduct points if necessary.\n",
        "- Start from `X` and `y`\n",
        "- Make a copy of `X` before shuffling"
      ]
    },
    {
      "cell_type": "code",
      "execution_count": 57,
      "metadata": {
        "id": "eAa19xPiIIAi"
      },
      "outputs": [],
      "source": [
        "from sklearn.utils import resample\n",
        "from sklearn.metrics import r2_score\n",
        "\n",
        "# Assume X and y are already defined\n",
        "X_copy = X.copy()  # Make a copy before shuffling\n",
        "y_copy = y.copy()\n",
        "\n",
        "# Fit original model\n",
        "model = LinearRegression()\n",
        "model.fit(X_copy, y_copy)\n",
        "original_r2 = r2_score(y_copy, model.predict(X_copy))\n",
        "\n",
        "simulated_r2 = []\n",
        "\n",
        "for _ in range(1000):\n",
        "    # Shuffle the target variable\n",
        "    y_permuted = np.random.permutation(y_copy)\n",
        "\n",
        "    # Fit linear regression model on shuffled data\n",
        "    permuted_model = LinearRegression()\n",
        "    permuted_model.fit(X_copy, y_permuted)\n",
        "\n",
        "    # Compute and store R^2 score\n",
        "    simulated_r2.append(r2_score(y_permuted, permuted_model.predict(X_copy)))\n",
        "\n",
        "# Compute p-value: proportion of times simulated R^2 >= original R^2\n",
        "all_zero_p_value = np.mean(np.array(simulated_r2) >= original_r2)"
      ]
    },
    {
      "cell_type": "code",
      "source": [
        "all_zero_p_value"
      ],
      "metadata": {
        "id": "0KzhurIBKbAo",
        "colab": {
          "base_uri": "https://localhost:8080/"
        },
        "outputId": "052ce064-28c1-4b73-c030-2ef12701fdc0"
      },
      "execution_count": 58,
      "outputs": [
        {
          "output_type": "execute_result",
          "data": {
            "text/plain": [
              "np.float64(0.0)"
            ]
          },
          "metadata": {},
          "execution_count": 58
        }
      ]
    },
    {
      "cell_type": "code",
      "execution_count": 59,
      "metadata": {
        "id": "kgEIvGnU94jY",
        "colab": {
          "base_uri": "https://localhost:8080/"
        },
        "outputId": "96b8143d-c3c3-4a7b-f7c4-d5ff553390fd"
      },
      "outputs": [
        {
          "output_type": "stream",
          "name": "stdout",
          "text": [
            "Correct! You earned 4/4 points. You are a star!\n",
            "\n",
            "Your submission has been successfully recorded in the gradebook.\n"
          ]
        }
      ],
      "source": [
        "# Grader Cell (4 points)\n",
        "grader.grade(test_case_id = 'properties_all_zero', answer = (simulated_r2, all_zero_p_value, original_r2))"
      ]
    },
    {
      "cell_type": "markdown",
      "metadata": {
        "id": "gPaRHKIx_niH"
      },
      "source": [
        "**TODO [Manually graded: 1 point]**\n",
        "\n",
        "Q: should we reject the null hypothesis\n",
        "\n",
        "A: yes, reject the null hypothesis"
      ]
    },
    {
      "cell_type": "markdown",
      "metadata": {
        "id": "gOx84Z3JASSJ"
      },
      "source": [
        "### 2.3.2  Testing for one particular coefficient is zero [5 points] (1 manually graded)\n",
        "Null hypothesis: The coefficient of `private_jacuzzi` in the full unregularized linear regression is 0.\n",
        "\n",
        "**Task:**  \n",
        "\n",
        "Use the code template given, report the following:\n",
        "\n",
        "1. `observed_r2`: The $R^2$ value when the linear regression is done without `priavte_jacuzzi` feature.\n",
        "2. `simulated_r2_one`: An array of $R^2$ values from residual testing linear regressions\n",
        "3. `all_zero_p_value`: The p-value for the given null hypothesis, calculated by the proportion of times the simulated $R^2$ is larger than the original $R^2$.\n",
        "\n",
        "**Note:**\n",
        "- Use the residual testing method covered in lecture to complete this section.\n",
        "- Do **NOT** use any additional imports.\n",
        "- We will manually check the code used and deduct points if necessary.\n",
        "- start from `X` and `y`"
      ]
    },
    {
      "cell_type": "code",
      "execution_count": 60,
      "metadata": {
        "id": "rdFot5oWASAJ"
      },
      "outputs": [],
      "source": [
        "from sklearn.metrics import r2_score\n",
        "\n",
        "# Remove the \"private_jacuzzi\" feature from X\n",
        "X_no_jacuzzi = X.drop(columns=[\"private_jacuzzi\"])\n",
        "\n",
        "# Fit linear regression without \"private_jacuzzi\"\n",
        "model_no_jacuzzi = LinearRegression()\n",
        "model_no_jacuzzi.fit(X_no_jacuzzi, y)\n",
        "observed_r2 = r2_score(y, model_no_jacuzzi.predict(X_no_jacuzzi))\n",
        "\n",
        "# Compute residuals from this model\n",
        "residuals = y - model_no_jacuzzi.predict(X_no_jacuzzi)\n",
        "\n",
        "simulated_r2_one = []\n",
        "\n",
        "for _ in range(1000):\n",
        "    # Shuffle residuals\n",
        "    shuffled_residuals = np.random.permutation(residuals)\n",
        "\n",
        "    # Create new y values by adding shuffled residuals back to predictions\n",
        "    y_permuted = model_no_jacuzzi.predict(X_no_jacuzzi) + shuffled_residuals\n",
        "\n",
        "    # Fit new model (without \"private_jacuzzi\") on permuted data\n",
        "    permuted_model = LinearRegression()\n",
        "    permuted_model.fit(X_no_jacuzzi, y_permuted)\n",
        "\n",
        "    # Compute and store R² score\n",
        "    simulated_r2_one.append(r2_score(y_permuted, permuted_model.predict(X_no_jacuzzi)))\n",
        "\n",
        "# Compute p-value: proportion of times simulated R^2 >= observed R^2\n",
        "one_zero_p_value = np.mean(np.array(simulated_r2_one) >= observed_r2)"
      ]
    },
    {
      "cell_type": "code",
      "source": [
        "one_zero_p_value"
      ],
      "metadata": {
        "id": "jGxkwQt8MVNq",
        "colab": {
          "base_uri": "https://localhost:8080/"
        },
        "outputId": "76a3a046-e01d-4c98-d556-8bf2273439ef"
      },
      "execution_count": 61,
      "outputs": [
        {
          "output_type": "execute_result",
          "data": {
            "text/plain": [
              "np.float64(0.769)"
            ]
          },
          "metadata": {},
          "execution_count": 61
        }
      ]
    },
    {
      "cell_type": "code",
      "execution_count": 62,
      "metadata": {
        "id": "4FB6LJSNqPVO",
        "colab": {
          "base_uri": "https://localhost:8080/"
        },
        "outputId": "48f5f7e1-f861-4a0e-a7fa-397a5192b980"
      },
      "outputs": [
        {
          "output_type": "stream",
          "name": "stdout",
          "text": [
            "Correct! You earned 4/4 points. You are a star!\n",
            "\n",
            "Your submission has been successfully recorded in the gradebook.\n"
          ]
        }
      ],
      "source": [
        "# Grader Cell (4 points)\n",
        "grader.grade(test_case_id = 'properties_one_zero', answer = (simulated_r2_one, one_zero_p_value, observed_r2))"
      ]
    },
    {
      "cell_type": "markdown",
      "metadata": {
        "id": "NiHSMOUaqmWn"
      },
      "source": [
        "**TODO [Manually graded: 1 point]**\n",
        "\n",
        "Q: should we reject the null hypothesis\n",
        "\n",
        "A: no, cannot reject the null hypothesis"
      ]
    },
    {
      "cell_type": "markdown",
      "source": [
        "# Part 3: Imbalanced Classification and Hyperparameter Tuning [42 Points]"
      ],
      "metadata": {
        "id": "iOF5bPJ-2bHX"
      }
    },
    {
      "cell_type": "markdown",
      "source": [
        "### 3.1: Load Data\n",
        "For this part, we will be using the Bank Marketing prediction dataset from Kaggle. This dataset contains 20 columns and about 40K rows.\n",
        "\n",
        "We will start by loading the data. First, we will handle rows with \"unknown\" values in any of their fields, since \"unknown\" does not give us much useful information. Most columns have sufficiently few unknown values that we can simply drop any rows that have it, but the `default` column has over 21% \"unknown\", with nearly every other row being \"no\". This column most likely does not provide us with much predictive power and we can drop it.\n",
        "\n",
        "In this section, we perform the following tasks for you. Please run all cells in this section before proceeding to the next.\n",
        "*   Load the dataset called `bank-direct-marketing-campaigns.csv` using `pd.read_csv()`\n",
        "*   Drop the column `default`\n",
        "*   Remove all rows that have value 'unknown' in any of the columns `job`, `marital`, `education`, `housing`, `loan`\n",
        "*   Reset index\n",
        "\n",
        "\n",
        "**There is nothing to do in this section -- but you must run all cells before proceeding.**"
      ],
      "metadata": {
        "id": "5gKcposJgNSi"
      }
    },
    {
      "cell_type": "code",
      "source": [
        "!kaggle datasets download ruthgn/bank-marketing-data-set"
      ],
      "metadata": {
        "id": "8d_Ob9VbgNpr",
        "colab": {
          "base_uri": "https://localhost:8080/"
        },
        "outputId": "e99c922a-7b32-438c-90a7-ee0821f6f075"
      },
      "execution_count": 63,
      "outputs": [
        {
          "output_type": "stream",
          "name": "stdout",
          "text": [
            "Dataset URL: https://www.kaggle.com/datasets/ruthgn/bank-marketing-data-set\n",
            "License(s): Attribution 4.0 International (CC BY 4.0)\n",
            "bank-marketing-data-set.zip: Skipping, found more recently modified local copy (use --force to force download)\n"
          ]
        }
      ]
    },
    {
      "cell_type": "code",
      "source": [
        "![ -f bank-direct-marketing-campaigns.csv ] || unzip bank-marketing-data-set.zip"
      ],
      "metadata": {
        "id": "vr8w1hHZgdJg"
      },
      "execution_count": 64,
      "outputs": []
    },
    {
      "cell_type": "code",
      "source": [
        "bank_df = pd.read_csv('bank-direct-marketing-campaigns.csv')\n",
        "bank_df.head()"
      ],
      "metadata": {
        "id": "wUxSVEcPgepg",
        "colab": {
          "base_uri": "https://localhost:8080/",
          "height": 226
        },
        "outputId": "5cbdb3ce-e4c7-4515-f6c8-0b27127aad3b"
      },
      "execution_count": 65,
      "outputs": [
        {
          "output_type": "execute_result",
          "data": {
            "text/plain": [
              "   age        job  marital    education  default housing loan    contact  \\\n",
              "0   56  housemaid  married     basic.4y       no      no   no  telephone   \n",
              "1   57   services  married  high.school  unknown      no   no  telephone   \n",
              "2   37   services  married  high.school       no     yes   no  telephone   \n",
              "3   40     admin.  married     basic.6y       no      no   no  telephone   \n",
              "4   56   services  married  high.school       no      no  yes  telephone   \n",
              "\n",
              "  month day_of_week  campaign  pdays  previous     poutcome  emp.var.rate  \\\n",
              "0   may         mon         1    999         0  nonexistent           1.1   \n",
              "1   may         mon         1    999         0  nonexistent           1.1   \n",
              "2   may         mon         1    999         0  nonexistent           1.1   \n",
              "3   may         mon         1    999         0  nonexistent           1.1   \n",
              "4   may         mon         1    999         0  nonexistent           1.1   \n",
              "\n",
              "   cons.price.idx  cons.conf.idx  euribor3m  nr.employed   y  \n",
              "0          93.994          -36.4      4.857       5191.0  no  \n",
              "1          93.994          -36.4      4.857       5191.0  no  \n",
              "2          93.994          -36.4      4.857       5191.0  no  \n",
              "3          93.994          -36.4      4.857       5191.0  no  \n",
              "4          93.994          -36.4      4.857       5191.0  no  "
            ],
            "text/html": [
              "\n",
              "  <div id=\"df-c72f6a1a-089b-42f8-a1f8-c7a8d89c1c9d\" class=\"colab-df-container\">\n",
              "    <div>\n",
              "<style scoped>\n",
              "    .dataframe tbody tr th:only-of-type {\n",
              "        vertical-align: middle;\n",
              "    }\n",
              "\n",
              "    .dataframe tbody tr th {\n",
              "        vertical-align: top;\n",
              "    }\n",
              "\n",
              "    .dataframe thead th {\n",
              "        text-align: right;\n",
              "    }\n",
              "</style>\n",
              "<table border=\"1\" class=\"dataframe\">\n",
              "  <thead>\n",
              "    <tr style=\"text-align: right;\">\n",
              "      <th></th>\n",
              "      <th>age</th>\n",
              "      <th>job</th>\n",
              "      <th>marital</th>\n",
              "      <th>education</th>\n",
              "      <th>default</th>\n",
              "      <th>housing</th>\n",
              "      <th>loan</th>\n",
              "      <th>contact</th>\n",
              "      <th>month</th>\n",
              "      <th>day_of_week</th>\n",
              "      <th>campaign</th>\n",
              "      <th>pdays</th>\n",
              "      <th>previous</th>\n",
              "      <th>poutcome</th>\n",
              "      <th>emp.var.rate</th>\n",
              "      <th>cons.price.idx</th>\n",
              "      <th>cons.conf.idx</th>\n",
              "      <th>euribor3m</th>\n",
              "      <th>nr.employed</th>\n",
              "      <th>y</th>\n",
              "    </tr>\n",
              "  </thead>\n",
              "  <tbody>\n",
              "    <tr>\n",
              "      <th>0</th>\n",
              "      <td>56</td>\n",
              "      <td>housemaid</td>\n",
              "      <td>married</td>\n",
              "      <td>basic.4y</td>\n",
              "      <td>no</td>\n",
              "      <td>no</td>\n",
              "      <td>no</td>\n",
              "      <td>telephone</td>\n",
              "      <td>may</td>\n",
              "      <td>mon</td>\n",
              "      <td>1</td>\n",
              "      <td>999</td>\n",
              "      <td>0</td>\n",
              "      <td>nonexistent</td>\n",
              "      <td>1.1</td>\n",
              "      <td>93.994</td>\n",
              "      <td>-36.4</td>\n",
              "      <td>4.857</td>\n",
              "      <td>5191.0</td>\n",
              "      <td>no</td>\n",
              "    </tr>\n",
              "    <tr>\n",
              "      <th>1</th>\n",
              "      <td>57</td>\n",
              "      <td>services</td>\n",
              "      <td>married</td>\n",
              "      <td>high.school</td>\n",
              "      <td>unknown</td>\n",
              "      <td>no</td>\n",
              "      <td>no</td>\n",
              "      <td>telephone</td>\n",
              "      <td>may</td>\n",
              "      <td>mon</td>\n",
              "      <td>1</td>\n",
              "      <td>999</td>\n",
              "      <td>0</td>\n",
              "      <td>nonexistent</td>\n",
              "      <td>1.1</td>\n",
              "      <td>93.994</td>\n",
              "      <td>-36.4</td>\n",
              "      <td>4.857</td>\n",
              "      <td>5191.0</td>\n",
              "      <td>no</td>\n",
              "    </tr>\n",
              "    <tr>\n",
              "      <th>2</th>\n",
              "      <td>37</td>\n",
              "      <td>services</td>\n",
              "      <td>married</td>\n",
              "      <td>high.school</td>\n",
              "      <td>no</td>\n",
              "      <td>yes</td>\n",
              "      <td>no</td>\n",
              "      <td>telephone</td>\n",
              "      <td>may</td>\n",
              "      <td>mon</td>\n",
              "      <td>1</td>\n",
              "      <td>999</td>\n",
              "      <td>0</td>\n",
              "      <td>nonexistent</td>\n",
              "      <td>1.1</td>\n",
              "      <td>93.994</td>\n",
              "      <td>-36.4</td>\n",
              "      <td>4.857</td>\n",
              "      <td>5191.0</td>\n",
              "      <td>no</td>\n",
              "    </tr>\n",
              "    <tr>\n",
              "      <th>3</th>\n",
              "      <td>40</td>\n",
              "      <td>admin.</td>\n",
              "      <td>married</td>\n",
              "      <td>basic.6y</td>\n",
              "      <td>no</td>\n",
              "      <td>no</td>\n",
              "      <td>no</td>\n",
              "      <td>telephone</td>\n",
              "      <td>may</td>\n",
              "      <td>mon</td>\n",
              "      <td>1</td>\n",
              "      <td>999</td>\n",
              "      <td>0</td>\n",
              "      <td>nonexistent</td>\n",
              "      <td>1.1</td>\n",
              "      <td>93.994</td>\n",
              "      <td>-36.4</td>\n",
              "      <td>4.857</td>\n",
              "      <td>5191.0</td>\n",
              "      <td>no</td>\n",
              "    </tr>\n",
              "    <tr>\n",
              "      <th>4</th>\n",
              "      <td>56</td>\n",
              "      <td>services</td>\n",
              "      <td>married</td>\n",
              "      <td>high.school</td>\n",
              "      <td>no</td>\n",
              "      <td>no</td>\n",
              "      <td>yes</td>\n",
              "      <td>telephone</td>\n",
              "      <td>may</td>\n",
              "      <td>mon</td>\n",
              "      <td>1</td>\n",
              "      <td>999</td>\n",
              "      <td>0</td>\n",
              "      <td>nonexistent</td>\n",
              "      <td>1.1</td>\n",
              "      <td>93.994</td>\n",
              "      <td>-36.4</td>\n",
              "      <td>4.857</td>\n",
              "      <td>5191.0</td>\n",
              "      <td>no</td>\n",
              "    </tr>\n",
              "  </tbody>\n",
              "</table>\n",
              "</div>\n",
              "    <div class=\"colab-df-buttons\">\n",
              "\n",
              "  <div class=\"colab-df-container\">\n",
              "    <button class=\"colab-df-convert\" onclick=\"convertToInteractive('df-c72f6a1a-089b-42f8-a1f8-c7a8d89c1c9d')\"\n",
              "            title=\"Convert this dataframe to an interactive table.\"\n",
              "            style=\"display:none;\">\n",
              "\n",
              "  <svg xmlns=\"http://www.w3.org/2000/svg\" height=\"24px\" viewBox=\"0 -960 960 960\">\n",
              "    <path d=\"M120-120v-720h720v720H120Zm60-500h600v-160H180v160Zm220 220h160v-160H400v160Zm0 220h160v-160H400v160ZM180-400h160v-160H180v160Zm440 0h160v-160H620v160ZM180-180h160v-160H180v160Zm440 0h160v-160H620v160Z\"/>\n",
              "  </svg>\n",
              "    </button>\n",
              "\n",
              "  <style>\n",
              "    .colab-df-container {\n",
              "      display:flex;\n",
              "      gap: 12px;\n",
              "    }\n",
              "\n",
              "    .colab-df-convert {\n",
              "      background-color: #E8F0FE;\n",
              "      border: none;\n",
              "      border-radius: 50%;\n",
              "      cursor: pointer;\n",
              "      display: none;\n",
              "      fill: #1967D2;\n",
              "      height: 32px;\n",
              "      padding: 0 0 0 0;\n",
              "      width: 32px;\n",
              "    }\n",
              "\n",
              "    .colab-df-convert:hover {\n",
              "      background-color: #E2EBFA;\n",
              "      box-shadow: 0px 1px 2px rgba(60, 64, 67, 0.3), 0px 1px 3px 1px rgba(60, 64, 67, 0.15);\n",
              "      fill: #174EA6;\n",
              "    }\n",
              "\n",
              "    .colab-df-buttons div {\n",
              "      margin-bottom: 4px;\n",
              "    }\n",
              "\n",
              "    [theme=dark] .colab-df-convert {\n",
              "      background-color: #3B4455;\n",
              "      fill: #D2E3FC;\n",
              "    }\n",
              "\n",
              "    [theme=dark] .colab-df-convert:hover {\n",
              "      background-color: #434B5C;\n",
              "      box-shadow: 0px 1px 3px 1px rgba(0, 0, 0, 0.15);\n",
              "      filter: drop-shadow(0px 1px 2px rgba(0, 0, 0, 0.3));\n",
              "      fill: #FFFFFF;\n",
              "    }\n",
              "  </style>\n",
              "\n",
              "    <script>\n",
              "      const buttonEl =\n",
              "        document.querySelector('#df-c72f6a1a-089b-42f8-a1f8-c7a8d89c1c9d button.colab-df-convert');\n",
              "      buttonEl.style.display =\n",
              "        google.colab.kernel.accessAllowed ? 'block' : 'none';\n",
              "\n",
              "      async function convertToInteractive(key) {\n",
              "        const element = document.querySelector('#df-c72f6a1a-089b-42f8-a1f8-c7a8d89c1c9d');\n",
              "        const dataTable =\n",
              "          await google.colab.kernel.invokeFunction('convertToInteractive',\n",
              "                                                    [key], {});\n",
              "        if (!dataTable) return;\n",
              "\n",
              "        const docLinkHtml = 'Like what you see? Visit the ' +\n",
              "          '<a target=\"_blank\" href=https://colab.research.google.com/notebooks/data_table.ipynb>data table notebook</a>'\n",
              "          + ' to learn more about interactive tables.';\n",
              "        element.innerHTML = '';\n",
              "        dataTable['output_type'] = 'display_data';\n",
              "        await google.colab.output.renderOutput(dataTable, element);\n",
              "        const docLink = document.createElement('div');\n",
              "        docLink.innerHTML = docLinkHtml;\n",
              "        element.appendChild(docLink);\n",
              "      }\n",
              "    </script>\n",
              "  </div>\n",
              "\n",
              "\n",
              "<div id=\"df-c057c65a-6285-4d8a-a01c-cb4f19f17401\">\n",
              "  <button class=\"colab-df-quickchart\" onclick=\"quickchart('df-c057c65a-6285-4d8a-a01c-cb4f19f17401')\"\n",
              "            title=\"Suggest charts\"\n",
              "            style=\"display:none;\">\n",
              "\n",
              "<svg xmlns=\"http://www.w3.org/2000/svg\" height=\"24px\"viewBox=\"0 0 24 24\"\n",
              "     width=\"24px\">\n",
              "    <g>\n",
              "        <path d=\"M19 3H5c-1.1 0-2 .9-2 2v14c0 1.1.9 2 2 2h14c1.1 0 2-.9 2-2V5c0-1.1-.9-2-2-2zM9 17H7v-7h2v7zm4 0h-2V7h2v10zm4 0h-2v-4h2v4z\"/>\n",
              "    </g>\n",
              "</svg>\n",
              "  </button>\n",
              "\n",
              "<style>\n",
              "  .colab-df-quickchart {\n",
              "      --bg-color: #E8F0FE;\n",
              "      --fill-color: #1967D2;\n",
              "      --hover-bg-color: #E2EBFA;\n",
              "      --hover-fill-color: #174EA6;\n",
              "      --disabled-fill-color: #AAA;\n",
              "      --disabled-bg-color: #DDD;\n",
              "  }\n",
              "\n",
              "  [theme=dark] .colab-df-quickchart {\n",
              "      --bg-color: #3B4455;\n",
              "      --fill-color: #D2E3FC;\n",
              "      --hover-bg-color: #434B5C;\n",
              "      --hover-fill-color: #FFFFFF;\n",
              "      --disabled-bg-color: #3B4455;\n",
              "      --disabled-fill-color: #666;\n",
              "  }\n",
              "\n",
              "  .colab-df-quickchart {\n",
              "    background-color: var(--bg-color);\n",
              "    border: none;\n",
              "    border-radius: 50%;\n",
              "    cursor: pointer;\n",
              "    display: none;\n",
              "    fill: var(--fill-color);\n",
              "    height: 32px;\n",
              "    padding: 0;\n",
              "    width: 32px;\n",
              "  }\n",
              "\n",
              "  .colab-df-quickchart:hover {\n",
              "    background-color: var(--hover-bg-color);\n",
              "    box-shadow: 0 1px 2px rgba(60, 64, 67, 0.3), 0 1px 3px 1px rgba(60, 64, 67, 0.15);\n",
              "    fill: var(--button-hover-fill-color);\n",
              "  }\n",
              "\n",
              "  .colab-df-quickchart-complete:disabled,\n",
              "  .colab-df-quickchart-complete:disabled:hover {\n",
              "    background-color: var(--disabled-bg-color);\n",
              "    fill: var(--disabled-fill-color);\n",
              "    box-shadow: none;\n",
              "  }\n",
              "\n",
              "  .colab-df-spinner {\n",
              "    border: 2px solid var(--fill-color);\n",
              "    border-color: transparent;\n",
              "    border-bottom-color: var(--fill-color);\n",
              "    animation:\n",
              "      spin 1s steps(1) infinite;\n",
              "  }\n",
              "\n",
              "  @keyframes spin {\n",
              "    0% {\n",
              "      border-color: transparent;\n",
              "      border-bottom-color: var(--fill-color);\n",
              "      border-left-color: var(--fill-color);\n",
              "    }\n",
              "    20% {\n",
              "      border-color: transparent;\n",
              "      border-left-color: var(--fill-color);\n",
              "      border-top-color: var(--fill-color);\n",
              "    }\n",
              "    30% {\n",
              "      border-color: transparent;\n",
              "      border-left-color: var(--fill-color);\n",
              "      border-top-color: var(--fill-color);\n",
              "      border-right-color: var(--fill-color);\n",
              "    }\n",
              "    40% {\n",
              "      border-color: transparent;\n",
              "      border-right-color: var(--fill-color);\n",
              "      border-top-color: var(--fill-color);\n",
              "    }\n",
              "    60% {\n",
              "      border-color: transparent;\n",
              "      border-right-color: var(--fill-color);\n",
              "    }\n",
              "    80% {\n",
              "      border-color: transparent;\n",
              "      border-right-color: var(--fill-color);\n",
              "      border-bottom-color: var(--fill-color);\n",
              "    }\n",
              "    90% {\n",
              "      border-color: transparent;\n",
              "      border-bottom-color: var(--fill-color);\n",
              "    }\n",
              "  }\n",
              "</style>\n",
              "\n",
              "  <script>\n",
              "    async function quickchart(key) {\n",
              "      const quickchartButtonEl =\n",
              "        document.querySelector('#' + key + ' button');\n",
              "      quickchartButtonEl.disabled = true;  // To prevent multiple clicks.\n",
              "      quickchartButtonEl.classList.add('colab-df-spinner');\n",
              "      try {\n",
              "        const charts = await google.colab.kernel.invokeFunction(\n",
              "            'suggestCharts', [key], {});\n",
              "      } catch (error) {\n",
              "        console.error('Error during call to suggestCharts:', error);\n",
              "      }\n",
              "      quickchartButtonEl.classList.remove('colab-df-spinner');\n",
              "      quickchartButtonEl.classList.add('colab-df-quickchart-complete');\n",
              "    }\n",
              "    (() => {\n",
              "      let quickchartButtonEl =\n",
              "        document.querySelector('#df-c057c65a-6285-4d8a-a01c-cb4f19f17401 button');\n",
              "      quickchartButtonEl.style.display =\n",
              "        google.colab.kernel.accessAllowed ? 'block' : 'none';\n",
              "    })();\n",
              "  </script>\n",
              "</div>\n",
              "\n",
              "    </div>\n",
              "  </div>\n"
            ],
            "application/vnd.google.colaboratory.intrinsic+json": {
              "type": "dataframe",
              "variable_name": "bank_df",
              "summary": "{\n  \"name\": \"bank_df\",\n  \"rows\": 41188,\n  \"fields\": [\n    {\n      \"column\": \"age\",\n      \"properties\": {\n        \"dtype\": \"number\",\n        \"std\": 10,\n        \"min\": 17,\n        \"max\": 98,\n        \"num_unique_values\": 78,\n        \"samples\": [\n          36,\n          56,\n          28\n        ],\n        \"semantic_type\": \"\",\n        \"description\": \"\"\n      }\n    },\n    {\n      \"column\": \"job\",\n      \"properties\": {\n        \"dtype\": \"category\",\n        \"num_unique_values\": 12,\n        \"samples\": [\n          \"entrepreneur\",\n          \"unknown\",\n          \"housemaid\"\n        ],\n        \"semantic_type\": \"\",\n        \"description\": \"\"\n      }\n    },\n    {\n      \"column\": \"marital\",\n      \"properties\": {\n        \"dtype\": \"category\",\n        \"num_unique_values\": 4,\n        \"samples\": [\n          \"single\",\n          \"unknown\",\n          \"married\"\n        ],\n        \"semantic_type\": \"\",\n        \"description\": \"\"\n      }\n    },\n    {\n      \"column\": \"education\",\n      \"properties\": {\n        \"dtype\": \"category\",\n        \"num_unique_values\": 8,\n        \"samples\": [\n          \"high.school\",\n          \"unknown\",\n          \"basic.4y\"\n        ],\n        \"semantic_type\": \"\",\n        \"description\": \"\"\n      }\n    },\n    {\n      \"column\": \"default\",\n      \"properties\": {\n        \"dtype\": \"category\",\n        \"num_unique_values\": 3,\n        \"samples\": [\n          \"no\",\n          \"unknown\",\n          \"yes\"\n        ],\n        \"semantic_type\": \"\",\n        \"description\": \"\"\n      }\n    },\n    {\n      \"column\": \"housing\",\n      \"properties\": {\n        \"dtype\": \"category\",\n        \"num_unique_values\": 3,\n        \"samples\": [\n          \"no\",\n          \"yes\",\n          \"unknown\"\n        ],\n        \"semantic_type\": \"\",\n        \"description\": \"\"\n      }\n    },\n    {\n      \"column\": \"loan\",\n      \"properties\": {\n        \"dtype\": \"category\",\n        \"num_unique_values\": 3,\n        \"samples\": [\n          \"no\",\n          \"yes\",\n          \"unknown\"\n        ],\n        \"semantic_type\": \"\",\n        \"description\": \"\"\n      }\n    },\n    {\n      \"column\": \"contact\",\n      \"properties\": {\n        \"dtype\": \"category\",\n        \"num_unique_values\": 2,\n        \"samples\": [\n          \"cellular\",\n          \"telephone\"\n        ],\n        \"semantic_type\": \"\",\n        \"description\": \"\"\n      }\n    },\n    {\n      \"column\": \"month\",\n      \"properties\": {\n        \"dtype\": \"category\",\n        \"num_unique_values\": 10,\n        \"samples\": [\n          \"apr\",\n          \"jun\"\n        ],\n        \"semantic_type\": \"\",\n        \"description\": \"\"\n      }\n    },\n    {\n      \"column\": \"day_of_week\",\n      \"properties\": {\n        \"dtype\": \"category\",\n        \"num_unique_values\": 5,\n        \"samples\": [\n          \"tue\",\n          \"fri\"\n        ],\n        \"semantic_type\": \"\",\n        \"description\": \"\"\n      }\n    },\n    {\n      \"column\": \"campaign\",\n      \"properties\": {\n        \"dtype\": \"number\",\n        \"std\": 2,\n        \"min\": 1,\n        \"max\": 56,\n        \"num_unique_values\": 42,\n        \"samples\": [\n          35,\n          19\n        ],\n        \"semantic_type\": \"\",\n        \"description\": \"\"\n      }\n    },\n    {\n      \"column\": \"pdays\",\n      \"properties\": {\n        \"dtype\": \"number\",\n        \"std\": 186,\n        \"min\": 0,\n        \"max\": 999,\n        \"num_unique_values\": 27,\n        \"samples\": [\n          7,\n          12\n        ],\n        \"semantic_type\": \"\",\n        \"description\": \"\"\n      }\n    },\n    {\n      \"column\": \"previous\",\n      \"properties\": {\n        \"dtype\": \"number\",\n        \"std\": 0,\n        \"min\": 0,\n        \"max\": 7,\n        \"num_unique_values\": 8,\n        \"samples\": [\n          1,\n          5\n        ],\n        \"semantic_type\": \"\",\n        \"description\": \"\"\n      }\n    },\n    {\n      \"column\": \"poutcome\",\n      \"properties\": {\n        \"dtype\": \"category\",\n        \"num_unique_values\": 3,\n        \"samples\": [\n          \"nonexistent\",\n          \"failure\"\n        ],\n        \"semantic_type\": \"\",\n        \"description\": \"\"\n      }\n    },\n    {\n      \"column\": \"emp.var.rate\",\n      \"properties\": {\n        \"dtype\": \"number\",\n        \"std\": 1.5709597405172309,\n        \"min\": -3.4,\n        \"max\": 1.4,\n        \"num_unique_values\": 10,\n        \"samples\": [\n          -1.7,\n          1.4\n        ],\n        \"semantic_type\": \"\",\n        \"description\": \"\"\n      }\n    },\n    {\n      \"column\": \"cons.price.idx\",\n      \"properties\": {\n        \"dtype\": \"number\",\n        \"std\": 0.5788400489541813,\n        \"min\": 92.201,\n        \"max\": 94.767,\n        \"num_unique_values\": 26,\n        \"samples\": [\n          93.075,\n          92.713\n        ],\n        \"semantic_type\": \"\",\n        \"description\": \"\"\n      }\n    },\n    {\n      \"column\": \"cons.conf.idx\",\n      \"properties\": {\n        \"dtype\": \"number\",\n        \"std\": 4.628197856174375,\n        \"min\": -50.8,\n        \"max\": -26.9,\n        \"num_unique_values\": 26,\n        \"samples\": [\n          -47.1,\n          -33.0\n        ],\n        \"semantic_type\": \"\",\n        \"description\": \"\"\n      }\n    },\n    {\n      \"column\": \"euribor3m\",\n      \"properties\": {\n        \"dtype\": \"number\",\n        \"std\": 1.7344474048511707,\n        \"min\": 0.634,\n        \"max\": 5.045,\n        \"num_unique_values\": 316,\n        \"samples\": [\n          0.7659999999999999,\n          4.76\n        ],\n        \"semantic_type\": \"\",\n        \"description\": \"\"\n      }\n    },\n    {\n      \"column\": \"nr.employed\",\n      \"properties\": {\n        \"dtype\": \"number\",\n        \"std\": 72.25152766826527,\n        \"min\": 4963.6,\n        \"max\": 5228.1,\n        \"num_unique_values\": 11,\n        \"samples\": [\n          5076.2,\n          5191.0\n        ],\n        \"semantic_type\": \"\",\n        \"description\": \"\"\n      }\n    },\n    {\n      \"column\": \"y\",\n      \"properties\": {\n        \"dtype\": \"category\",\n        \"num_unique_values\": 2,\n        \"samples\": [\n          \"yes\",\n          \"no\"\n        ],\n        \"semantic_type\": \"\",\n        \"description\": \"\"\n      }\n    }\n  ]\n}"
            }
          },
          "metadata": {},
          "execution_count": 65
        }
      ]
    },
    {
      "cell_type": "code",
      "source": [
        "# Get an overview of the data\n",
        "bank_df.info()"
      ],
      "metadata": {
        "id": "uDOMPPWagfzG",
        "colab": {
          "base_uri": "https://localhost:8080/"
        },
        "outputId": "7af3693c-1595-4ca0-c3b1-6905c3862e13"
      },
      "execution_count": 66,
      "outputs": [
        {
          "output_type": "stream",
          "name": "stdout",
          "text": [
            "<class 'pandas.core.frame.DataFrame'>\n",
            "RangeIndex: 41188 entries, 0 to 41187\n",
            "Data columns (total 20 columns):\n",
            " #   Column          Non-Null Count  Dtype  \n",
            "---  ------          --------------  -----  \n",
            " 0   age             41188 non-null  int64  \n",
            " 1   job             41188 non-null  object \n",
            " 2   marital         41188 non-null  object \n",
            " 3   education       41188 non-null  object \n",
            " 4   default         41188 non-null  object \n",
            " 5   housing         41188 non-null  object \n",
            " 6   loan            41188 non-null  object \n",
            " 7   contact         41188 non-null  object \n",
            " 8   month           41188 non-null  object \n",
            " 9   day_of_week     41188 non-null  object \n",
            " 10  campaign        41188 non-null  int64  \n",
            " 11  pdays           41188 non-null  int64  \n",
            " 12  previous        41188 non-null  int64  \n",
            " 13  poutcome        41188 non-null  object \n",
            " 14  emp.var.rate    41188 non-null  float64\n",
            " 15  cons.price.idx  41188 non-null  float64\n",
            " 16  cons.conf.idx   41188 non-null  float64\n",
            " 17  euribor3m       41188 non-null  float64\n",
            " 18  nr.employed     41188 non-null  float64\n",
            " 19  y               41188 non-null  object \n",
            "dtypes: float64(5), int64(4), object(11)\n",
            "memory usage: 6.3+ MB\n"
          ]
        }
      ]
    },
    {
      "cell_type": "code",
      "source": [
        "bank_df = bank_df.drop(columns=['default'])\n",
        "\n",
        "unknown_cols = ['job', 'marital', 'education', 'housing', 'loan']\n",
        "for col in unknown_cols:\n",
        "    bank_df = bank_df[bank_df[col] != 'unknown']\n",
        "\n",
        "bank_df = bank_df.reset_index(drop=True)\n",
        "bank_df"
      ],
      "metadata": {
        "id": "HQoQmzQOggrZ",
        "colab": {
          "base_uri": "https://localhost:8080/",
          "height": 443
        },
        "outputId": "7a28c8e9-9f5b-4499-c7d0-b3de36c86552"
      },
      "execution_count": 67,
      "outputs": [
        {
          "output_type": "execute_result",
          "data": {
            "text/plain": [
              "       age          job  marital            education housing loan    contact  \\\n",
              "0       56    housemaid  married             basic.4y      no   no  telephone   \n",
              "1       57     services  married          high.school      no   no  telephone   \n",
              "2       37     services  married          high.school     yes   no  telephone   \n",
              "3       40       admin.  married             basic.6y      no   no  telephone   \n",
              "4       56     services  married          high.school      no  yes  telephone   \n",
              "...    ...          ...      ...                  ...     ...  ...        ...   \n",
              "38240   73      retired  married  professional.course     yes   no   cellular   \n",
              "38241   46  blue-collar  married  professional.course      no   no   cellular   \n",
              "38242   56      retired  married    university.degree     yes   no   cellular   \n",
              "38243   44   technician  married  professional.course      no   no   cellular   \n",
              "38244   74      retired  married  professional.course     yes   no   cellular   \n",
              "\n",
              "      month day_of_week  campaign  pdays  previous     poutcome  emp.var.rate  \\\n",
              "0       may         mon         1    999         0  nonexistent           1.1   \n",
              "1       may         mon         1    999         0  nonexistent           1.1   \n",
              "2       may         mon         1    999         0  nonexistent           1.1   \n",
              "3       may         mon         1    999         0  nonexistent           1.1   \n",
              "4       may         mon         1    999         0  nonexistent           1.1   \n",
              "...     ...         ...       ...    ...       ...          ...           ...   \n",
              "38240   nov         fri         1    999         0  nonexistent          -1.1   \n",
              "38241   nov         fri         1    999         0  nonexistent          -1.1   \n",
              "38242   nov         fri         2    999         0  nonexistent          -1.1   \n",
              "38243   nov         fri         1    999         0  nonexistent          -1.1   \n",
              "38244   nov         fri         3    999         1      failure          -1.1   \n",
              "\n",
              "       cons.price.idx  cons.conf.idx  euribor3m  nr.employed    y  \n",
              "0              93.994          -36.4      4.857       5191.0   no  \n",
              "1              93.994          -36.4      4.857       5191.0   no  \n",
              "2              93.994          -36.4      4.857       5191.0   no  \n",
              "3              93.994          -36.4      4.857       5191.0   no  \n",
              "4              93.994          -36.4      4.857       5191.0   no  \n",
              "...               ...            ...        ...          ...  ...  \n",
              "38240          94.767          -50.8      1.028       4963.6  yes  \n",
              "38241          94.767          -50.8      1.028       4963.6   no  \n",
              "38242          94.767          -50.8      1.028       4963.6   no  \n",
              "38243          94.767          -50.8      1.028       4963.6  yes  \n",
              "38244          94.767          -50.8      1.028       4963.6   no  \n",
              "\n",
              "[38245 rows x 19 columns]"
            ],
            "text/html": [
              "\n",
              "  <div id=\"df-fa9a42b7-4f4f-444a-9722-88c36b852520\" class=\"colab-df-container\">\n",
              "    <div>\n",
              "<style scoped>\n",
              "    .dataframe tbody tr th:only-of-type {\n",
              "        vertical-align: middle;\n",
              "    }\n",
              "\n",
              "    .dataframe tbody tr th {\n",
              "        vertical-align: top;\n",
              "    }\n",
              "\n",
              "    .dataframe thead th {\n",
              "        text-align: right;\n",
              "    }\n",
              "</style>\n",
              "<table border=\"1\" class=\"dataframe\">\n",
              "  <thead>\n",
              "    <tr style=\"text-align: right;\">\n",
              "      <th></th>\n",
              "      <th>age</th>\n",
              "      <th>job</th>\n",
              "      <th>marital</th>\n",
              "      <th>education</th>\n",
              "      <th>housing</th>\n",
              "      <th>loan</th>\n",
              "      <th>contact</th>\n",
              "      <th>month</th>\n",
              "      <th>day_of_week</th>\n",
              "      <th>campaign</th>\n",
              "      <th>pdays</th>\n",
              "      <th>previous</th>\n",
              "      <th>poutcome</th>\n",
              "      <th>emp.var.rate</th>\n",
              "      <th>cons.price.idx</th>\n",
              "      <th>cons.conf.idx</th>\n",
              "      <th>euribor3m</th>\n",
              "      <th>nr.employed</th>\n",
              "      <th>y</th>\n",
              "    </tr>\n",
              "  </thead>\n",
              "  <tbody>\n",
              "    <tr>\n",
              "      <th>0</th>\n",
              "      <td>56</td>\n",
              "      <td>housemaid</td>\n",
              "      <td>married</td>\n",
              "      <td>basic.4y</td>\n",
              "      <td>no</td>\n",
              "      <td>no</td>\n",
              "      <td>telephone</td>\n",
              "      <td>may</td>\n",
              "      <td>mon</td>\n",
              "      <td>1</td>\n",
              "      <td>999</td>\n",
              "      <td>0</td>\n",
              "      <td>nonexistent</td>\n",
              "      <td>1.1</td>\n",
              "      <td>93.994</td>\n",
              "      <td>-36.4</td>\n",
              "      <td>4.857</td>\n",
              "      <td>5191.0</td>\n",
              "      <td>no</td>\n",
              "    </tr>\n",
              "    <tr>\n",
              "      <th>1</th>\n",
              "      <td>57</td>\n",
              "      <td>services</td>\n",
              "      <td>married</td>\n",
              "      <td>high.school</td>\n",
              "      <td>no</td>\n",
              "      <td>no</td>\n",
              "      <td>telephone</td>\n",
              "      <td>may</td>\n",
              "      <td>mon</td>\n",
              "      <td>1</td>\n",
              "      <td>999</td>\n",
              "      <td>0</td>\n",
              "      <td>nonexistent</td>\n",
              "      <td>1.1</td>\n",
              "      <td>93.994</td>\n",
              "      <td>-36.4</td>\n",
              "      <td>4.857</td>\n",
              "      <td>5191.0</td>\n",
              "      <td>no</td>\n",
              "    </tr>\n",
              "    <tr>\n",
              "      <th>2</th>\n",
              "      <td>37</td>\n",
              "      <td>services</td>\n",
              "      <td>married</td>\n",
              "      <td>high.school</td>\n",
              "      <td>yes</td>\n",
              "      <td>no</td>\n",
              "      <td>telephone</td>\n",
              "      <td>may</td>\n",
              "      <td>mon</td>\n",
              "      <td>1</td>\n",
              "      <td>999</td>\n",
              "      <td>0</td>\n",
              "      <td>nonexistent</td>\n",
              "      <td>1.1</td>\n",
              "      <td>93.994</td>\n",
              "      <td>-36.4</td>\n",
              "      <td>4.857</td>\n",
              "      <td>5191.0</td>\n",
              "      <td>no</td>\n",
              "    </tr>\n",
              "    <tr>\n",
              "      <th>3</th>\n",
              "      <td>40</td>\n",
              "      <td>admin.</td>\n",
              "      <td>married</td>\n",
              "      <td>basic.6y</td>\n",
              "      <td>no</td>\n",
              "      <td>no</td>\n",
              "      <td>telephone</td>\n",
              "      <td>may</td>\n",
              "      <td>mon</td>\n",
              "      <td>1</td>\n",
              "      <td>999</td>\n",
              "      <td>0</td>\n",
              "      <td>nonexistent</td>\n",
              "      <td>1.1</td>\n",
              "      <td>93.994</td>\n",
              "      <td>-36.4</td>\n",
              "      <td>4.857</td>\n",
              "      <td>5191.0</td>\n",
              "      <td>no</td>\n",
              "    </tr>\n",
              "    <tr>\n",
              "      <th>4</th>\n",
              "      <td>56</td>\n",
              "      <td>services</td>\n",
              "      <td>married</td>\n",
              "      <td>high.school</td>\n",
              "      <td>no</td>\n",
              "      <td>yes</td>\n",
              "      <td>telephone</td>\n",
              "      <td>may</td>\n",
              "      <td>mon</td>\n",
              "      <td>1</td>\n",
              "      <td>999</td>\n",
              "      <td>0</td>\n",
              "      <td>nonexistent</td>\n",
              "      <td>1.1</td>\n",
              "      <td>93.994</td>\n",
              "      <td>-36.4</td>\n",
              "      <td>4.857</td>\n",
              "      <td>5191.0</td>\n",
              "      <td>no</td>\n",
              "    </tr>\n",
              "    <tr>\n",
              "      <th>...</th>\n",
              "      <td>...</td>\n",
              "      <td>...</td>\n",
              "      <td>...</td>\n",
              "      <td>...</td>\n",
              "      <td>...</td>\n",
              "      <td>...</td>\n",
              "      <td>...</td>\n",
              "      <td>...</td>\n",
              "      <td>...</td>\n",
              "      <td>...</td>\n",
              "      <td>...</td>\n",
              "      <td>...</td>\n",
              "      <td>...</td>\n",
              "      <td>...</td>\n",
              "      <td>...</td>\n",
              "      <td>...</td>\n",
              "      <td>...</td>\n",
              "      <td>...</td>\n",
              "      <td>...</td>\n",
              "    </tr>\n",
              "    <tr>\n",
              "      <th>38240</th>\n",
              "      <td>73</td>\n",
              "      <td>retired</td>\n",
              "      <td>married</td>\n",
              "      <td>professional.course</td>\n",
              "      <td>yes</td>\n",
              "      <td>no</td>\n",
              "      <td>cellular</td>\n",
              "      <td>nov</td>\n",
              "      <td>fri</td>\n",
              "      <td>1</td>\n",
              "      <td>999</td>\n",
              "      <td>0</td>\n",
              "      <td>nonexistent</td>\n",
              "      <td>-1.1</td>\n",
              "      <td>94.767</td>\n",
              "      <td>-50.8</td>\n",
              "      <td>1.028</td>\n",
              "      <td>4963.6</td>\n",
              "      <td>yes</td>\n",
              "    </tr>\n",
              "    <tr>\n",
              "      <th>38241</th>\n",
              "      <td>46</td>\n",
              "      <td>blue-collar</td>\n",
              "      <td>married</td>\n",
              "      <td>professional.course</td>\n",
              "      <td>no</td>\n",
              "      <td>no</td>\n",
              "      <td>cellular</td>\n",
              "      <td>nov</td>\n",
              "      <td>fri</td>\n",
              "      <td>1</td>\n",
              "      <td>999</td>\n",
              "      <td>0</td>\n",
              "      <td>nonexistent</td>\n",
              "      <td>-1.1</td>\n",
              "      <td>94.767</td>\n",
              "      <td>-50.8</td>\n",
              "      <td>1.028</td>\n",
              "      <td>4963.6</td>\n",
              "      <td>no</td>\n",
              "    </tr>\n",
              "    <tr>\n",
              "      <th>38242</th>\n",
              "      <td>56</td>\n",
              "      <td>retired</td>\n",
              "      <td>married</td>\n",
              "      <td>university.degree</td>\n",
              "      <td>yes</td>\n",
              "      <td>no</td>\n",
              "      <td>cellular</td>\n",
              "      <td>nov</td>\n",
              "      <td>fri</td>\n",
              "      <td>2</td>\n",
              "      <td>999</td>\n",
              "      <td>0</td>\n",
              "      <td>nonexistent</td>\n",
              "      <td>-1.1</td>\n",
              "      <td>94.767</td>\n",
              "      <td>-50.8</td>\n",
              "      <td>1.028</td>\n",
              "      <td>4963.6</td>\n",
              "      <td>no</td>\n",
              "    </tr>\n",
              "    <tr>\n",
              "      <th>38243</th>\n",
              "      <td>44</td>\n",
              "      <td>technician</td>\n",
              "      <td>married</td>\n",
              "      <td>professional.course</td>\n",
              "      <td>no</td>\n",
              "      <td>no</td>\n",
              "      <td>cellular</td>\n",
              "      <td>nov</td>\n",
              "      <td>fri</td>\n",
              "      <td>1</td>\n",
              "      <td>999</td>\n",
              "      <td>0</td>\n",
              "      <td>nonexistent</td>\n",
              "      <td>-1.1</td>\n",
              "      <td>94.767</td>\n",
              "      <td>-50.8</td>\n",
              "      <td>1.028</td>\n",
              "      <td>4963.6</td>\n",
              "      <td>yes</td>\n",
              "    </tr>\n",
              "    <tr>\n",
              "      <th>38244</th>\n",
              "      <td>74</td>\n",
              "      <td>retired</td>\n",
              "      <td>married</td>\n",
              "      <td>professional.course</td>\n",
              "      <td>yes</td>\n",
              "      <td>no</td>\n",
              "      <td>cellular</td>\n",
              "      <td>nov</td>\n",
              "      <td>fri</td>\n",
              "      <td>3</td>\n",
              "      <td>999</td>\n",
              "      <td>1</td>\n",
              "      <td>failure</td>\n",
              "      <td>-1.1</td>\n",
              "      <td>94.767</td>\n",
              "      <td>-50.8</td>\n",
              "      <td>1.028</td>\n",
              "      <td>4963.6</td>\n",
              "      <td>no</td>\n",
              "    </tr>\n",
              "  </tbody>\n",
              "</table>\n",
              "<p>38245 rows × 19 columns</p>\n",
              "</div>\n",
              "    <div class=\"colab-df-buttons\">\n",
              "\n",
              "  <div class=\"colab-df-container\">\n",
              "    <button class=\"colab-df-convert\" onclick=\"convertToInteractive('df-fa9a42b7-4f4f-444a-9722-88c36b852520')\"\n",
              "            title=\"Convert this dataframe to an interactive table.\"\n",
              "            style=\"display:none;\">\n",
              "\n",
              "  <svg xmlns=\"http://www.w3.org/2000/svg\" height=\"24px\" viewBox=\"0 -960 960 960\">\n",
              "    <path d=\"M120-120v-720h720v720H120Zm60-500h600v-160H180v160Zm220 220h160v-160H400v160Zm0 220h160v-160H400v160ZM180-400h160v-160H180v160Zm440 0h160v-160H620v160ZM180-180h160v-160H180v160Zm440 0h160v-160H620v160Z\"/>\n",
              "  </svg>\n",
              "    </button>\n",
              "\n",
              "  <style>\n",
              "    .colab-df-container {\n",
              "      display:flex;\n",
              "      gap: 12px;\n",
              "    }\n",
              "\n",
              "    .colab-df-convert {\n",
              "      background-color: #E8F0FE;\n",
              "      border: none;\n",
              "      border-radius: 50%;\n",
              "      cursor: pointer;\n",
              "      display: none;\n",
              "      fill: #1967D2;\n",
              "      height: 32px;\n",
              "      padding: 0 0 0 0;\n",
              "      width: 32px;\n",
              "    }\n",
              "\n",
              "    .colab-df-convert:hover {\n",
              "      background-color: #E2EBFA;\n",
              "      box-shadow: 0px 1px 2px rgba(60, 64, 67, 0.3), 0px 1px 3px 1px rgba(60, 64, 67, 0.15);\n",
              "      fill: #174EA6;\n",
              "    }\n",
              "\n",
              "    .colab-df-buttons div {\n",
              "      margin-bottom: 4px;\n",
              "    }\n",
              "\n",
              "    [theme=dark] .colab-df-convert {\n",
              "      background-color: #3B4455;\n",
              "      fill: #D2E3FC;\n",
              "    }\n",
              "\n",
              "    [theme=dark] .colab-df-convert:hover {\n",
              "      background-color: #434B5C;\n",
              "      box-shadow: 0px 1px 3px 1px rgba(0, 0, 0, 0.15);\n",
              "      filter: drop-shadow(0px 1px 2px rgba(0, 0, 0, 0.3));\n",
              "      fill: #FFFFFF;\n",
              "    }\n",
              "  </style>\n",
              "\n",
              "    <script>\n",
              "      const buttonEl =\n",
              "        document.querySelector('#df-fa9a42b7-4f4f-444a-9722-88c36b852520 button.colab-df-convert');\n",
              "      buttonEl.style.display =\n",
              "        google.colab.kernel.accessAllowed ? 'block' : 'none';\n",
              "\n",
              "      async function convertToInteractive(key) {\n",
              "        const element = document.querySelector('#df-fa9a42b7-4f4f-444a-9722-88c36b852520');\n",
              "        const dataTable =\n",
              "          await google.colab.kernel.invokeFunction('convertToInteractive',\n",
              "                                                    [key], {});\n",
              "        if (!dataTable) return;\n",
              "\n",
              "        const docLinkHtml = 'Like what you see? Visit the ' +\n",
              "          '<a target=\"_blank\" href=https://colab.research.google.com/notebooks/data_table.ipynb>data table notebook</a>'\n",
              "          + ' to learn more about interactive tables.';\n",
              "        element.innerHTML = '';\n",
              "        dataTable['output_type'] = 'display_data';\n",
              "        await google.colab.output.renderOutput(dataTable, element);\n",
              "        const docLink = document.createElement('div');\n",
              "        docLink.innerHTML = docLinkHtml;\n",
              "        element.appendChild(docLink);\n",
              "      }\n",
              "    </script>\n",
              "  </div>\n",
              "\n",
              "\n",
              "<div id=\"df-cdc62732-74fb-4b07-a2a1-7cea9aed0ab6\">\n",
              "  <button class=\"colab-df-quickchart\" onclick=\"quickchart('df-cdc62732-74fb-4b07-a2a1-7cea9aed0ab6')\"\n",
              "            title=\"Suggest charts\"\n",
              "            style=\"display:none;\">\n",
              "\n",
              "<svg xmlns=\"http://www.w3.org/2000/svg\" height=\"24px\"viewBox=\"0 0 24 24\"\n",
              "     width=\"24px\">\n",
              "    <g>\n",
              "        <path d=\"M19 3H5c-1.1 0-2 .9-2 2v14c0 1.1.9 2 2 2h14c1.1 0 2-.9 2-2V5c0-1.1-.9-2-2-2zM9 17H7v-7h2v7zm4 0h-2V7h2v10zm4 0h-2v-4h2v4z\"/>\n",
              "    </g>\n",
              "</svg>\n",
              "  </button>\n",
              "\n",
              "<style>\n",
              "  .colab-df-quickchart {\n",
              "      --bg-color: #E8F0FE;\n",
              "      --fill-color: #1967D2;\n",
              "      --hover-bg-color: #E2EBFA;\n",
              "      --hover-fill-color: #174EA6;\n",
              "      --disabled-fill-color: #AAA;\n",
              "      --disabled-bg-color: #DDD;\n",
              "  }\n",
              "\n",
              "  [theme=dark] .colab-df-quickchart {\n",
              "      --bg-color: #3B4455;\n",
              "      --fill-color: #D2E3FC;\n",
              "      --hover-bg-color: #434B5C;\n",
              "      --hover-fill-color: #FFFFFF;\n",
              "      --disabled-bg-color: #3B4455;\n",
              "      --disabled-fill-color: #666;\n",
              "  }\n",
              "\n",
              "  .colab-df-quickchart {\n",
              "    background-color: var(--bg-color);\n",
              "    border: none;\n",
              "    border-radius: 50%;\n",
              "    cursor: pointer;\n",
              "    display: none;\n",
              "    fill: var(--fill-color);\n",
              "    height: 32px;\n",
              "    padding: 0;\n",
              "    width: 32px;\n",
              "  }\n",
              "\n",
              "  .colab-df-quickchart:hover {\n",
              "    background-color: var(--hover-bg-color);\n",
              "    box-shadow: 0 1px 2px rgba(60, 64, 67, 0.3), 0 1px 3px 1px rgba(60, 64, 67, 0.15);\n",
              "    fill: var(--button-hover-fill-color);\n",
              "  }\n",
              "\n",
              "  .colab-df-quickchart-complete:disabled,\n",
              "  .colab-df-quickchart-complete:disabled:hover {\n",
              "    background-color: var(--disabled-bg-color);\n",
              "    fill: var(--disabled-fill-color);\n",
              "    box-shadow: none;\n",
              "  }\n",
              "\n",
              "  .colab-df-spinner {\n",
              "    border: 2px solid var(--fill-color);\n",
              "    border-color: transparent;\n",
              "    border-bottom-color: var(--fill-color);\n",
              "    animation:\n",
              "      spin 1s steps(1) infinite;\n",
              "  }\n",
              "\n",
              "  @keyframes spin {\n",
              "    0% {\n",
              "      border-color: transparent;\n",
              "      border-bottom-color: var(--fill-color);\n",
              "      border-left-color: var(--fill-color);\n",
              "    }\n",
              "    20% {\n",
              "      border-color: transparent;\n",
              "      border-left-color: var(--fill-color);\n",
              "      border-top-color: var(--fill-color);\n",
              "    }\n",
              "    30% {\n",
              "      border-color: transparent;\n",
              "      border-left-color: var(--fill-color);\n",
              "      border-top-color: var(--fill-color);\n",
              "      border-right-color: var(--fill-color);\n",
              "    }\n",
              "    40% {\n",
              "      border-color: transparent;\n",
              "      border-right-color: var(--fill-color);\n",
              "      border-top-color: var(--fill-color);\n",
              "    }\n",
              "    60% {\n",
              "      border-color: transparent;\n",
              "      border-right-color: var(--fill-color);\n",
              "    }\n",
              "    80% {\n",
              "      border-color: transparent;\n",
              "      border-right-color: var(--fill-color);\n",
              "      border-bottom-color: var(--fill-color);\n",
              "    }\n",
              "    90% {\n",
              "      border-color: transparent;\n",
              "      border-bottom-color: var(--fill-color);\n",
              "    }\n",
              "  }\n",
              "</style>\n",
              "\n",
              "  <script>\n",
              "    async function quickchart(key) {\n",
              "      const quickchartButtonEl =\n",
              "        document.querySelector('#' + key + ' button');\n",
              "      quickchartButtonEl.disabled = true;  // To prevent multiple clicks.\n",
              "      quickchartButtonEl.classList.add('colab-df-spinner');\n",
              "      try {\n",
              "        const charts = await google.colab.kernel.invokeFunction(\n",
              "            'suggestCharts', [key], {});\n",
              "      } catch (error) {\n",
              "        console.error('Error during call to suggestCharts:', error);\n",
              "      }\n",
              "      quickchartButtonEl.classList.remove('colab-df-spinner');\n",
              "      quickchartButtonEl.classList.add('colab-df-quickchart-complete');\n",
              "    }\n",
              "    (() => {\n",
              "      let quickchartButtonEl =\n",
              "        document.querySelector('#df-cdc62732-74fb-4b07-a2a1-7cea9aed0ab6 button');\n",
              "      quickchartButtonEl.style.display =\n",
              "        google.colab.kernel.accessAllowed ? 'block' : 'none';\n",
              "    })();\n",
              "  </script>\n",
              "</div>\n",
              "\n",
              "  <div id=\"id_f5ffcf20-cf68-4b3b-8cbc-27dbfcfe13c9\">\n",
              "    <style>\n",
              "      .colab-df-generate {\n",
              "        background-color: #E8F0FE;\n",
              "        border: none;\n",
              "        border-radius: 50%;\n",
              "        cursor: pointer;\n",
              "        display: none;\n",
              "        fill: #1967D2;\n",
              "        height: 32px;\n",
              "        padding: 0 0 0 0;\n",
              "        width: 32px;\n",
              "      }\n",
              "\n",
              "      .colab-df-generate:hover {\n",
              "        background-color: #E2EBFA;\n",
              "        box-shadow: 0px 1px 2px rgba(60, 64, 67, 0.3), 0px 1px 3px 1px rgba(60, 64, 67, 0.15);\n",
              "        fill: #174EA6;\n",
              "      }\n",
              "\n",
              "      [theme=dark] .colab-df-generate {\n",
              "        background-color: #3B4455;\n",
              "        fill: #D2E3FC;\n",
              "      }\n",
              "\n",
              "      [theme=dark] .colab-df-generate:hover {\n",
              "        background-color: #434B5C;\n",
              "        box-shadow: 0px 1px 3px 1px rgba(0, 0, 0, 0.15);\n",
              "        filter: drop-shadow(0px 1px 2px rgba(0, 0, 0, 0.3));\n",
              "        fill: #FFFFFF;\n",
              "      }\n",
              "    </style>\n",
              "    <button class=\"colab-df-generate\" onclick=\"generateWithVariable('bank_df')\"\n",
              "            title=\"Generate code using this dataframe.\"\n",
              "            style=\"display:none;\">\n",
              "\n",
              "  <svg xmlns=\"http://www.w3.org/2000/svg\" height=\"24px\"viewBox=\"0 0 24 24\"\n",
              "       width=\"24px\">\n",
              "    <path d=\"M7,19H8.4L18.45,9,17,7.55,7,17.6ZM5,21V16.75L18.45,3.32a2,2,0,0,1,2.83,0l1.4,1.43a1.91,1.91,0,0,1,.58,1.4,1.91,1.91,0,0,1-.58,1.4L9.25,21ZM18.45,9,17,7.55Zm-12,3A5.31,5.31,0,0,0,4.9,8.1,5.31,5.31,0,0,0,1,6.5,5.31,5.31,0,0,0,4.9,4.9,5.31,5.31,0,0,0,6.5,1,5.31,5.31,0,0,0,8.1,4.9,5.31,5.31,0,0,0,12,6.5,5.46,5.46,0,0,0,6.5,12Z\"/>\n",
              "  </svg>\n",
              "    </button>\n",
              "    <script>\n",
              "      (() => {\n",
              "      const buttonEl =\n",
              "        document.querySelector('#id_f5ffcf20-cf68-4b3b-8cbc-27dbfcfe13c9 button.colab-df-generate');\n",
              "      buttonEl.style.display =\n",
              "        google.colab.kernel.accessAllowed ? 'block' : 'none';\n",
              "\n",
              "      buttonEl.onclick = () => {\n",
              "        google.colab.notebook.generateWithVariable('bank_df');\n",
              "      }\n",
              "      })();\n",
              "    </script>\n",
              "  </div>\n",
              "\n",
              "    </div>\n",
              "  </div>\n"
            ],
            "application/vnd.google.colaboratory.intrinsic+json": {
              "type": "dataframe",
              "variable_name": "bank_df",
              "summary": "{\n  \"name\": \"bank_df\",\n  \"rows\": 38245,\n  \"fields\": [\n    {\n      \"column\": \"age\",\n      \"properties\": {\n        \"dtype\": \"number\",\n        \"std\": 10,\n        \"min\": 17,\n        \"max\": 98,\n        \"num_unique_values\": 77,\n        \"samples\": [\n          45,\n          27,\n          54\n        ],\n        \"semantic_type\": \"\",\n        \"description\": \"\"\n      }\n    },\n    {\n      \"column\": \"job\",\n      \"properties\": {\n        \"dtype\": \"category\",\n        \"num_unique_values\": 11,\n        \"samples\": [\n          \"retired\",\n          \"housemaid\",\n          \"entrepreneur\"\n        ],\n        \"semantic_type\": \"\",\n        \"description\": \"\"\n      }\n    },\n    {\n      \"column\": \"marital\",\n      \"properties\": {\n        \"dtype\": \"category\",\n        \"num_unique_values\": 3,\n        \"samples\": [\n          \"married\",\n          \"single\",\n          \"divorced\"\n        ],\n        \"semantic_type\": \"\",\n        \"description\": \"\"\n      }\n    },\n    {\n      \"column\": \"education\",\n      \"properties\": {\n        \"dtype\": \"category\",\n        \"num_unique_values\": 7,\n        \"samples\": [\n          \"basic.4y\",\n          \"high.school\",\n          \"university.degree\"\n        ],\n        \"semantic_type\": \"\",\n        \"description\": \"\"\n      }\n    },\n    {\n      \"column\": \"housing\",\n      \"properties\": {\n        \"dtype\": \"category\",\n        \"num_unique_values\": 2,\n        \"samples\": [\n          \"yes\",\n          \"no\"\n        ],\n        \"semantic_type\": \"\",\n        \"description\": \"\"\n      }\n    },\n    {\n      \"column\": \"loan\",\n      \"properties\": {\n        \"dtype\": \"category\",\n        \"num_unique_values\": 2,\n        \"samples\": [\n          \"yes\",\n          \"no\"\n        ],\n        \"semantic_type\": \"\",\n        \"description\": \"\"\n      }\n    },\n    {\n      \"column\": \"contact\",\n      \"properties\": {\n        \"dtype\": \"category\",\n        \"num_unique_values\": 2,\n        \"samples\": [\n          \"cellular\",\n          \"telephone\"\n        ],\n        \"semantic_type\": \"\",\n        \"description\": \"\"\n      }\n    },\n    {\n      \"column\": \"month\",\n      \"properties\": {\n        \"dtype\": \"category\",\n        \"num_unique_values\": 10,\n        \"samples\": [\n          \"apr\",\n          \"jun\"\n        ],\n        \"semantic_type\": \"\",\n        \"description\": \"\"\n      }\n    },\n    {\n      \"column\": \"day_of_week\",\n      \"properties\": {\n        \"dtype\": \"category\",\n        \"num_unique_values\": 5,\n        \"samples\": [\n          \"tue\",\n          \"fri\"\n        ],\n        \"semantic_type\": \"\",\n        \"description\": \"\"\n      }\n    },\n    {\n      \"column\": \"campaign\",\n      \"properties\": {\n        \"dtype\": \"number\",\n        \"std\": 2,\n        \"min\": 1,\n        \"max\": 43,\n        \"num_unique_values\": 41,\n        \"samples\": [\n          35,\n          18\n        ],\n        \"semantic_type\": \"\",\n        \"description\": \"\"\n      }\n    },\n    {\n      \"column\": \"pdays\",\n      \"properties\": {\n        \"dtype\": \"number\",\n        \"std\": 184,\n        \"min\": 0,\n        \"max\": 999,\n        \"num_unique_values\": 26,\n        \"samples\": [\n          7,\n          15\n        ],\n        \"semantic_type\": \"\",\n        \"description\": \"\"\n      }\n    },\n    {\n      \"column\": \"previous\",\n      \"properties\": {\n        \"dtype\": \"number\",\n        \"std\": 0,\n        \"min\": 0,\n        \"max\": 7,\n        \"num_unique_values\": 8,\n        \"samples\": [\n          1,\n          5\n        ],\n        \"semantic_type\": \"\",\n        \"description\": \"\"\n      }\n    },\n    {\n      \"column\": \"poutcome\",\n      \"properties\": {\n        \"dtype\": \"category\",\n        \"num_unique_values\": 3,\n        \"samples\": [\n          \"nonexistent\",\n          \"failure\"\n        ],\n        \"semantic_type\": \"\",\n        \"description\": \"\"\n      }\n    },\n    {\n      \"column\": \"emp.var.rate\",\n      \"properties\": {\n        \"dtype\": \"number\",\n        \"std\": 1.5659448329592636,\n        \"min\": -3.4,\n        \"max\": 1.4,\n        \"num_unique_values\": 10,\n        \"samples\": [\n          -1.7,\n          1.4\n        ],\n        \"semantic_type\": \"\",\n        \"description\": \"\"\n      }\n    },\n    {\n      \"column\": \"cons.price.idx\",\n      \"properties\": {\n        \"dtype\": \"number\",\n        \"std\": 0.5763666611160887,\n        \"min\": 92.201,\n        \"max\": 94.767,\n        \"num_unique_values\": 26,\n        \"samples\": [\n          93.075,\n          92.713\n        ],\n        \"semantic_type\": \"\",\n        \"description\": \"\"\n      }\n    },\n    {\n      \"column\": \"cons.conf.idx\",\n      \"properties\": {\n        \"dtype\": \"number\",\n        \"std\": 4.623200346167755,\n        \"min\": -50.8,\n        \"max\": -26.9,\n        \"num_unique_values\": 26,\n        \"samples\": [\n          -47.1,\n          -33.0\n        ],\n        \"semantic_type\": \"\",\n        \"description\": \"\"\n      }\n    },\n    {\n      \"column\": \"euribor3m\",\n      \"properties\": {\n        \"dtype\": \"number\",\n        \"std\": 1.7302257132203438,\n        \"min\": 0.634,\n        \"max\": 5.045,\n        \"num_unique_values\": 314,\n        \"samples\": [\n          0.969,\n          4.76\n        ],\n        \"semantic_type\": \"\",\n        \"description\": \"\"\n      }\n    },\n    {\n      \"column\": \"nr.employed\",\n      \"properties\": {\n        \"dtype\": \"number\",\n        \"std\": 71.76033261131829,\n        \"min\": 4963.6,\n        \"max\": 5228.1,\n        \"num_unique_values\": 11,\n        \"samples\": [\n          5076.2,\n          5191.0\n        ],\n        \"semantic_type\": \"\",\n        \"description\": \"\"\n      }\n    },\n    {\n      \"column\": \"y\",\n      \"properties\": {\n        \"dtype\": \"category\",\n        \"num_unique_values\": 2,\n        \"samples\": [\n          \"yes\",\n          \"no\"\n        ],\n        \"semantic_type\": \"\",\n        \"description\": \"\"\n      }\n    }\n  ]\n}"
            }
          },
          "metadata": {},
          "execution_count": 67
        }
      ]
    },
    {
      "cell_type": "markdown",
      "source": [
        "## 3.2: Data Pre-Processing & Feature Engineering [17 Points]\n",
        "\n",
        "In a typical machine learning project, it's crucial to carefully process and analyze your data to understand the features you're working with. However, for this homework, the focus will be more on modeling rather than Exploratory Data Analysis (EDA). We've provided a dataset that is nearly ready for use, so you won't need to spend much time on EDA here.\n",
        "\n",
        "However, this doesn’t mean you should skip EDA in your own projects! EDA will be an essential part of your project deliverables.\n"
      ],
      "metadata": {
        "id": "uQZEBZJ6hA5s"
      }
    },
    {
      "cell_type": "markdown",
      "source": [
        "### 3.2.1: Encoding Categorical Features [9 Points]\n",
        "Looking at our column types, we see that we have some features of type object, some of type int64, and some of type float64. Let's start by separating these.\n",
        "\n",
        "**Task:**\n",
        "*   Create two lists containing the column names of `numerical` and `categorical` features named `numerical_features` and `categorical_features` respectively\n",
        "*   Sort these lists alphabetically\n",
        "\n",
        "**Hint:**\n",
        "* Consider using `.select_dtypes` from Pandas.\n",
        "\n",
        "**Note:**\n",
        "* Though `y` is not a feature (it is our target), please include it within one of the lists you create. We will address this later when we create our test-train split."
      ],
      "metadata": {
        "id": "X4gqaIz4hCJe"
      }
    },
    {
      "cell_type": "code",
      "source": [
        "# Identify numerical and categorical features\n",
        "numerical_features = sorted(bank_df.select_dtypes(include=['int64', 'float64']).columns.tolist())\n",
        "categorical_features = sorted(bank_df.select_dtypes(include=['object']).columns.tolist())\n",
        "\n",
        "# DO NOT CHANGE ----------------------------------------------------------------\n",
        "print(f'There are {len(categorical_features)} categorical variables')\n",
        "print(f'There are {len(numerical_features)} numerical variables')\n",
        "# DO NOT CHANGE ----------------------------------------------------------------"
      ],
      "metadata": {
        "id": "9ZQD0NzBg3Vp",
        "colab": {
          "base_uri": "https://localhost:8080/"
        },
        "outputId": "318b8ace-1fbc-442e-ea0f-7222177290c5"
      },
      "execution_count": 68,
      "outputs": [
        {
          "output_type": "stream",
          "name": "stdout",
          "text": [
            "There are 10 categorical variables\n",
            "There are 9 numerical variables\n"
          ]
        }
      ]
    },
    {
      "cell_type": "code",
      "source": [
        "# Grader Cell (2 points)\n",
        "grader.grade(test_case_id='num_cat_features', answer=(numerical_features, categorical_features))"
      ],
      "metadata": {
        "id": "VICbVJ1bhD72",
        "colab": {
          "base_uri": "https://localhost:8080/"
        },
        "outputId": "acb76189-f457-4c48-e59c-c2bbf7d247be"
      },
      "execution_count": 69,
      "outputs": [
        {
          "output_type": "stream",
          "name": "stdout",
          "text": [
            "Correct! You earned 2/2 points. You are a star!\n",
            "\n",
            "Your submission has been successfully recorded in the gradebook.\n"
          ]
        }
      ]
    },
    {
      "cell_type": "markdown",
      "source": [
        "Now, let's focus on those categorical features and do some **encoding**.\n",
        "\n",
        "Encoding is a process by which categorical variables are converted into a form that could be provided to ML algorithms to do a better job in prediction.\n",
        "\n",
        "In this first part, we want to cast the columns containing binary variables (no/yes) into integer values (0 and 1).\n",
        "\n",
        "**Task:**\n",
        "\n",
        "*   You should create a copy of `bank_df` and save it as `binary_bank_df`, use this new data frame for this problem.\n",
        "*   Find all columns that have 2 unique values (these are binary features).\n",
        "*   Encode the columns with binary features using `OneHotEncoder` from sklearn **(refer to sklearn documentation for special arguments to the function)**.\n",
        "*   Save results in `binary_bank_df`.\n",
        "\n",
        "**Hint:**\n",
        "\n",
        "* `binary_bank_df` should have the same dimensions/shape before and after encoding, and **the order of the columns should remain the same.**\n",
        "* If not receiving full points, consider swapping the encoding scheme (swapping which values get the 0s and 1s)"
      ],
      "metadata": {
        "id": "6iWvpxWwhF9K"
      }
    },
    {
      "cell_type": "code",
      "source": [
        "# Create a copy of bank_df\n",
        "binary_bank_df = bank_df.copy()\n",
        "\n",
        "# Find binary columns\n",
        "binary_cols = [col for col in bank_df.columns if bank_df[col].nunique() == 2]"
      ],
      "metadata": {
        "id": "NAa-cf24hGJq"
      },
      "execution_count": 70,
      "outputs": []
    },
    {
      "cell_type": "code",
      "source": [
        "# Grader Cell (1 point)\n",
        "grader.grade(test_case_id='binary_features', answer=binary_cols)"
      ],
      "metadata": {
        "id": "MWOWTrqkhHcO",
        "colab": {
          "base_uri": "https://localhost:8080/"
        },
        "outputId": "8483abf8-d022-4f7e-ec69-b6e88b715066"
      },
      "execution_count": 71,
      "outputs": [
        {
          "output_type": "stream",
          "name": "stdout",
          "text": [
            "Correct! You earned 1/1 points. You are a star!\n",
            "\n",
            "Your submission has been successfully recorded in the gradebook.\n"
          ]
        }
      ]
    },
    {
      "cell_type": "code",
      "source": [
        "# Create encoder\n",
        "binary_encoder = OneHotEncoder(sparse_output=False, drop='if_binary', dtype=int)  # or handle_unknown='ignore'\n",
        "\n",
        "# Fit and transform the binary columns\n",
        "encoded_data = binary_encoder.fit_transform(binary_bank_df[binary_cols])\n",
        "\n",
        "# Replace original columns with encoded columns\n",
        "binary_bank_df[binary_cols] = encoded_data"
      ],
      "metadata": {
        "id": "Zhd3wwmBhI_8"
      },
      "execution_count": 72,
      "outputs": []
    },
    {
      "cell_type": "code",
      "source": [
        "# Grader cell (2 points)\n",
        "grader.grade(test_case_id='binary_encodings', answer=binary_bank_df)"
      ],
      "metadata": {
        "id": "0WMxUm3RhJlY",
        "colab": {
          "base_uri": "https://localhost:8080/"
        },
        "outputId": "33739991-a0ba-499d-c7cd-91af9efb16c8"
      },
      "execution_count": 73,
      "outputs": [
        {
          "output_type": "stream",
          "name": "stdout",
          "text": [
            "Correct! You earned 2/2 points. You are a star!\n",
            "\n",
            "Your submission has been successfully recorded in the gradebook.\n"
          ]
        }
      ]
    },
    {
      "cell_type": "markdown",
      "source": [
        "Thus far we've encoded only our binary features, let's encode other categorical columns.\n",
        "\n",
        "Here we can distinguish between orginal categories and nominal featues. Features are ordinal when there is a clear ordering among the categories (i.e., good, neutral, bad, could be ordered, while gender would be nominal). To encode this in the data, we need some way to represent that good is *closer* to neutral then it is to bad.\n",
        "\n",
        "One commonly used strategy for encoding nominal features is One Hot Encoding. This strategy involves converting a single feature with $k$ categories into $k$ or $(k-1)$ new columns of only ones and zeros. This allows us to train models that only take numerical values as input.\n",
        "\n",
        "On the other hand, for ordered categories we have Ordinal Encoding. This typically replaces all the categorical values with increasing integers starting from 0 by default.\n",
        "\n",
        "**Task:**\n",
        "\n",
        "* Make a copy of `binary_bank_df` and save it as `ordered_bank_df`, use this new data frame for analysis.\n",
        "* Apply Ordinal Encoding to the column `education` using the ordering `[['illiterate', 'basic.4y', 'basic.6y', 'basic.9y', 'high.school', 'professional.course', 'university.degree']]`. Replace the column `education` with the encoded values; use `OrdinalEncoder` from sklearn (already imported).\n",
        "* Save results in the pandas df named `ordered_bank_df`. **The order of the columns should remain the same.**"
      ],
      "metadata": {
        "id": "o-tXd0h2hL3i"
      }
    },
    {
      "cell_type": "code",
      "source": [
        "# Identify ordered features\n",
        "ordered_features = ['education']  # Assuming 'education' is the only ordered feature\n",
        "\n",
        "# Extract ordering of each ordered feature\n",
        "ordered_categories = [['illiterate', 'basic.4y', 'basic.6y', 'basic.9y', 'high.school', 'professional.course', 'university.degree']]\n",
        "\n",
        "# Create copy of binary_bank_df\n",
        "ordered_bank_df = binary_bank_df.copy()\n",
        "\n",
        "# Apply Ordinal Encoding to ordered columns\n",
        "if 'education' in ordered_bank_df.columns:\n",
        "    # Apply Ordinal Encoding to ordered columns\n",
        "    for feature, categories in zip(ordered_features, ordered_categories):\n",
        "        encoder = OrdinalEncoder(categories=[categories])  # Use categories argument\n",
        "        ordered_bank_df[feature] = encoder.fit_transform(ordered_bank_df[[feature]])\n",
        "else:\n",
        "    print(\"Warning: 'education' column not found in the DataFrame. Skipping ordinal encoding.\")"
      ],
      "metadata": {
        "id": "6uu6aXT-hK_2"
      },
      "execution_count": 74,
      "outputs": []
    },
    {
      "cell_type": "code",
      "source": [
        "# Grader Cell (2 points)\n",
        "grader.grade(test_case_id='ord_encodings', answer=ordered_bank_df)"
      ],
      "metadata": {
        "id": "xMuCrGoThNQi",
        "colab": {
          "base_uri": "https://localhost:8080/"
        },
        "outputId": "a8ee80a2-9959-406a-ad70-2393a89a4745"
      },
      "execution_count": 75,
      "outputs": [
        {
          "output_type": "stream",
          "name": "stdout",
          "text": [
            "Correct! You earned 2/2 points. You are a star!\n",
            "\n",
            "Your submission has been successfully recorded in the gradebook.\n"
          ]
        }
      ]
    },
    {
      "cell_type": "markdown",
      "source": [
        "**Task:**\n",
        "\n",
        "* Identify nominal features, and store them in a list in `unordered_features`. **Make sure that the list is sorted in alphabetical order.**\n",
        "* Make a copy of `ordered_bank_df` and save it as `encoded_bank_df`, use this new data frame for analysis.\n",
        "* Apply One Hot Encoding to the `unordered_features`. If using `OneHotEncoder` from sklearn, **make sure to drop the original columns from the dataframe and concatenate the newly encoded columns to the *end* of your final dataframe using pd.concat().**\n",
        "* For each encoded variable, drop the first column that is produced in your One Hot Encoding scheme - this ensures we have the minimum number of colums required to represent our data.\n",
        "* Drop any of the original columns that have now been encoded and added to the data frame.\n",
        "* Save results in the pandas df named `encoded_bank_df`.\n",
        "\n",
        "\n",
        "**Hint:**\n",
        "\n",
        "* We recommend you use `pd.get_dummies` or `OneHotEncoder` from sklearn (already imported).\n",
        "* Columns containing dummy variables after performing One Hot Encoding do not need to have any specific names, they can have any name\n",
        "* **Refer to sklearn documentation for necessary/special arguments to functions!**"
      ],
      "metadata": {
        "id": "eiwoqJRMhQnS"
      }
    },
    {
      "cell_type": "code",
      "source": [
        "# TODO: Identify the column(s) with unordered categories and store them in the following list\n",
        "unordered_features = ['day_of_week','job', 'marital', 'month', 'poutcome']"
      ],
      "metadata": {
        "id": "r8SoGK46hQxS"
      },
      "execution_count": 76,
      "outputs": []
    },
    {
      "cell_type": "code",
      "source": [
        "# TODO: Create a copy of ordered_bank_df and store it in encoded_bank_df\n",
        "encoded_bank_df = ordered_bank_df.copy()\n",
        "\n",
        "# TODO: Apply OHE to the unordered_categorical cols in encoded_bank_df\n",
        "\n",
        "# Initialize OneHotEncoder\n",
        "encoder = OneHotEncoder(drop='first', sparse_output=False, dtype=int)\n",
        "\n",
        "# Apply One-Hot Encoding to unordered categorical columns\n",
        "encoded_data = encoder.fit_transform(encoded_bank_df[unordered_features])\n",
        "\n",
        "# Convert encoded data to DataFrame\n",
        "encoded_df = pd.DataFrame(encoded_data, columns=encoder.get_feature_names_out(unordered_features))\n",
        "\n",
        "# Drop original unordered categorical columns\n",
        "encoded_bank_df.drop(columns=unordered_features, inplace=True)\n",
        "\n",
        "# Concatenate the newly encoded columns to the DataFrame\n",
        "encoded_bank_df = pd.concat([encoded_bank_df, encoded_df], axis=1)\n"
      ],
      "metadata": {
        "id": "RWRsjiVchR0u"
      },
      "execution_count": 77,
      "outputs": []
    },
    {
      "cell_type": "code",
      "source": [
        "# Grader Cell (2 points)\n",
        "grader.grade(test_case_id='bank_ohe', answer=(encoded_bank_df.shape, unordered_features))"
      ],
      "metadata": {
        "id": "MAqfxVKuhUbA",
        "colab": {
          "base_uri": "https://localhost:8080/"
        },
        "outputId": "34bd00fa-bc90-4472-c84d-b34cb29e8f49"
      },
      "execution_count": 78,
      "outputs": [
        {
          "output_type": "stream",
          "name": "stdout",
          "text": [
            "Correct! You earned 2/2 points. You are a star!\n",
            "\n",
            "Your submission has been successfully recorded in the gradebook.\n"
          ]
        }
      ]
    },
    {
      "cell_type": "markdown",
      "source": [
        "### 3.2.2: Test-Train Split and Class Imbalance [6 Points]\n",
        "\n",
        "Now that you've encoded the data, let's take a closer look at the data before splitting it into testing and training sets. Our goal is to determine the class imbalance in our target variable.\n",
        "\n",
        "**Task:**\n",
        "* Calculate the class_ratio of the majority class to the minority class. Save this in a variable `class_ratio`\n"
      ],
      "metadata": {
        "id": "glYo8ug9hW9S"
      }
    },
    {
      "cell_type": "code",
      "source": [
        "# TODO: Find the ratio\n",
        "class_counts = bank_df['y'].value_counts()\n",
        "class_ratio =class_counts.max() / class_counts.min()\n",
        "\n",
        "# DO NOT CHANGE ----------------------------------------------------------------\n",
        "print(f'Target variable has {class_ratio:.2f}x more observations in the negative (majority) class than the positive (minority) class.')\n",
        "# DO NOT CHANGE ----------------------------------------------------------------"
      ],
      "metadata": {
        "id": "Bjh-me4ihXL1",
        "colab": {
          "base_uri": "https://localhost:8080/"
        },
        "outputId": "891a8317-58f5-4077-cefc-cd5d795ae0cf"
      },
      "execution_count": 79,
      "outputs": [
        {
          "output_type": "stream",
          "name": "stdout",
          "text": [
            "Target variable has 7.98x more observations in the negative (majority) class than the positive (minority) class.\n"
          ]
        }
      ]
    },
    {
      "cell_type": "code",
      "source": [
        "# Grader Cell (1 point)\n",
        "grader.grade(test_case_id='class_ratio_check', answer=class_ratio)"
      ],
      "metadata": {
        "id": "iBXy-kkYhYW2",
        "colab": {
          "base_uri": "https://localhost:8080/"
        },
        "outputId": "38127ce7-61ce-4827-e902-2081df69276e"
      },
      "execution_count": 80,
      "outputs": [
        {
          "output_type": "stream",
          "name": "stdout",
          "text": [
            "Correct! You earned 1/1 points. You are a star!\n",
            "\n",
            "Your submission has been successfully recorded in the gradebook.\n"
          ]
        }
      ]
    },
    {
      "cell_type": "markdown",
      "source": [
        "Before we move on to our final step in preprocessing our data, we're going to split the data into our training and testing sets. Our data set appears to be quite imbalanced, so in splitting our data, we must ensure the proportion of each class in the data remains the same in our training and testing set. This is called a stratified split or sample - we split the data in such a way that the resulting training and testing sets have the same proportions of the classes that were observed in the original data. Without stratifying our data when splitting, we risk getting an inaccurate depiction of model performance later.\n",
        "\n",
        "**Task:**\n",
        "\n",
        "* Using `encoded_bank_df`, split your data into a training and testing set via sklearn's `train_test_split` function\n",
        "  * Ensure that you stratify your sample so the target variable has approximately the same proportion of positive and negative observations in the training and testing set\n",
        "  * Ensure that you shuffle your sample\n",
        "  * Ensure that the testing set holds about 20% of total observations\n",
        "  * Use the seed set for you do not change it!\n",
        "* Save your splits in variables `X_train`, `y_train`, `X_test`, and `y_test`\n",
        "\n"
      ],
      "metadata": {
        "id": "WMnqNYRyhavX"
      }
    },
    {
      "cell_type": "code",
      "source": [
        "# DO NOT CHANGE ----------------------------------------------------------------\n",
        "SEED = 12345\n",
        "# DO NOT CHANGE ----------------------------------------------------------------\n",
        "\n",
        "X = encoded_bank_df.drop(columns=['y'])\n",
        "y = encoded_bank_df['y']\n",
        "\n",
        "# TODO: Split the data into training and testing sets. Set the random_state = SEED.\n",
        "X_train, X_test, y_train, y_test = train_test_split(\n",
        "    X, y, test_size=0.2, random_state=SEED, stratify=y, shuffle=True\n",
        ")\n",
        "\n",
        "# DO NOT CHANGE ----------------------------------------------------------------\n",
        "print(f'Training data set has size {X_train.shape} and {y_train.shape}')\n",
        "print(f'Testing data set has size {X_test.shape} and {y_test.shape}')"
      ],
      "metadata": {
        "id": "tMy61vs9hbD_",
        "colab": {
          "base_uri": "https://localhost:8080/"
        },
        "outputId": "84188286-97b0-4a69-df93-f540e2fc1168"
      },
      "execution_count": 81,
      "outputs": [
        {
          "output_type": "stream",
          "name": "stdout",
          "text": [
            "Training data set has size (30596, 40) and (30596,)\n",
            "Testing data set has size (7649, 40) and (7649,)\n"
          ]
        }
      ]
    },
    {
      "cell_type": "code",
      "source": [
        "# Grader Cell (5 points)\n",
        "grader.grade(test_case_id = 'bank_train_test', answer = (X_train.shape, y_train.shape, X_test.shape, y_test.shape, y_train.sum() / len(y_train), y_test.sum() / len(y_test)))"
      ],
      "metadata": {
        "id": "zGi0_NZxhchp",
        "colab": {
          "base_uri": "https://localhost:8080/"
        },
        "outputId": "1123ec1c-7ec5-491d-cc19-c0692c9f4c52"
      },
      "execution_count": 82,
      "outputs": [
        {
          "output_type": "stream",
          "name": "stdout",
          "text": [
            "Correct! You earned 5/5 points. You are a star!\n",
            "\n",
            "Your submission has been successfully recorded in the gradebook.\n"
          ]
        }
      ]
    },
    {
      "cell_type": "markdown",
      "source": [
        "### 3.2.3: Scaling Features [2 Points]\n",
        "For our final pre-processing step we will be scaling our data. Scaling broadly is the process of mapping your features to a new range of values. This often helps machine learning models learn and converge faster. Some machine learning models are not *scale invariant*, meaning their ability to learn, and what they learn, about the data can be impacted by the size (scale) of the features. For example, some models might give a feature that is larger in scale more influence in the prediction, implying that the feature is more important than others when in practice it should be treated with similar importance. Scaling features helps mitigate this.\n",
        "\n",
        "There are multiple strategies for scaling, but today we will be using Standardization on our continuous numerical features. Standardizing the columns of the data ensures each feature is centered around zero ($\\mu=0$) and has unit variance ($\\sigma^2=1$).\n",
        "\n",
        "Information from outside our training set should not be used to train our models. When deploying a model in practice, you only have your training data, and so any hyperparameter tuning, encoding, and inference should be done on only the training set. In deployment, data that you see should be encoded using the information and learned parameters from the training data.\n",
        "\n",
        "**Task:**\n",
        "\n",
        "* Apply standardization to our training and testing data using `StandardScaler` from sklearn (imported).\n",
        "  * Be sure to scale only our original numerical columns and new ordinal encoded feature!\n",
        "* Any results should also be stored in `X_train`, `y_train`, `X_test`, and `y_test`\n",
        "\n",
        "**Hint:**\n",
        "\n",
        "* Prevent data leakage -  parameters should only be learned on the training set."
      ],
      "metadata": {
        "id": "Qctf5D_VhesP"
      }
    },
    {
      "cell_type": "code",
      "source": [
        "\n",
        "# Define the numerical features to scale, adding 'education'\n",
        "numerical_features_toscale = numerical_features + ['education']\n",
        "\n",
        "# Step 2: Initialize the StandardScaler\n",
        "scaler = StandardScaler()\n",
        "\n",
        "# Step 3: Apply StandardScaler to the numerical columns\n",
        "X_train[numerical_features_toscale] = scaler.fit_transform(X_train[numerical_features_toscale])\n",
        "X_test[numerical_features_toscale] = scaler.transform(X_test[numerical_features_toscale])\n",
        "\n",
        "# Step 4: Convert DataFrames to NumPy arrays for use with the models\n",
        "X_train = X_train.to_numpy()\n",
        "y_train = y_train.to_numpy()\n",
        "X_test = X_test.to_numpy()\n",
        "y_test = y_test.to_numpy()\n",
        "\n",
        "# DO NOT CHANGE ----------------------------------------------------------------\n",
        "print(f'Training data set has size {X_train.shape} and {y_train.shape}')\n",
        "print(f'Testing data set has size {X_test.shape} and {y_test.shape}')"
      ],
      "metadata": {
        "id": "t7BE3X46he5a",
        "colab": {
          "base_uri": "https://localhost:8080/"
        },
        "outputId": "dad75926-9157-4b72-bfe3-11e28fa98954"
      },
      "execution_count": 83,
      "outputs": [
        {
          "output_type": "stream",
          "name": "stdout",
          "text": [
            "Training data set has size (30596, 40) and (30596,)\n",
            "Testing data set has size (7649, 40) and (7649,)\n"
          ]
        }
      ]
    },
    {
      "cell_type": "code",
      "source": [
        "# Grader Cell (2 points)\n",
        "grader.grade(test_case_id = 'bank_scaler', answer = (set(scaler.mean_), set(scaler.var_), X_train.shape, X_test.shape))"
      ],
      "metadata": {
        "id": "iRD6mnsQhf1L",
        "colab": {
          "base_uri": "https://localhost:8080/"
        },
        "outputId": "55b8a7ea-9cde-48e3-8b58-f6e089add741"
      },
      "execution_count": 84,
      "outputs": [
        {
          "output_type": "stream",
          "name": "stdout",
          "text": [
            "Correct! You earned 2/2 points. You are a star!\n",
            "\n",
            "Your submission has been successfully recorded in the gradebook.\n"
          ]
        }
      ]
    },
    {
      "cell_type": "markdown",
      "source": [
        "## 3.3: Modeling Imbalanced Data [17 Points]\n",
        "\n",
        "We now have encoded and pre-processed our data. Let's start building the models! We will explore three types of models here: Logistic Regression, Random Forests, and XGBoost.\n",
        "\n",
        "As we build our models, we have to keep the class imbalanced we observed in mind. To combat this, we're going to use class weights to adjust the way our model performs optimizations and learns about our data."
      ],
      "metadata": {
        "id": "j5PvfGzLhg8S"
      }
    },
    {
      "cell_type": "markdown",
      "source": [
        "### 3.3.1: Logistic Regression [1 Point]\n",
        "\n",
        "We will now be using Logistic Regression to build our first simple classification model. The Logistic Regression Classifier models the probability of a target class by using a linear combination of input features. It applies a logistic function to this combination to output probabilities, making it effective for binary classification tasks.\n",
        "\n",
        "By default, the [`LogisticRegression`](https://scikit-learn.org/1.5/modules/generated/sklearn.linear_model.LogisticRegression.html) classifier in sklearn weighs both classes (subscribing to a term deposit or not) equally. However, we know that there is a large imbalance within our class.\n",
        "\n",
        "The `class_weight` parameter controls the penalty for misclassifying an observation from a given class. Typically, the penalty is the same for each class. However, when there is a large class imbalance, we can increase the penalty for misclassifying the minority class (positive). These make the model adjust and emphasize learning observations from the minority class more than the majority. Providing the `balanced` keyword to this parameter results in the model penalizing the misclassification of each observation inversely proportional to class frequencies.\n",
        "\n",
        "**Task:**\n",
        "* Build two Logistic Regression models using `LogisticRegression` from sklearn (already imported)\n",
        "  * The first should be saved in the `lrg` variable, and should be a plain Logistic Regression model\n",
        "  * The second should be saved in the `weighted_lrg` variable, and should use the `class_weight` hyperparameter, set this to be `balanced`\n",
        "* Fit this model to `X_train` and `y_train`\n",
        "\n",
        "*Ignore any warnings from sklearn that show a max number of iterations reached*"
      ],
      "metadata": {
        "id": "ZcXHbKnNhiCI"
      }
    },
    {
      "cell_type": "code",
      "source": [
        "lrg = LogisticRegression()\n",
        "\n",
        "# Create weighted logistic regression model with balanced class weight\n",
        "weighted_lrg = LogisticRegression(class_weight='balanced')\n",
        "\n",
        "# Fit both models to training data\n",
        "lrg.fit(X_train, y_train)\n",
        "weighted_lrg.fit(X_train, y_train)"
      ],
      "metadata": {
        "id": "yvP1GJjFhhx-",
        "colab": {
          "base_uri": "https://localhost:8080/",
          "height": 80
        },
        "outputId": "bad859c3-fc1e-4f04-a475-4b3527895773"
      },
      "execution_count": 87,
      "outputs": [
        {
          "output_type": "execute_result",
          "data": {
            "text/plain": [
              "LogisticRegression(class_weight='balanced')"
            ],
            "text/html": [
              "<style>#sk-container-id-2 {\n",
              "  /* Definition of color scheme common for light and dark mode */\n",
              "  --sklearn-color-text: #000;\n",
              "  --sklearn-color-text-muted: #666;\n",
              "  --sklearn-color-line: gray;\n",
              "  /* Definition of color scheme for unfitted estimators */\n",
              "  --sklearn-color-unfitted-level-0: #fff5e6;\n",
              "  --sklearn-color-unfitted-level-1: #f6e4d2;\n",
              "  --sklearn-color-unfitted-level-2: #ffe0b3;\n",
              "  --sklearn-color-unfitted-level-3: chocolate;\n",
              "  /* Definition of color scheme for fitted estimators */\n",
              "  --sklearn-color-fitted-level-0: #f0f8ff;\n",
              "  --sklearn-color-fitted-level-1: #d4ebff;\n",
              "  --sklearn-color-fitted-level-2: #b3dbfd;\n",
              "  --sklearn-color-fitted-level-3: cornflowerblue;\n",
              "\n",
              "  /* Specific color for light theme */\n",
              "  --sklearn-color-text-on-default-background: var(--sg-text-color, var(--theme-code-foreground, var(--jp-content-font-color1, black)));\n",
              "  --sklearn-color-background: var(--sg-background-color, var(--theme-background, var(--jp-layout-color0, white)));\n",
              "  --sklearn-color-border-box: var(--sg-text-color, var(--theme-code-foreground, var(--jp-content-font-color1, black)));\n",
              "  --sklearn-color-icon: #696969;\n",
              "\n",
              "  @media (prefers-color-scheme: dark) {\n",
              "    /* Redefinition of color scheme for dark theme */\n",
              "    --sklearn-color-text-on-default-background: var(--sg-text-color, var(--theme-code-foreground, var(--jp-content-font-color1, white)));\n",
              "    --sklearn-color-background: var(--sg-background-color, var(--theme-background, var(--jp-layout-color0, #111)));\n",
              "    --sklearn-color-border-box: var(--sg-text-color, var(--theme-code-foreground, var(--jp-content-font-color1, white)));\n",
              "    --sklearn-color-icon: #878787;\n",
              "  }\n",
              "}\n",
              "\n",
              "#sk-container-id-2 {\n",
              "  color: var(--sklearn-color-text);\n",
              "}\n",
              "\n",
              "#sk-container-id-2 pre {\n",
              "  padding: 0;\n",
              "}\n",
              "\n",
              "#sk-container-id-2 input.sk-hidden--visually {\n",
              "  border: 0;\n",
              "  clip: rect(1px 1px 1px 1px);\n",
              "  clip: rect(1px, 1px, 1px, 1px);\n",
              "  height: 1px;\n",
              "  margin: -1px;\n",
              "  overflow: hidden;\n",
              "  padding: 0;\n",
              "  position: absolute;\n",
              "  width: 1px;\n",
              "}\n",
              "\n",
              "#sk-container-id-2 div.sk-dashed-wrapped {\n",
              "  border: 1px dashed var(--sklearn-color-line);\n",
              "  margin: 0 0.4em 0.5em 0.4em;\n",
              "  box-sizing: border-box;\n",
              "  padding-bottom: 0.4em;\n",
              "  background-color: var(--sklearn-color-background);\n",
              "}\n",
              "\n",
              "#sk-container-id-2 div.sk-container {\n",
              "  /* jupyter's `normalize.less` sets `[hidden] { display: none; }`\n",
              "     but bootstrap.min.css set `[hidden] { display: none !important; }`\n",
              "     so we also need the `!important` here to be able to override the\n",
              "     default hidden behavior on the sphinx rendered scikit-learn.org.\n",
              "     See: https://github.com/scikit-learn/scikit-learn/issues/21755 */\n",
              "  display: inline-block !important;\n",
              "  position: relative;\n",
              "}\n",
              "\n",
              "#sk-container-id-2 div.sk-text-repr-fallback {\n",
              "  display: none;\n",
              "}\n",
              "\n",
              "div.sk-parallel-item,\n",
              "div.sk-serial,\n",
              "div.sk-item {\n",
              "  /* draw centered vertical line to link estimators */\n",
              "  background-image: linear-gradient(var(--sklearn-color-text-on-default-background), var(--sklearn-color-text-on-default-background));\n",
              "  background-size: 2px 100%;\n",
              "  background-repeat: no-repeat;\n",
              "  background-position: center center;\n",
              "}\n",
              "\n",
              "/* Parallel-specific style estimator block */\n",
              "\n",
              "#sk-container-id-2 div.sk-parallel-item::after {\n",
              "  content: \"\";\n",
              "  width: 100%;\n",
              "  border-bottom: 2px solid var(--sklearn-color-text-on-default-background);\n",
              "  flex-grow: 1;\n",
              "}\n",
              "\n",
              "#sk-container-id-2 div.sk-parallel {\n",
              "  display: flex;\n",
              "  align-items: stretch;\n",
              "  justify-content: center;\n",
              "  background-color: var(--sklearn-color-background);\n",
              "  position: relative;\n",
              "}\n",
              "\n",
              "#sk-container-id-2 div.sk-parallel-item {\n",
              "  display: flex;\n",
              "  flex-direction: column;\n",
              "}\n",
              "\n",
              "#sk-container-id-2 div.sk-parallel-item:first-child::after {\n",
              "  align-self: flex-end;\n",
              "  width: 50%;\n",
              "}\n",
              "\n",
              "#sk-container-id-2 div.sk-parallel-item:last-child::after {\n",
              "  align-self: flex-start;\n",
              "  width: 50%;\n",
              "}\n",
              "\n",
              "#sk-container-id-2 div.sk-parallel-item:only-child::after {\n",
              "  width: 0;\n",
              "}\n",
              "\n",
              "/* Serial-specific style estimator block */\n",
              "\n",
              "#sk-container-id-2 div.sk-serial {\n",
              "  display: flex;\n",
              "  flex-direction: column;\n",
              "  align-items: center;\n",
              "  background-color: var(--sklearn-color-background);\n",
              "  padding-right: 1em;\n",
              "  padding-left: 1em;\n",
              "}\n",
              "\n",
              "\n",
              "/* Toggleable style: style used for estimator/Pipeline/ColumnTransformer box that is\n",
              "clickable and can be expanded/collapsed.\n",
              "- Pipeline and ColumnTransformer use this feature and define the default style\n",
              "- Estimators will overwrite some part of the style using the `sk-estimator` class\n",
              "*/\n",
              "\n",
              "/* Pipeline and ColumnTransformer style (default) */\n",
              "\n",
              "#sk-container-id-2 div.sk-toggleable {\n",
              "  /* Default theme specific background. It is overwritten whether we have a\n",
              "  specific estimator or a Pipeline/ColumnTransformer */\n",
              "  background-color: var(--sklearn-color-background);\n",
              "}\n",
              "\n",
              "/* Toggleable label */\n",
              "#sk-container-id-2 label.sk-toggleable__label {\n",
              "  cursor: pointer;\n",
              "  display: flex;\n",
              "  width: 100%;\n",
              "  margin-bottom: 0;\n",
              "  padding: 0.5em;\n",
              "  box-sizing: border-box;\n",
              "  text-align: center;\n",
              "  align-items: start;\n",
              "  justify-content: space-between;\n",
              "  gap: 0.5em;\n",
              "}\n",
              "\n",
              "#sk-container-id-2 label.sk-toggleable__label .caption {\n",
              "  font-size: 0.6rem;\n",
              "  font-weight: lighter;\n",
              "  color: var(--sklearn-color-text-muted);\n",
              "}\n",
              "\n",
              "#sk-container-id-2 label.sk-toggleable__label-arrow:before {\n",
              "  /* Arrow on the left of the label */\n",
              "  content: \"▸\";\n",
              "  float: left;\n",
              "  margin-right: 0.25em;\n",
              "  color: var(--sklearn-color-icon);\n",
              "}\n",
              "\n",
              "#sk-container-id-2 label.sk-toggleable__label-arrow:hover:before {\n",
              "  color: var(--sklearn-color-text);\n",
              "}\n",
              "\n",
              "/* Toggleable content - dropdown */\n",
              "\n",
              "#sk-container-id-2 div.sk-toggleable__content {\n",
              "  max-height: 0;\n",
              "  max-width: 0;\n",
              "  overflow: hidden;\n",
              "  text-align: left;\n",
              "  /* unfitted */\n",
              "  background-color: var(--sklearn-color-unfitted-level-0);\n",
              "}\n",
              "\n",
              "#sk-container-id-2 div.sk-toggleable__content.fitted {\n",
              "  /* fitted */\n",
              "  background-color: var(--sklearn-color-fitted-level-0);\n",
              "}\n",
              "\n",
              "#sk-container-id-2 div.sk-toggleable__content pre {\n",
              "  margin: 0.2em;\n",
              "  border-radius: 0.25em;\n",
              "  color: var(--sklearn-color-text);\n",
              "  /* unfitted */\n",
              "  background-color: var(--sklearn-color-unfitted-level-0);\n",
              "}\n",
              "\n",
              "#sk-container-id-2 div.sk-toggleable__content.fitted pre {\n",
              "  /* unfitted */\n",
              "  background-color: var(--sklearn-color-fitted-level-0);\n",
              "}\n",
              "\n",
              "#sk-container-id-2 input.sk-toggleable__control:checked~div.sk-toggleable__content {\n",
              "  /* Expand drop-down */\n",
              "  max-height: 200px;\n",
              "  max-width: 100%;\n",
              "  overflow: auto;\n",
              "}\n",
              "\n",
              "#sk-container-id-2 input.sk-toggleable__control:checked~label.sk-toggleable__label-arrow:before {\n",
              "  content: \"▾\";\n",
              "}\n",
              "\n",
              "/* Pipeline/ColumnTransformer-specific style */\n",
              "\n",
              "#sk-container-id-2 div.sk-label input.sk-toggleable__control:checked~label.sk-toggleable__label {\n",
              "  color: var(--sklearn-color-text);\n",
              "  background-color: var(--sklearn-color-unfitted-level-2);\n",
              "}\n",
              "\n",
              "#sk-container-id-2 div.sk-label.fitted input.sk-toggleable__control:checked~label.sk-toggleable__label {\n",
              "  background-color: var(--sklearn-color-fitted-level-2);\n",
              "}\n",
              "\n",
              "/* Estimator-specific style */\n",
              "\n",
              "/* Colorize estimator box */\n",
              "#sk-container-id-2 div.sk-estimator input.sk-toggleable__control:checked~label.sk-toggleable__label {\n",
              "  /* unfitted */\n",
              "  background-color: var(--sklearn-color-unfitted-level-2);\n",
              "}\n",
              "\n",
              "#sk-container-id-2 div.sk-estimator.fitted input.sk-toggleable__control:checked~label.sk-toggleable__label {\n",
              "  /* fitted */\n",
              "  background-color: var(--sklearn-color-fitted-level-2);\n",
              "}\n",
              "\n",
              "#sk-container-id-2 div.sk-label label.sk-toggleable__label,\n",
              "#sk-container-id-2 div.sk-label label {\n",
              "  /* The background is the default theme color */\n",
              "  color: var(--sklearn-color-text-on-default-background);\n",
              "}\n",
              "\n",
              "/* On hover, darken the color of the background */\n",
              "#sk-container-id-2 div.sk-label:hover label.sk-toggleable__label {\n",
              "  color: var(--sklearn-color-text);\n",
              "  background-color: var(--sklearn-color-unfitted-level-2);\n",
              "}\n",
              "\n",
              "/* Label box, darken color on hover, fitted */\n",
              "#sk-container-id-2 div.sk-label.fitted:hover label.sk-toggleable__label.fitted {\n",
              "  color: var(--sklearn-color-text);\n",
              "  background-color: var(--sklearn-color-fitted-level-2);\n",
              "}\n",
              "\n",
              "/* Estimator label */\n",
              "\n",
              "#sk-container-id-2 div.sk-label label {\n",
              "  font-family: monospace;\n",
              "  font-weight: bold;\n",
              "  display: inline-block;\n",
              "  line-height: 1.2em;\n",
              "}\n",
              "\n",
              "#sk-container-id-2 div.sk-label-container {\n",
              "  text-align: center;\n",
              "}\n",
              "\n",
              "/* Estimator-specific */\n",
              "#sk-container-id-2 div.sk-estimator {\n",
              "  font-family: monospace;\n",
              "  border: 1px dotted var(--sklearn-color-border-box);\n",
              "  border-radius: 0.25em;\n",
              "  box-sizing: border-box;\n",
              "  margin-bottom: 0.5em;\n",
              "  /* unfitted */\n",
              "  background-color: var(--sklearn-color-unfitted-level-0);\n",
              "}\n",
              "\n",
              "#sk-container-id-2 div.sk-estimator.fitted {\n",
              "  /* fitted */\n",
              "  background-color: var(--sklearn-color-fitted-level-0);\n",
              "}\n",
              "\n",
              "/* on hover */\n",
              "#sk-container-id-2 div.sk-estimator:hover {\n",
              "  /* unfitted */\n",
              "  background-color: var(--sklearn-color-unfitted-level-2);\n",
              "}\n",
              "\n",
              "#sk-container-id-2 div.sk-estimator.fitted:hover {\n",
              "  /* fitted */\n",
              "  background-color: var(--sklearn-color-fitted-level-2);\n",
              "}\n",
              "\n",
              "/* Specification for estimator info (e.g. \"i\" and \"?\") */\n",
              "\n",
              "/* Common style for \"i\" and \"?\" */\n",
              "\n",
              ".sk-estimator-doc-link,\n",
              "a:link.sk-estimator-doc-link,\n",
              "a:visited.sk-estimator-doc-link {\n",
              "  float: right;\n",
              "  font-size: smaller;\n",
              "  line-height: 1em;\n",
              "  font-family: monospace;\n",
              "  background-color: var(--sklearn-color-background);\n",
              "  border-radius: 1em;\n",
              "  height: 1em;\n",
              "  width: 1em;\n",
              "  text-decoration: none !important;\n",
              "  margin-left: 0.5em;\n",
              "  text-align: center;\n",
              "  /* unfitted */\n",
              "  border: var(--sklearn-color-unfitted-level-1) 1pt solid;\n",
              "  color: var(--sklearn-color-unfitted-level-1);\n",
              "}\n",
              "\n",
              ".sk-estimator-doc-link.fitted,\n",
              "a:link.sk-estimator-doc-link.fitted,\n",
              "a:visited.sk-estimator-doc-link.fitted {\n",
              "  /* fitted */\n",
              "  border: var(--sklearn-color-fitted-level-1) 1pt solid;\n",
              "  color: var(--sklearn-color-fitted-level-1);\n",
              "}\n",
              "\n",
              "/* On hover */\n",
              "div.sk-estimator:hover .sk-estimator-doc-link:hover,\n",
              ".sk-estimator-doc-link:hover,\n",
              "div.sk-label-container:hover .sk-estimator-doc-link:hover,\n",
              ".sk-estimator-doc-link:hover {\n",
              "  /* unfitted */\n",
              "  background-color: var(--sklearn-color-unfitted-level-3);\n",
              "  color: var(--sklearn-color-background);\n",
              "  text-decoration: none;\n",
              "}\n",
              "\n",
              "div.sk-estimator.fitted:hover .sk-estimator-doc-link.fitted:hover,\n",
              ".sk-estimator-doc-link.fitted:hover,\n",
              "div.sk-label-container:hover .sk-estimator-doc-link.fitted:hover,\n",
              ".sk-estimator-doc-link.fitted:hover {\n",
              "  /* fitted */\n",
              "  background-color: var(--sklearn-color-fitted-level-3);\n",
              "  color: var(--sklearn-color-background);\n",
              "  text-decoration: none;\n",
              "}\n",
              "\n",
              "/* Span, style for the box shown on hovering the info icon */\n",
              ".sk-estimator-doc-link span {\n",
              "  display: none;\n",
              "  z-index: 9999;\n",
              "  position: relative;\n",
              "  font-weight: normal;\n",
              "  right: .2ex;\n",
              "  padding: .5ex;\n",
              "  margin: .5ex;\n",
              "  width: min-content;\n",
              "  min-width: 20ex;\n",
              "  max-width: 50ex;\n",
              "  color: var(--sklearn-color-text);\n",
              "  box-shadow: 2pt 2pt 4pt #999;\n",
              "  /* unfitted */\n",
              "  background: var(--sklearn-color-unfitted-level-0);\n",
              "  border: .5pt solid var(--sklearn-color-unfitted-level-3);\n",
              "}\n",
              "\n",
              ".sk-estimator-doc-link.fitted span {\n",
              "  /* fitted */\n",
              "  background: var(--sklearn-color-fitted-level-0);\n",
              "  border: var(--sklearn-color-fitted-level-3);\n",
              "}\n",
              "\n",
              ".sk-estimator-doc-link:hover span {\n",
              "  display: block;\n",
              "}\n",
              "\n",
              "/* \"?\"-specific style due to the `<a>` HTML tag */\n",
              "\n",
              "#sk-container-id-2 a.estimator_doc_link {\n",
              "  float: right;\n",
              "  font-size: 1rem;\n",
              "  line-height: 1em;\n",
              "  font-family: monospace;\n",
              "  background-color: var(--sklearn-color-background);\n",
              "  border-radius: 1rem;\n",
              "  height: 1rem;\n",
              "  width: 1rem;\n",
              "  text-decoration: none;\n",
              "  /* unfitted */\n",
              "  color: var(--sklearn-color-unfitted-level-1);\n",
              "  border: var(--sklearn-color-unfitted-level-1) 1pt solid;\n",
              "}\n",
              "\n",
              "#sk-container-id-2 a.estimator_doc_link.fitted {\n",
              "  /* fitted */\n",
              "  border: var(--sklearn-color-fitted-level-1) 1pt solid;\n",
              "  color: var(--sklearn-color-fitted-level-1);\n",
              "}\n",
              "\n",
              "/* On hover */\n",
              "#sk-container-id-2 a.estimator_doc_link:hover {\n",
              "  /* unfitted */\n",
              "  background-color: var(--sklearn-color-unfitted-level-3);\n",
              "  color: var(--sklearn-color-background);\n",
              "  text-decoration: none;\n",
              "}\n",
              "\n",
              "#sk-container-id-2 a.estimator_doc_link.fitted:hover {\n",
              "  /* fitted */\n",
              "  background-color: var(--sklearn-color-fitted-level-3);\n",
              "}\n",
              "</style><div id=\"sk-container-id-2\" class=\"sk-top-container\"><div class=\"sk-text-repr-fallback\"><pre>LogisticRegression(class_weight=&#x27;balanced&#x27;)</pre><b>In a Jupyter environment, please rerun this cell to show the HTML representation or trust the notebook. <br />On GitHub, the HTML representation is unable to render, please try loading this page with nbviewer.org.</b></div><div class=\"sk-container\" hidden><div class=\"sk-item\"><div class=\"sk-estimator fitted sk-toggleable\"><input class=\"sk-toggleable__control sk-hidden--visually\" id=\"sk-estimator-id-2\" type=\"checkbox\" checked><label for=\"sk-estimator-id-2\" class=\"sk-toggleable__label fitted sk-toggleable__label-arrow\"><div><div>LogisticRegression</div></div><div><a class=\"sk-estimator-doc-link fitted\" rel=\"noreferrer\" target=\"_blank\" href=\"https://scikit-learn.org/1.6/modules/generated/sklearn.linear_model.LogisticRegression.html\">?<span>Documentation for LogisticRegression</span></a><span class=\"sk-estimator-doc-link fitted\">i<span>Fitted</span></span></div></label><div class=\"sk-toggleable__content fitted\"><pre>LogisticRegression(class_weight=&#x27;balanced&#x27;)</pre></div> </div></div></div></div>"
            ]
          },
          "metadata": {},
          "execution_count": 87
        }
      ]
    },
    {
      "cell_type": "code",
      "source": [
        "# Grader Cell (1 point)\n",
        "grader.grade(test_case_id = 'bank_logreg', answer = (weighted_lrg.get_params()))"
      ],
      "metadata": {
        "id": "IJ3InRlZhjvj",
        "colab": {
          "base_uri": "https://localhost:8080/"
        },
        "outputId": "aaf547b4-64f7-4333-b7d6-ddec405f7445"
      },
      "execution_count": 88,
      "outputs": [
        {
          "output_type": "stream",
          "name": "stdout",
          "text": [
            "Correct! You earned 1/1 points. You are a star!\n",
            "\n",
            "Your submission has been successfully recorded in the gradebook.\n"
          ]
        }
      ]
    },
    {
      "cell_type": "markdown",
      "source": [
        "### 3.3.2: Logistic Regression Evaluation [2 Points]\n",
        "\n",
        "Now that we have two models, we need to assess them. It's important to think critically about which metric you're using to measure model performance and why. There are many metrics you can use to evaluate models.\n",
        "\n",
        "Metrics:\n",
        "* Accuracy = $\\frac{TP+TN}{TP+FN+FP+TN}$ - for an imbalanced dataset like this one, accuracy is usually not the best metric, as one can get nearly 90% accuracy just by predicting the majority class.\n",
        "* Recall/Sensitivity = $\\frac{TP}{TP+FN}$ - intuitively, recall is the ability of the classifier to find all the positive samples. A model with high recall has few false negatives, and thus fewer positive cases may be missed.\n",
        "* Precision = $\\frac{TP}{TP+FP}$ - intuitively, precision is the ability of the classifier to not label a negative sample as positive. A model with high precision has few false positives, and thus fewer negative cases that are misidentified as positive.\n",
        "* F1-Score = $2 \\times \\frac{Precision \\times Recall}{Precision + Recall}$ - can be thought of as an \"average\" (actually the harmonic mean) of precision and recall and is high if there is a good balance between them.\n",
        "\n",
        "In our setting, the cost of missing a potential subscriber (false negative) is usually higher than incorrectly predicting a non-subscriber (false positive). Therefore, getting a high recall may be slightly more important than getting a high precision in this case. F1-Score is a great metric to look at for a balanced approach between not sacrificing too much recall or precision. However, we should not rely on accuracy as an indicator of model performance.\n",
        "\n",
        "Remember that in machine learning we care mostly about model performance on *unseen* data (i.e. test data), but it is useful to look at the training metrics as well to see if the model is overfitting or underfitting.\n",
        "\n",
        "**Task:**\n",
        "\n",
        "* For each of your models, compute the performance using each of the above metrics on the training and testing sets\n",
        "* Save your calculations in the pre-defined variables\n",
        "\n",
        "**Hint:**\n",
        "\n",
        "* Make use of the scoring functions in sklearn, `accuracy score()`, `recall_score()`, `precision_score()`, and `f1_score()`"
      ],
      "metadata": {
        "id": "tEjUXrOkhleW"
      }
    },
    {
      "cell_type": "code",
      "source": [
        "# TODO: Predict on training and testing data for both models\n",
        "lrg_y_pred_train = lrg.predict(X_train)\n",
        "lrg_y_pred_test = lrg.predict(X_test)\n",
        "\n",
        "weighted_lrg_y_pred_train = weighted_lrg.predict(X_train)\n",
        "weighted_lrg_y_pred_test = weighted_lrg.predict(X_test)"
      ],
      "metadata": {
        "id": "E-rsMUOwhlpV"
      },
      "execution_count": 89,
      "outputs": []
    },
    {
      "cell_type": "code",
      "source": [
        "# TODO: Compute performance metrics for both models\n",
        "\n",
        "# Regular logistic regression metrics\n",
        "lrg_train_acc = accuracy_score(y_train, lrg_y_pred_train)\n",
        "lrg_test_acc = accuracy_score(y_test, lrg_y_pred_test)\n",
        "\n",
        "lrg_train_rec = recall_score(y_train, lrg_y_pred_train)\n",
        "lrg_test_rec = recall_score(y_test, lrg_y_pred_test)\n",
        "\n",
        "lrg_train_pre = precision_score(y_train, lrg_y_pred_train)\n",
        "lrg_test_pre = precision_score(y_test, lrg_y_pred_test)\n",
        "\n",
        "lrg_train_f1 = f1_score(y_train, lrg_y_pred_train)\n",
        "lrg_test_f1 = f1_score(y_test, lrg_y_pred_test)\n",
        "\n",
        "# Weighted logistic regression metrics\n",
        "weighted_lrg_train_acc = accuracy_score(y_train, weighted_lrg_y_pred_train)\n",
        "weighted_lrg_test_acc = accuracy_score(y_test, weighted_lrg_y_pred_test)\n",
        "\n",
        "weighted_lrg_train_rec = recall_score(y_train, weighted_lrg_y_pred_train)\n",
        "weighted_lrg_test_rec = recall_score(y_test, weighted_lrg_y_pred_test)\n",
        "\n",
        "weighted_lrg_train_pre = precision_score(y_train, weighted_lrg_y_pred_train)\n",
        "weighted_lrg_test_pre = precision_score(y_test, weighted_lrg_y_pred_test)\n",
        "\n",
        "weighted_lrg_train_f1 = f1_score(y_train, weighted_lrg_y_pred_train)\n",
        "weighted_lrg_test_f1 = f1_score(y_test, weighted_lrg_y_pred_test)"
      ],
      "metadata": {
        "id": "2QYT6oAph4hW"
      },
      "execution_count": 90,
      "outputs": []
    },
    {
      "cell_type": "code",
      "source": [
        "# DO NOT CHANGE ----------------------------------------------------------------\n",
        "print('Regular Logistic Regression Performance')\n",
        "print('---------------------------------------')\n",
        "print(f'Training Accuracy: {lrg_train_acc*100:.2f}%')\n",
        "print(f'Testing Accuracy: {lrg_test_acc*100:.2f}%')\n",
        "print(f'Training Recall: {lrg_train_rec*100:.2f}%')\n",
        "print(f'Testing Recall: {lrg_test_rec*100:.2f}%')\n",
        "print(f'Training Precision: {lrg_train_pre*100:.2f}%')\n",
        "print(f'Testing Precision: {lrg_test_pre*100:.2f}%')\n",
        "print(f'Training F1-Score: {lrg_train_f1*100:.2f}%')\n",
        "print(f'Testing F1-Score: {lrg_test_f1*100:.2f}%')\n",
        "\n",
        "print()\n",
        "\n",
        "print('Class Weighted Logistic Regression Performance')\n",
        "print('----------------------------------------------')\n",
        "print(f'Training Accuracy: {weighted_lrg_train_acc*100:.2f}%')\n",
        "print(f'Testing Accuracy: {weighted_lrg_test_acc*100:.2f}%')\n",
        "print(f'Training Recall: {weighted_lrg_train_rec*100:.2f}%')\n",
        "print(f'Testing Recall: {weighted_lrg_test_rec*100:.2f}%')\n",
        "print(f'Training Precision: {weighted_lrg_train_pre*100:.2f}%')\n",
        "print(f'Testing Precision: {weighted_lrg_test_pre*100:.2f}%')\n",
        "print(f'Training F1-Score: {weighted_lrg_train_f1*100:.2f}%')\n",
        "print(f'Testing F1-Score: {weighted_lrg_test_f1*100:.2f}%')\n",
        "# DO NOT CHANGE ----------------------------------------------------------------"
      ],
      "metadata": {
        "id": "SI9Kj33Ah5GM",
        "colab": {
          "base_uri": "https://localhost:8080/"
        },
        "outputId": "672a95e5-7da3-4046-f862-e19e5c19fbe2"
      },
      "execution_count": 91,
      "outputs": [
        {
          "output_type": "stream",
          "name": "stdout",
          "text": [
            "Regular Logistic Regression Performance\n",
            "---------------------------------------\n",
            "Training Accuracy: 90.17%\n",
            "Testing Accuracy: 89.93%\n",
            "Training Recall: 23.14%\n",
            "Testing Recall: 21.01%\n",
            "Training Precision: 66.84%\n",
            "Testing Precision: 64.86%\n",
            "Training F1-Score: 34.37%\n",
            "Testing F1-Score: 31.74%\n",
            "\n",
            "Class Weighted Logistic Regression Performance\n",
            "----------------------------------------------\n",
            "Training Accuracy: 82.97%\n",
            "Testing Accuracy: 82.68%\n",
            "Training Recall: 61.63%\n",
            "Testing Recall: 62.68%\n",
            "Training Precision: 34.98%\n",
            "Testing Precision: 34.65%\n",
            "Training F1-Score: 44.63%\n",
            "Testing F1-Score: 44.63%\n"
          ]
        }
      ]
    },
    {
      "cell_type": "code",
      "source": [
        "# Grader Cell (2 points)\n",
        "grader.grade(test_case_id='bank_logreg_eval', answer=(weighted_lrg_train_acc, weighted_lrg_test_acc, weighted_lrg_train_rec, weighted_lrg_test_rec, weighted_lrg_train_pre, weighted_lrg_test_pre, weighted_lrg_train_f1, weighted_lrg_test_f1))"
      ],
      "metadata": {
        "id": "G4oNM_Qfh6xC",
        "colab": {
          "base_uri": "https://localhost:8080/"
        },
        "outputId": "26f1a81c-3a86-439b-9942-7bb2d6a3bc3c"
      },
      "execution_count": 92,
      "outputs": [
        {
          "output_type": "stream",
          "name": "stdout",
          "text": [
            "Correct! You earned 2/2 points. You are a star!\n",
            "\n",
            "Your submission has been successfully recorded in the gradebook.\n"
          ]
        }
      ]
    },
    {
      "cell_type": "markdown",
      "source": [
        "### 3.3.3: XGBoost Classifier [1 Point]\n",
        "\n",
        "We will now examine another type of classifier: XGBoost. XGBoost is an optimized implementation of gradient boosting designed for speed and performance. It builds an ensemble of decision trees sequentially, where each tree corrects the errors of the previous ones. XGBoost includes regularization to prevent overfitting and can handle large, complex datasets efficiently. It support parallelization, making it faster than other gradient boosting implementations.\n",
        "\n",
        " As mentioned, XGBoost trees are built sequentially, with each tree correcting the errors of the previous ones. In contrast, Random Forest (next section) combines the results of independently built trees for final predictions. XGBoost includes regularization to prevent overfitting and supports parallelization during tree construction, making it faster and more accurate in certain scenarios. Random Forest, on the other hand, is typically more robust to hyperparameter tuning and easier to train but may not achieve the same level of performance on structured data as XGBoost.\n",
        "\n",
        " **Task:**\n",
        " * Initialize an `XGBClassifier` called `xgb_clf` with the following parameters:\n",
        "  * `random_state = SEED` (same SEED as before)\n",
        "  * `tree_method = 'hist'`\n",
        "  * `scale_pos_weight = class_ratio`, this helps account for class imbalances (similar to the `class_weight` parameter in `LogisticRegression`)\n",
        "  * `n_estimators = 100`\n",
        "  * `max_depth = 3`\n",
        "* Fit it to the training data\n",
        "\n",
        "**Hint:**\n",
        " *   Use this [XGBoost documentation](https://xgboost.readthedocs.io/en/latest/python/python_api.html)"
      ],
      "metadata": {
        "id": "j6o0Lvg8h8k1"
      }
    },
    {
      "cell_type": "code",
      "source": [
        "# TODO: Initialize your XGB Classifier here with the above parameters\n",
        "xgb_clf = XGBClassifier(\n",
        "    random_state=SEED,          # Use the same SEED as before\n",
        "    tree_method='hist',         # Use the histogram-based algorithm\n",
        "    scale_pos_weight=class_ratio,  # This helps account for class imbalance\n",
        "    n_estimators=100,           # Number of boosting rounds\n",
        "    max_depth=3                 # Depth of each tree\n",
        ")\n",
        "# TODO: Fit the classifier to our data\n",
        "xgb_clf.fit(X_train, y_train)"
      ],
      "metadata": {
        "id": "xXNi-jrxh9Uu",
        "colab": {
          "base_uri": "https://localhost:8080/",
          "height": 253
        },
        "outputId": "82a6789e-02e6-4317-9383-e70224feb05e"
      },
      "execution_count": 96,
      "outputs": [
        {
          "output_type": "execute_result",
          "data": {
            "text/plain": [
              "XGBClassifier(base_score=None, booster=None, callbacks=None,\n",
              "              colsample_bylevel=None, colsample_bynode=None,\n",
              "              colsample_bytree=None, device=None, early_stopping_rounds=None,\n",
              "              enable_categorical=False, eval_metric=None, feature_types=None,\n",
              "              gamma=None, grow_policy=None, importance_type=None,\n",
              "              interaction_constraints=None, learning_rate=None, max_bin=None,\n",
              "              max_cat_threshold=None, max_cat_to_onehot=None,\n",
              "              max_delta_step=None, max_depth=3, max_leaves=None,\n",
              "              min_child_weight=None, missing=nan, monotone_constraints=None,\n",
              "              multi_strategy=None, n_estimators=100, n_jobs=None,\n",
              "              num_parallel_tree=None, random_state=12345, ...)"
            ],
            "text/html": [
              "<style>#sk-container-id-3 {\n",
              "  /* Definition of color scheme common for light and dark mode */\n",
              "  --sklearn-color-text: #000;\n",
              "  --sklearn-color-text-muted: #666;\n",
              "  --sklearn-color-line: gray;\n",
              "  /* Definition of color scheme for unfitted estimators */\n",
              "  --sklearn-color-unfitted-level-0: #fff5e6;\n",
              "  --sklearn-color-unfitted-level-1: #f6e4d2;\n",
              "  --sklearn-color-unfitted-level-2: #ffe0b3;\n",
              "  --sklearn-color-unfitted-level-3: chocolate;\n",
              "  /* Definition of color scheme for fitted estimators */\n",
              "  --sklearn-color-fitted-level-0: #f0f8ff;\n",
              "  --sklearn-color-fitted-level-1: #d4ebff;\n",
              "  --sklearn-color-fitted-level-2: #b3dbfd;\n",
              "  --sklearn-color-fitted-level-3: cornflowerblue;\n",
              "\n",
              "  /* Specific color for light theme */\n",
              "  --sklearn-color-text-on-default-background: var(--sg-text-color, var(--theme-code-foreground, var(--jp-content-font-color1, black)));\n",
              "  --sklearn-color-background: var(--sg-background-color, var(--theme-background, var(--jp-layout-color0, white)));\n",
              "  --sklearn-color-border-box: var(--sg-text-color, var(--theme-code-foreground, var(--jp-content-font-color1, black)));\n",
              "  --sklearn-color-icon: #696969;\n",
              "\n",
              "  @media (prefers-color-scheme: dark) {\n",
              "    /* Redefinition of color scheme for dark theme */\n",
              "    --sklearn-color-text-on-default-background: var(--sg-text-color, var(--theme-code-foreground, var(--jp-content-font-color1, white)));\n",
              "    --sklearn-color-background: var(--sg-background-color, var(--theme-background, var(--jp-layout-color0, #111)));\n",
              "    --sklearn-color-border-box: var(--sg-text-color, var(--theme-code-foreground, var(--jp-content-font-color1, white)));\n",
              "    --sklearn-color-icon: #878787;\n",
              "  }\n",
              "}\n",
              "\n",
              "#sk-container-id-3 {\n",
              "  color: var(--sklearn-color-text);\n",
              "}\n",
              "\n",
              "#sk-container-id-3 pre {\n",
              "  padding: 0;\n",
              "}\n",
              "\n",
              "#sk-container-id-3 input.sk-hidden--visually {\n",
              "  border: 0;\n",
              "  clip: rect(1px 1px 1px 1px);\n",
              "  clip: rect(1px, 1px, 1px, 1px);\n",
              "  height: 1px;\n",
              "  margin: -1px;\n",
              "  overflow: hidden;\n",
              "  padding: 0;\n",
              "  position: absolute;\n",
              "  width: 1px;\n",
              "}\n",
              "\n",
              "#sk-container-id-3 div.sk-dashed-wrapped {\n",
              "  border: 1px dashed var(--sklearn-color-line);\n",
              "  margin: 0 0.4em 0.5em 0.4em;\n",
              "  box-sizing: border-box;\n",
              "  padding-bottom: 0.4em;\n",
              "  background-color: var(--sklearn-color-background);\n",
              "}\n",
              "\n",
              "#sk-container-id-3 div.sk-container {\n",
              "  /* jupyter's `normalize.less` sets `[hidden] { display: none; }`\n",
              "     but bootstrap.min.css set `[hidden] { display: none !important; }`\n",
              "     so we also need the `!important` here to be able to override the\n",
              "     default hidden behavior on the sphinx rendered scikit-learn.org.\n",
              "     See: https://github.com/scikit-learn/scikit-learn/issues/21755 */\n",
              "  display: inline-block !important;\n",
              "  position: relative;\n",
              "}\n",
              "\n",
              "#sk-container-id-3 div.sk-text-repr-fallback {\n",
              "  display: none;\n",
              "}\n",
              "\n",
              "div.sk-parallel-item,\n",
              "div.sk-serial,\n",
              "div.sk-item {\n",
              "  /* draw centered vertical line to link estimators */\n",
              "  background-image: linear-gradient(var(--sklearn-color-text-on-default-background), var(--sklearn-color-text-on-default-background));\n",
              "  background-size: 2px 100%;\n",
              "  background-repeat: no-repeat;\n",
              "  background-position: center center;\n",
              "}\n",
              "\n",
              "/* Parallel-specific style estimator block */\n",
              "\n",
              "#sk-container-id-3 div.sk-parallel-item::after {\n",
              "  content: \"\";\n",
              "  width: 100%;\n",
              "  border-bottom: 2px solid var(--sklearn-color-text-on-default-background);\n",
              "  flex-grow: 1;\n",
              "}\n",
              "\n",
              "#sk-container-id-3 div.sk-parallel {\n",
              "  display: flex;\n",
              "  align-items: stretch;\n",
              "  justify-content: center;\n",
              "  background-color: var(--sklearn-color-background);\n",
              "  position: relative;\n",
              "}\n",
              "\n",
              "#sk-container-id-3 div.sk-parallel-item {\n",
              "  display: flex;\n",
              "  flex-direction: column;\n",
              "}\n",
              "\n",
              "#sk-container-id-3 div.sk-parallel-item:first-child::after {\n",
              "  align-self: flex-end;\n",
              "  width: 50%;\n",
              "}\n",
              "\n",
              "#sk-container-id-3 div.sk-parallel-item:last-child::after {\n",
              "  align-self: flex-start;\n",
              "  width: 50%;\n",
              "}\n",
              "\n",
              "#sk-container-id-3 div.sk-parallel-item:only-child::after {\n",
              "  width: 0;\n",
              "}\n",
              "\n",
              "/* Serial-specific style estimator block */\n",
              "\n",
              "#sk-container-id-3 div.sk-serial {\n",
              "  display: flex;\n",
              "  flex-direction: column;\n",
              "  align-items: center;\n",
              "  background-color: var(--sklearn-color-background);\n",
              "  padding-right: 1em;\n",
              "  padding-left: 1em;\n",
              "}\n",
              "\n",
              "\n",
              "/* Toggleable style: style used for estimator/Pipeline/ColumnTransformer box that is\n",
              "clickable and can be expanded/collapsed.\n",
              "- Pipeline and ColumnTransformer use this feature and define the default style\n",
              "- Estimators will overwrite some part of the style using the `sk-estimator` class\n",
              "*/\n",
              "\n",
              "/* Pipeline and ColumnTransformer style (default) */\n",
              "\n",
              "#sk-container-id-3 div.sk-toggleable {\n",
              "  /* Default theme specific background. It is overwritten whether we have a\n",
              "  specific estimator or a Pipeline/ColumnTransformer */\n",
              "  background-color: var(--sklearn-color-background);\n",
              "}\n",
              "\n",
              "/* Toggleable label */\n",
              "#sk-container-id-3 label.sk-toggleable__label {\n",
              "  cursor: pointer;\n",
              "  display: flex;\n",
              "  width: 100%;\n",
              "  margin-bottom: 0;\n",
              "  padding: 0.5em;\n",
              "  box-sizing: border-box;\n",
              "  text-align: center;\n",
              "  align-items: start;\n",
              "  justify-content: space-between;\n",
              "  gap: 0.5em;\n",
              "}\n",
              "\n",
              "#sk-container-id-3 label.sk-toggleable__label .caption {\n",
              "  font-size: 0.6rem;\n",
              "  font-weight: lighter;\n",
              "  color: var(--sklearn-color-text-muted);\n",
              "}\n",
              "\n",
              "#sk-container-id-3 label.sk-toggleable__label-arrow:before {\n",
              "  /* Arrow on the left of the label */\n",
              "  content: \"▸\";\n",
              "  float: left;\n",
              "  margin-right: 0.25em;\n",
              "  color: var(--sklearn-color-icon);\n",
              "}\n",
              "\n",
              "#sk-container-id-3 label.sk-toggleable__label-arrow:hover:before {\n",
              "  color: var(--sklearn-color-text);\n",
              "}\n",
              "\n",
              "/* Toggleable content - dropdown */\n",
              "\n",
              "#sk-container-id-3 div.sk-toggleable__content {\n",
              "  max-height: 0;\n",
              "  max-width: 0;\n",
              "  overflow: hidden;\n",
              "  text-align: left;\n",
              "  /* unfitted */\n",
              "  background-color: var(--sklearn-color-unfitted-level-0);\n",
              "}\n",
              "\n",
              "#sk-container-id-3 div.sk-toggleable__content.fitted {\n",
              "  /* fitted */\n",
              "  background-color: var(--sklearn-color-fitted-level-0);\n",
              "}\n",
              "\n",
              "#sk-container-id-3 div.sk-toggleable__content pre {\n",
              "  margin: 0.2em;\n",
              "  border-radius: 0.25em;\n",
              "  color: var(--sklearn-color-text);\n",
              "  /* unfitted */\n",
              "  background-color: var(--sklearn-color-unfitted-level-0);\n",
              "}\n",
              "\n",
              "#sk-container-id-3 div.sk-toggleable__content.fitted pre {\n",
              "  /* unfitted */\n",
              "  background-color: var(--sklearn-color-fitted-level-0);\n",
              "}\n",
              "\n",
              "#sk-container-id-3 input.sk-toggleable__control:checked~div.sk-toggleable__content {\n",
              "  /* Expand drop-down */\n",
              "  max-height: 200px;\n",
              "  max-width: 100%;\n",
              "  overflow: auto;\n",
              "}\n",
              "\n",
              "#sk-container-id-3 input.sk-toggleable__control:checked~label.sk-toggleable__label-arrow:before {\n",
              "  content: \"▾\";\n",
              "}\n",
              "\n",
              "/* Pipeline/ColumnTransformer-specific style */\n",
              "\n",
              "#sk-container-id-3 div.sk-label input.sk-toggleable__control:checked~label.sk-toggleable__label {\n",
              "  color: var(--sklearn-color-text);\n",
              "  background-color: var(--sklearn-color-unfitted-level-2);\n",
              "}\n",
              "\n",
              "#sk-container-id-3 div.sk-label.fitted input.sk-toggleable__control:checked~label.sk-toggleable__label {\n",
              "  background-color: var(--sklearn-color-fitted-level-2);\n",
              "}\n",
              "\n",
              "/* Estimator-specific style */\n",
              "\n",
              "/* Colorize estimator box */\n",
              "#sk-container-id-3 div.sk-estimator input.sk-toggleable__control:checked~label.sk-toggleable__label {\n",
              "  /* unfitted */\n",
              "  background-color: var(--sklearn-color-unfitted-level-2);\n",
              "}\n",
              "\n",
              "#sk-container-id-3 div.sk-estimator.fitted input.sk-toggleable__control:checked~label.sk-toggleable__label {\n",
              "  /* fitted */\n",
              "  background-color: var(--sklearn-color-fitted-level-2);\n",
              "}\n",
              "\n",
              "#sk-container-id-3 div.sk-label label.sk-toggleable__label,\n",
              "#sk-container-id-3 div.sk-label label {\n",
              "  /* The background is the default theme color */\n",
              "  color: var(--sklearn-color-text-on-default-background);\n",
              "}\n",
              "\n",
              "/* On hover, darken the color of the background */\n",
              "#sk-container-id-3 div.sk-label:hover label.sk-toggleable__label {\n",
              "  color: var(--sklearn-color-text);\n",
              "  background-color: var(--sklearn-color-unfitted-level-2);\n",
              "}\n",
              "\n",
              "/* Label box, darken color on hover, fitted */\n",
              "#sk-container-id-3 div.sk-label.fitted:hover label.sk-toggleable__label.fitted {\n",
              "  color: var(--sklearn-color-text);\n",
              "  background-color: var(--sklearn-color-fitted-level-2);\n",
              "}\n",
              "\n",
              "/* Estimator label */\n",
              "\n",
              "#sk-container-id-3 div.sk-label label {\n",
              "  font-family: monospace;\n",
              "  font-weight: bold;\n",
              "  display: inline-block;\n",
              "  line-height: 1.2em;\n",
              "}\n",
              "\n",
              "#sk-container-id-3 div.sk-label-container {\n",
              "  text-align: center;\n",
              "}\n",
              "\n",
              "/* Estimator-specific */\n",
              "#sk-container-id-3 div.sk-estimator {\n",
              "  font-family: monospace;\n",
              "  border: 1px dotted var(--sklearn-color-border-box);\n",
              "  border-radius: 0.25em;\n",
              "  box-sizing: border-box;\n",
              "  margin-bottom: 0.5em;\n",
              "  /* unfitted */\n",
              "  background-color: var(--sklearn-color-unfitted-level-0);\n",
              "}\n",
              "\n",
              "#sk-container-id-3 div.sk-estimator.fitted {\n",
              "  /* fitted */\n",
              "  background-color: var(--sklearn-color-fitted-level-0);\n",
              "}\n",
              "\n",
              "/* on hover */\n",
              "#sk-container-id-3 div.sk-estimator:hover {\n",
              "  /* unfitted */\n",
              "  background-color: var(--sklearn-color-unfitted-level-2);\n",
              "}\n",
              "\n",
              "#sk-container-id-3 div.sk-estimator.fitted:hover {\n",
              "  /* fitted */\n",
              "  background-color: var(--sklearn-color-fitted-level-2);\n",
              "}\n",
              "\n",
              "/* Specification for estimator info (e.g. \"i\" and \"?\") */\n",
              "\n",
              "/* Common style for \"i\" and \"?\" */\n",
              "\n",
              ".sk-estimator-doc-link,\n",
              "a:link.sk-estimator-doc-link,\n",
              "a:visited.sk-estimator-doc-link {\n",
              "  float: right;\n",
              "  font-size: smaller;\n",
              "  line-height: 1em;\n",
              "  font-family: monospace;\n",
              "  background-color: var(--sklearn-color-background);\n",
              "  border-radius: 1em;\n",
              "  height: 1em;\n",
              "  width: 1em;\n",
              "  text-decoration: none !important;\n",
              "  margin-left: 0.5em;\n",
              "  text-align: center;\n",
              "  /* unfitted */\n",
              "  border: var(--sklearn-color-unfitted-level-1) 1pt solid;\n",
              "  color: var(--sklearn-color-unfitted-level-1);\n",
              "}\n",
              "\n",
              ".sk-estimator-doc-link.fitted,\n",
              "a:link.sk-estimator-doc-link.fitted,\n",
              "a:visited.sk-estimator-doc-link.fitted {\n",
              "  /* fitted */\n",
              "  border: var(--sklearn-color-fitted-level-1) 1pt solid;\n",
              "  color: var(--sklearn-color-fitted-level-1);\n",
              "}\n",
              "\n",
              "/* On hover */\n",
              "div.sk-estimator:hover .sk-estimator-doc-link:hover,\n",
              ".sk-estimator-doc-link:hover,\n",
              "div.sk-label-container:hover .sk-estimator-doc-link:hover,\n",
              ".sk-estimator-doc-link:hover {\n",
              "  /* unfitted */\n",
              "  background-color: var(--sklearn-color-unfitted-level-3);\n",
              "  color: var(--sklearn-color-background);\n",
              "  text-decoration: none;\n",
              "}\n",
              "\n",
              "div.sk-estimator.fitted:hover .sk-estimator-doc-link.fitted:hover,\n",
              ".sk-estimator-doc-link.fitted:hover,\n",
              "div.sk-label-container:hover .sk-estimator-doc-link.fitted:hover,\n",
              ".sk-estimator-doc-link.fitted:hover {\n",
              "  /* fitted */\n",
              "  background-color: var(--sklearn-color-fitted-level-3);\n",
              "  color: var(--sklearn-color-background);\n",
              "  text-decoration: none;\n",
              "}\n",
              "\n",
              "/* Span, style for the box shown on hovering the info icon */\n",
              ".sk-estimator-doc-link span {\n",
              "  display: none;\n",
              "  z-index: 9999;\n",
              "  position: relative;\n",
              "  font-weight: normal;\n",
              "  right: .2ex;\n",
              "  padding: .5ex;\n",
              "  margin: .5ex;\n",
              "  width: min-content;\n",
              "  min-width: 20ex;\n",
              "  max-width: 50ex;\n",
              "  color: var(--sklearn-color-text);\n",
              "  box-shadow: 2pt 2pt 4pt #999;\n",
              "  /* unfitted */\n",
              "  background: var(--sklearn-color-unfitted-level-0);\n",
              "  border: .5pt solid var(--sklearn-color-unfitted-level-3);\n",
              "}\n",
              "\n",
              ".sk-estimator-doc-link.fitted span {\n",
              "  /* fitted */\n",
              "  background: var(--sklearn-color-fitted-level-0);\n",
              "  border: var(--sklearn-color-fitted-level-3);\n",
              "}\n",
              "\n",
              ".sk-estimator-doc-link:hover span {\n",
              "  display: block;\n",
              "}\n",
              "\n",
              "/* \"?\"-specific style due to the `<a>` HTML tag */\n",
              "\n",
              "#sk-container-id-3 a.estimator_doc_link {\n",
              "  float: right;\n",
              "  font-size: 1rem;\n",
              "  line-height: 1em;\n",
              "  font-family: monospace;\n",
              "  background-color: var(--sklearn-color-background);\n",
              "  border-radius: 1rem;\n",
              "  height: 1rem;\n",
              "  width: 1rem;\n",
              "  text-decoration: none;\n",
              "  /* unfitted */\n",
              "  color: var(--sklearn-color-unfitted-level-1);\n",
              "  border: var(--sklearn-color-unfitted-level-1) 1pt solid;\n",
              "}\n",
              "\n",
              "#sk-container-id-3 a.estimator_doc_link.fitted {\n",
              "  /* fitted */\n",
              "  border: var(--sklearn-color-fitted-level-1) 1pt solid;\n",
              "  color: var(--sklearn-color-fitted-level-1);\n",
              "}\n",
              "\n",
              "/* On hover */\n",
              "#sk-container-id-3 a.estimator_doc_link:hover {\n",
              "  /* unfitted */\n",
              "  background-color: var(--sklearn-color-unfitted-level-3);\n",
              "  color: var(--sklearn-color-background);\n",
              "  text-decoration: none;\n",
              "}\n",
              "\n",
              "#sk-container-id-3 a.estimator_doc_link.fitted:hover {\n",
              "  /* fitted */\n",
              "  background-color: var(--sklearn-color-fitted-level-3);\n",
              "}\n",
              "</style><div id=\"sk-container-id-3\" class=\"sk-top-container\"><div class=\"sk-text-repr-fallback\"><pre>XGBClassifier(base_score=None, booster=None, callbacks=None,\n",
              "              colsample_bylevel=None, colsample_bynode=None,\n",
              "              colsample_bytree=None, device=None, early_stopping_rounds=None,\n",
              "              enable_categorical=False, eval_metric=None, feature_types=None,\n",
              "              gamma=None, grow_policy=None, importance_type=None,\n",
              "              interaction_constraints=None, learning_rate=None, max_bin=None,\n",
              "              max_cat_threshold=None, max_cat_to_onehot=None,\n",
              "              max_delta_step=None, max_depth=3, max_leaves=None,\n",
              "              min_child_weight=None, missing=nan, monotone_constraints=None,\n",
              "              multi_strategy=None, n_estimators=100, n_jobs=None,\n",
              "              num_parallel_tree=None, random_state=12345, ...)</pre><b>In a Jupyter environment, please rerun this cell to show the HTML representation or trust the notebook. <br />On GitHub, the HTML representation is unable to render, please try loading this page with nbviewer.org.</b></div><div class=\"sk-container\" hidden><div class=\"sk-item\"><div class=\"sk-estimator fitted sk-toggleable\"><input class=\"sk-toggleable__control sk-hidden--visually\" id=\"sk-estimator-id-3\" type=\"checkbox\" checked><label for=\"sk-estimator-id-3\" class=\"sk-toggleable__label fitted sk-toggleable__label-arrow\"><div><div>XGBClassifier</div></div><div><span class=\"sk-estimator-doc-link fitted\">i<span>Fitted</span></span></div></label><div class=\"sk-toggleable__content fitted\"><pre>XGBClassifier(base_score=None, booster=None, callbacks=None,\n",
              "              colsample_bylevel=None, colsample_bynode=None,\n",
              "              colsample_bytree=None, device=None, early_stopping_rounds=None,\n",
              "              enable_categorical=False, eval_metric=None, feature_types=None,\n",
              "              gamma=None, grow_policy=None, importance_type=None,\n",
              "              interaction_constraints=None, learning_rate=None, max_bin=None,\n",
              "              max_cat_threshold=None, max_cat_to_onehot=None,\n",
              "              max_delta_step=None, max_depth=3, max_leaves=None,\n",
              "              min_child_weight=None, missing=nan, monotone_constraints=None,\n",
              "              multi_strategy=None, n_estimators=100, n_jobs=None,\n",
              "              num_parallel_tree=None, random_state=12345, ...)</pre></div> </div></div></div></div>"
            ]
          },
          "metadata": {},
          "execution_count": 96
        }
      ]
    },
    {
      "cell_type": "code",
      "source": [
        "# Grader Cell (1 point)\n",
        "grader.grade(test_case_id = 'bank_xgb', answer = (xgb_clf.get_params()))"
      ],
      "metadata": {
        "id": "sYxlIz_Ih-OW",
        "colab": {
          "base_uri": "https://localhost:8080/"
        },
        "outputId": "e24de9cc-183b-43f6-cf18-e297fb9a0c90"
      },
      "execution_count": 97,
      "outputs": [
        {
          "output_type": "stream",
          "name": "stdout",
          "text": [
            "Correct! You earned 1/1 points. You are a star!\n",
            "\n",
            "Your submission has been successfully recorded in the gradebook.\n"
          ]
        }
      ]
    },
    {
      "cell_type": "markdown",
      "source": [
        "### 3.3.4 XGBoost Classifier Evaluation [6 Points]\n",
        "We will now use the same metrics as we used for the `LogisticRegression` model on `xgb_clf`.\n",
        "\n",
        "**Task:**\n",
        "*   Predict on the training and testing data using the `.predict()` method of the `XGBClassifier` class\n",
        "*   Compute the performance using each of the above metrics on the training and testing sets\n",
        "* Save your calculations in the pre-defined variables\n",
        "\n",
        "**Hint:**\n",
        "* Make use of the scoring functions in sklearn, [`accuracy_score()`](https://scikit-learn.org/dev/modules/generated/sklearn.metrics.accuracy_score.html),  [`recall_score()`](https://scikit-learn.org/stable/modules/generated/sklearn.metrics.recall_score.html),  [`precision_score()`](https://scikit-learn.org/stable/modules/generated/sklearn.metrics.precision_score.html),  [`f1_score()`](https://scikit-learn.org/stable/modules/generated/sklearn.metrics.f1_score.html)"
      ],
      "metadata": {
        "id": "dTxyXeiIh_eu"
      }
    },
    {
      "cell_type": "code",
      "source": [
        "# TODO: Predict using your classifier\n",
        "xgb_clf_y_train_pred = xgb_clf.predict(X_train)\n",
        "xgb_clf_y_test_pred = xgb_clf.predict(X_test)\n",
        "\n",
        "# TODO: Compute metrics\n",
        "training_accuracy_score = accuracy_score(y_train, xgb_clf_y_train_pred)\n",
        "testing_accuracy_score = accuracy_score(y_test, xgb_clf_y_test_pred)\n",
        "\n",
        "training_recall_score = recall_score(y_train, xgb_clf_y_train_pred)\n",
        "testing_recall_score = recall_score(y_test, xgb_clf_y_test_pred)\n",
        "\n",
        "training_precision_score = precision_score(y_train, xgb_clf_y_train_pred)\n",
        "testing_precision_score = precision_score(y_test, xgb_clf_y_test_pred)\n",
        "\n",
        "training_f1_score = f1_score(y_train, xgb_clf_y_train_pred)\n",
        "testing_f1_score = f1_score(y_test, xgb_clf_y_test_pred)\n",
        "\n",
        "# DO NOT EDIT ------------------------------------------------------------------\n",
        "print(f'XGBoosting Training Accuracy: {training_accuracy_score}')\n",
        "print(f'XGBoosting Testing Accuracy: {testing_accuracy_score}')\n",
        "\n",
        "print(f'XGBoosting Training Recall: {training_recall_score}')\n",
        "print(f'XGBoosting Testing Recall: {testing_recall_score}')\n",
        "\n",
        "print(f'XGBoosting Training Precision: {training_precision_score}')\n",
        "print(f'XGBoosting Testing Precision: {testing_precision_score}')\n",
        "\n",
        "print(f'XGBoosting Training F1-Score: {training_f1_score}')\n",
        "print(f'XGBoosting Testing F1-Score: {testing_f1_score}')"
      ],
      "metadata": {
        "id": "yY8gU1amiAZt",
        "colab": {
          "base_uri": "https://localhost:8080/"
        },
        "outputId": "d74a95bf-1ba8-446c-ca95-28b39551b3ae"
      },
      "execution_count": 98,
      "outputs": [
        {
          "output_type": "stream",
          "name": "stdout",
          "text": [
            "XGBoosting Training Accuracy: 0.8438684795398091\n",
            "XGBoosting Testing Accuracy: 0.8377565694862074\n",
            "XGBoosting Training Recall: 0.6523781561949501\n",
            "XGBoosting Testing Recall: 0.6373239436619719\n",
            "XGBoosting Training Precision: 0.3821152192605331\n",
            "XGBoosting Testing Precision: 0.368135593220339\n",
            "XGBoosting Training F1-Score: 0.481943390087843\n",
            "XGBoosting Testing F1-Score: 0.46669531585732704\n"
          ]
        }
      ]
    },
    {
      "cell_type": "code",
      "source": [
        "# Grader Cell (6 points)\n",
        "grader.grade(test_case_id='bank_xgb_eval', answer=(training_accuracy_score, testing_accuracy_score, training_recall_score, testing_recall_score, training_precision_score, testing_precision_score, training_f1_score, testing_f1_score))"
      ],
      "metadata": {
        "id": "oMvMHj_BiBc7",
        "colab": {
          "base_uri": "https://localhost:8080/"
        },
        "outputId": "9f4044f5-d0b2-461e-c422-8c2d1449ca06"
      },
      "execution_count": 99,
      "outputs": [
        {
          "output_type": "stream",
          "name": "stdout",
          "text": [
            "Correct! You earned 6/6 points. You are a star!\n",
            "\n",
            "Your submission has been successfully recorded in the gradebook.\n"
          ]
        }
      ]
    },
    {
      "cell_type": "markdown",
      "source": [
        "We can see from the metrics on our test set that utilizing a more complex model like XGBoost gives us a slightly better accuracy, but more importantly, a higher recall and F1-score."
      ],
      "metadata": {
        "id": "dLXEVg79iEdl"
      }
    },
    {
      "cell_type": "markdown",
      "source": [
        "### 3.3.5: Random Forest Classifier [1 Point]\n",
        "Now that you've built a Logistic Regression classifier and XGBoost Classifier, we'll contrast it with a different classifier: a random forest. The Random Forest Classifier is an ensemble method that builds multiple decision trees on different subsets of the data and combines their predictions to improve accuracy and reduce overfitting. Each tree is trained on a random subset of the data and features, making the model robust to noise and complex patterns. It's particularly useful for handling non-linear relationships and is effective on high-dimensional datasets.\n",
        "\n",
        "\n",
        "**Task:**\n",
        "*   Using the [`RandomForestClassifer`](https://scikit-learn.org/stable/modules/generated/sklearn.ensemble.RandomForestClassifier.html) class from sklearn, set the following hyperparameters:\n",
        "   * `class_weight = 'balanced'`\n",
        "   * `n_estimators = 100`\n",
        "   * `max_depth = 5`\n",
        "   * `random_state = SEED` (same SEED as before)\n",
        "*   Save this classifier as `rfc` and fit the classifier to `X_train` and `y_train`"
      ],
      "metadata": {
        "id": "8oiVSE3AiG8m"
      }
    },
    {
      "cell_type": "code",
      "source": [
        "# TODO: Initialize the RandomForestClassifier with the above parameters\n",
        "rfc = RandomForestClassifier(\n",
        "    class_weight='balanced',  # Handle class imbalance\n",
        "    n_estimators=100,         # Number of trees in the forest\n",
        "    max_depth=5,              # Max depth of each tree\n",
        "    random_state=SEED         # Set random seed for reproducibility\n",
        ")\n",
        "# TODO: fit it to the training set\n",
        "rfc.fit(X_train, y_train)"
      ],
      "metadata": {
        "id": "7Evps2zQiEsW",
        "colab": {
          "base_uri": "https://localhost:8080/",
          "height": 80
        },
        "outputId": "d3730a34-2465-40fc-915b-03e7a9ba592c"
      },
      "execution_count": 100,
      "outputs": [
        {
          "output_type": "execute_result",
          "data": {
            "text/plain": [
              "RandomForestClassifier(class_weight='balanced', max_depth=5, random_state=12345)"
            ],
            "text/html": [
              "<style>#sk-container-id-4 {\n",
              "  /* Definition of color scheme common for light and dark mode */\n",
              "  --sklearn-color-text: #000;\n",
              "  --sklearn-color-text-muted: #666;\n",
              "  --sklearn-color-line: gray;\n",
              "  /* Definition of color scheme for unfitted estimators */\n",
              "  --sklearn-color-unfitted-level-0: #fff5e6;\n",
              "  --sklearn-color-unfitted-level-1: #f6e4d2;\n",
              "  --sklearn-color-unfitted-level-2: #ffe0b3;\n",
              "  --sklearn-color-unfitted-level-3: chocolate;\n",
              "  /* Definition of color scheme for fitted estimators */\n",
              "  --sklearn-color-fitted-level-0: #f0f8ff;\n",
              "  --sklearn-color-fitted-level-1: #d4ebff;\n",
              "  --sklearn-color-fitted-level-2: #b3dbfd;\n",
              "  --sklearn-color-fitted-level-3: cornflowerblue;\n",
              "\n",
              "  /* Specific color for light theme */\n",
              "  --sklearn-color-text-on-default-background: var(--sg-text-color, var(--theme-code-foreground, var(--jp-content-font-color1, black)));\n",
              "  --sklearn-color-background: var(--sg-background-color, var(--theme-background, var(--jp-layout-color0, white)));\n",
              "  --sklearn-color-border-box: var(--sg-text-color, var(--theme-code-foreground, var(--jp-content-font-color1, black)));\n",
              "  --sklearn-color-icon: #696969;\n",
              "\n",
              "  @media (prefers-color-scheme: dark) {\n",
              "    /* Redefinition of color scheme for dark theme */\n",
              "    --sklearn-color-text-on-default-background: var(--sg-text-color, var(--theme-code-foreground, var(--jp-content-font-color1, white)));\n",
              "    --sklearn-color-background: var(--sg-background-color, var(--theme-background, var(--jp-layout-color0, #111)));\n",
              "    --sklearn-color-border-box: var(--sg-text-color, var(--theme-code-foreground, var(--jp-content-font-color1, white)));\n",
              "    --sklearn-color-icon: #878787;\n",
              "  }\n",
              "}\n",
              "\n",
              "#sk-container-id-4 {\n",
              "  color: var(--sklearn-color-text);\n",
              "}\n",
              "\n",
              "#sk-container-id-4 pre {\n",
              "  padding: 0;\n",
              "}\n",
              "\n",
              "#sk-container-id-4 input.sk-hidden--visually {\n",
              "  border: 0;\n",
              "  clip: rect(1px 1px 1px 1px);\n",
              "  clip: rect(1px, 1px, 1px, 1px);\n",
              "  height: 1px;\n",
              "  margin: -1px;\n",
              "  overflow: hidden;\n",
              "  padding: 0;\n",
              "  position: absolute;\n",
              "  width: 1px;\n",
              "}\n",
              "\n",
              "#sk-container-id-4 div.sk-dashed-wrapped {\n",
              "  border: 1px dashed var(--sklearn-color-line);\n",
              "  margin: 0 0.4em 0.5em 0.4em;\n",
              "  box-sizing: border-box;\n",
              "  padding-bottom: 0.4em;\n",
              "  background-color: var(--sklearn-color-background);\n",
              "}\n",
              "\n",
              "#sk-container-id-4 div.sk-container {\n",
              "  /* jupyter's `normalize.less` sets `[hidden] { display: none; }`\n",
              "     but bootstrap.min.css set `[hidden] { display: none !important; }`\n",
              "     so we also need the `!important` here to be able to override the\n",
              "     default hidden behavior on the sphinx rendered scikit-learn.org.\n",
              "     See: https://github.com/scikit-learn/scikit-learn/issues/21755 */\n",
              "  display: inline-block !important;\n",
              "  position: relative;\n",
              "}\n",
              "\n",
              "#sk-container-id-4 div.sk-text-repr-fallback {\n",
              "  display: none;\n",
              "}\n",
              "\n",
              "div.sk-parallel-item,\n",
              "div.sk-serial,\n",
              "div.sk-item {\n",
              "  /* draw centered vertical line to link estimators */\n",
              "  background-image: linear-gradient(var(--sklearn-color-text-on-default-background), var(--sklearn-color-text-on-default-background));\n",
              "  background-size: 2px 100%;\n",
              "  background-repeat: no-repeat;\n",
              "  background-position: center center;\n",
              "}\n",
              "\n",
              "/* Parallel-specific style estimator block */\n",
              "\n",
              "#sk-container-id-4 div.sk-parallel-item::after {\n",
              "  content: \"\";\n",
              "  width: 100%;\n",
              "  border-bottom: 2px solid var(--sklearn-color-text-on-default-background);\n",
              "  flex-grow: 1;\n",
              "}\n",
              "\n",
              "#sk-container-id-4 div.sk-parallel {\n",
              "  display: flex;\n",
              "  align-items: stretch;\n",
              "  justify-content: center;\n",
              "  background-color: var(--sklearn-color-background);\n",
              "  position: relative;\n",
              "}\n",
              "\n",
              "#sk-container-id-4 div.sk-parallel-item {\n",
              "  display: flex;\n",
              "  flex-direction: column;\n",
              "}\n",
              "\n",
              "#sk-container-id-4 div.sk-parallel-item:first-child::after {\n",
              "  align-self: flex-end;\n",
              "  width: 50%;\n",
              "}\n",
              "\n",
              "#sk-container-id-4 div.sk-parallel-item:last-child::after {\n",
              "  align-self: flex-start;\n",
              "  width: 50%;\n",
              "}\n",
              "\n",
              "#sk-container-id-4 div.sk-parallel-item:only-child::after {\n",
              "  width: 0;\n",
              "}\n",
              "\n",
              "/* Serial-specific style estimator block */\n",
              "\n",
              "#sk-container-id-4 div.sk-serial {\n",
              "  display: flex;\n",
              "  flex-direction: column;\n",
              "  align-items: center;\n",
              "  background-color: var(--sklearn-color-background);\n",
              "  padding-right: 1em;\n",
              "  padding-left: 1em;\n",
              "}\n",
              "\n",
              "\n",
              "/* Toggleable style: style used for estimator/Pipeline/ColumnTransformer box that is\n",
              "clickable and can be expanded/collapsed.\n",
              "- Pipeline and ColumnTransformer use this feature and define the default style\n",
              "- Estimators will overwrite some part of the style using the `sk-estimator` class\n",
              "*/\n",
              "\n",
              "/* Pipeline and ColumnTransformer style (default) */\n",
              "\n",
              "#sk-container-id-4 div.sk-toggleable {\n",
              "  /* Default theme specific background. It is overwritten whether we have a\n",
              "  specific estimator or a Pipeline/ColumnTransformer */\n",
              "  background-color: var(--sklearn-color-background);\n",
              "}\n",
              "\n",
              "/* Toggleable label */\n",
              "#sk-container-id-4 label.sk-toggleable__label {\n",
              "  cursor: pointer;\n",
              "  display: flex;\n",
              "  width: 100%;\n",
              "  margin-bottom: 0;\n",
              "  padding: 0.5em;\n",
              "  box-sizing: border-box;\n",
              "  text-align: center;\n",
              "  align-items: start;\n",
              "  justify-content: space-between;\n",
              "  gap: 0.5em;\n",
              "}\n",
              "\n",
              "#sk-container-id-4 label.sk-toggleable__label .caption {\n",
              "  font-size: 0.6rem;\n",
              "  font-weight: lighter;\n",
              "  color: var(--sklearn-color-text-muted);\n",
              "}\n",
              "\n",
              "#sk-container-id-4 label.sk-toggleable__label-arrow:before {\n",
              "  /* Arrow on the left of the label */\n",
              "  content: \"▸\";\n",
              "  float: left;\n",
              "  margin-right: 0.25em;\n",
              "  color: var(--sklearn-color-icon);\n",
              "}\n",
              "\n",
              "#sk-container-id-4 label.sk-toggleable__label-arrow:hover:before {\n",
              "  color: var(--sklearn-color-text);\n",
              "}\n",
              "\n",
              "/* Toggleable content - dropdown */\n",
              "\n",
              "#sk-container-id-4 div.sk-toggleable__content {\n",
              "  max-height: 0;\n",
              "  max-width: 0;\n",
              "  overflow: hidden;\n",
              "  text-align: left;\n",
              "  /* unfitted */\n",
              "  background-color: var(--sklearn-color-unfitted-level-0);\n",
              "}\n",
              "\n",
              "#sk-container-id-4 div.sk-toggleable__content.fitted {\n",
              "  /* fitted */\n",
              "  background-color: var(--sklearn-color-fitted-level-0);\n",
              "}\n",
              "\n",
              "#sk-container-id-4 div.sk-toggleable__content pre {\n",
              "  margin: 0.2em;\n",
              "  border-radius: 0.25em;\n",
              "  color: var(--sklearn-color-text);\n",
              "  /* unfitted */\n",
              "  background-color: var(--sklearn-color-unfitted-level-0);\n",
              "}\n",
              "\n",
              "#sk-container-id-4 div.sk-toggleable__content.fitted pre {\n",
              "  /* unfitted */\n",
              "  background-color: var(--sklearn-color-fitted-level-0);\n",
              "}\n",
              "\n",
              "#sk-container-id-4 input.sk-toggleable__control:checked~div.sk-toggleable__content {\n",
              "  /* Expand drop-down */\n",
              "  max-height: 200px;\n",
              "  max-width: 100%;\n",
              "  overflow: auto;\n",
              "}\n",
              "\n",
              "#sk-container-id-4 input.sk-toggleable__control:checked~label.sk-toggleable__label-arrow:before {\n",
              "  content: \"▾\";\n",
              "}\n",
              "\n",
              "/* Pipeline/ColumnTransformer-specific style */\n",
              "\n",
              "#sk-container-id-4 div.sk-label input.sk-toggleable__control:checked~label.sk-toggleable__label {\n",
              "  color: var(--sklearn-color-text);\n",
              "  background-color: var(--sklearn-color-unfitted-level-2);\n",
              "}\n",
              "\n",
              "#sk-container-id-4 div.sk-label.fitted input.sk-toggleable__control:checked~label.sk-toggleable__label {\n",
              "  background-color: var(--sklearn-color-fitted-level-2);\n",
              "}\n",
              "\n",
              "/* Estimator-specific style */\n",
              "\n",
              "/* Colorize estimator box */\n",
              "#sk-container-id-4 div.sk-estimator input.sk-toggleable__control:checked~label.sk-toggleable__label {\n",
              "  /* unfitted */\n",
              "  background-color: var(--sklearn-color-unfitted-level-2);\n",
              "}\n",
              "\n",
              "#sk-container-id-4 div.sk-estimator.fitted input.sk-toggleable__control:checked~label.sk-toggleable__label {\n",
              "  /* fitted */\n",
              "  background-color: var(--sklearn-color-fitted-level-2);\n",
              "}\n",
              "\n",
              "#sk-container-id-4 div.sk-label label.sk-toggleable__label,\n",
              "#sk-container-id-4 div.sk-label label {\n",
              "  /* The background is the default theme color */\n",
              "  color: var(--sklearn-color-text-on-default-background);\n",
              "}\n",
              "\n",
              "/* On hover, darken the color of the background */\n",
              "#sk-container-id-4 div.sk-label:hover label.sk-toggleable__label {\n",
              "  color: var(--sklearn-color-text);\n",
              "  background-color: var(--sklearn-color-unfitted-level-2);\n",
              "}\n",
              "\n",
              "/* Label box, darken color on hover, fitted */\n",
              "#sk-container-id-4 div.sk-label.fitted:hover label.sk-toggleable__label.fitted {\n",
              "  color: var(--sklearn-color-text);\n",
              "  background-color: var(--sklearn-color-fitted-level-2);\n",
              "}\n",
              "\n",
              "/* Estimator label */\n",
              "\n",
              "#sk-container-id-4 div.sk-label label {\n",
              "  font-family: monospace;\n",
              "  font-weight: bold;\n",
              "  display: inline-block;\n",
              "  line-height: 1.2em;\n",
              "}\n",
              "\n",
              "#sk-container-id-4 div.sk-label-container {\n",
              "  text-align: center;\n",
              "}\n",
              "\n",
              "/* Estimator-specific */\n",
              "#sk-container-id-4 div.sk-estimator {\n",
              "  font-family: monospace;\n",
              "  border: 1px dotted var(--sklearn-color-border-box);\n",
              "  border-radius: 0.25em;\n",
              "  box-sizing: border-box;\n",
              "  margin-bottom: 0.5em;\n",
              "  /* unfitted */\n",
              "  background-color: var(--sklearn-color-unfitted-level-0);\n",
              "}\n",
              "\n",
              "#sk-container-id-4 div.sk-estimator.fitted {\n",
              "  /* fitted */\n",
              "  background-color: var(--sklearn-color-fitted-level-0);\n",
              "}\n",
              "\n",
              "/* on hover */\n",
              "#sk-container-id-4 div.sk-estimator:hover {\n",
              "  /* unfitted */\n",
              "  background-color: var(--sklearn-color-unfitted-level-2);\n",
              "}\n",
              "\n",
              "#sk-container-id-4 div.sk-estimator.fitted:hover {\n",
              "  /* fitted */\n",
              "  background-color: var(--sklearn-color-fitted-level-2);\n",
              "}\n",
              "\n",
              "/* Specification for estimator info (e.g. \"i\" and \"?\") */\n",
              "\n",
              "/* Common style for \"i\" and \"?\" */\n",
              "\n",
              ".sk-estimator-doc-link,\n",
              "a:link.sk-estimator-doc-link,\n",
              "a:visited.sk-estimator-doc-link {\n",
              "  float: right;\n",
              "  font-size: smaller;\n",
              "  line-height: 1em;\n",
              "  font-family: monospace;\n",
              "  background-color: var(--sklearn-color-background);\n",
              "  border-radius: 1em;\n",
              "  height: 1em;\n",
              "  width: 1em;\n",
              "  text-decoration: none !important;\n",
              "  margin-left: 0.5em;\n",
              "  text-align: center;\n",
              "  /* unfitted */\n",
              "  border: var(--sklearn-color-unfitted-level-1) 1pt solid;\n",
              "  color: var(--sklearn-color-unfitted-level-1);\n",
              "}\n",
              "\n",
              ".sk-estimator-doc-link.fitted,\n",
              "a:link.sk-estimator-doc-link.fitted,\n",
              "a:visited.sk-estimator-doc-link.fitted {\n",
              "  /* fitted */\n",
              "  border: var(--sklearn-color-fitted-level-1) 1pt solid;\n",
              "  color: var(--sklearn-color-fitted-level-1);\n",
              "}\n",
              "\n",
              "/* On hover */\n",
              "div.sk-estimator:hover .sk-estimator-doc-link:hover,\n",
              ".sk-estimator-doc-link:hover,\n",
              "div.sk-label-container:hover .sk-estimator-doc-link:hover,\n",
              ".sk-estimator-doc-link:hover {\n",
              "  /* unfitted */\n",
              "  background-color: var(--sklearn-color-unfitted-level-3);\n",
              "  color: var(--sklearn-color-background);\n",
              "  text-decoration: none;\n",
              "}\n",
              "\n",
              "div.sk-estimator.fitted:hover .sk-estimator-doc-link.fitted:hover,\n",
              ".sk-estimator-doc-link.fitted:hover,\n",
              "div.sk-label-container:hover .sk-estimator-doc-link.fitted:hover,\n",
              ".sk-estimator-doc-link.fitted:hover {\n",
              "  /* fitted */\n",
              "  background-color: var(--sklearn-color-fitted-level-3);\n",
              "  color: var(--sklearn-color-background);\n",
              "  text-decoration: none;\n",
              "}\n",
              "\n",
              "/* Span, style for the box shown on hovering the info icon */\n",
              ".sk-estimator-doc-link span {\n",
              "  display: none;\n",
              "  z-index: 9999;\n",
              "  position: relative;\n",
              "  font-weight: normal;\n",
              "  right: .2ex;\n",
              "  padding: .5ex;\n",
              "  margin: .5ex;\n",
              "  width: min-content;\n",
              "  min-width: 20ex;\n",
              "  max-width: 50ex;\n",
              "  color: var(--sklearn-color-text);\n",
              "  box-shadow: 2pt 2pt 4pt #999;\n",
              "  /* unfitted */\n",
              "  background: var(--sklearn-color-unfitted-level-0);\n",
              "  border: .5pt solid var(--sklearn-color-unfitted-level-3);\n",
              "}\n",
              "\n",
              ".sk-estimator-doc-link.fitted span {\n",
              "  /* fitted */\n",
              "  background: var(--sklearn-color-fitted-level-0);\n",
              "  border: var(--sklearn-color-fitted-level-3);\n",
              "}\n",
              "\n",
              ".sk-estimator-doc-link:hover span {\n",
              "  display: block;\n",
              "}\n",
              "\n",
              "/* \"?\"-specific style due to the `<a>` HTML tag */\n",
              "\n",
              "#sk-container-id-4 a.estimator_doc_link {\n",
              "  float: right;\n",
              "  font-size: 1rem;\n",
              "  line-height: 1em;\n",
              "  font-family: monospace;\n",
              "  background-color: var(--sklearn-color-background);\n",
              "  border-radius: 1rem;\n",
              "  height: 1rem;\n",
              "  width: 1rem;\n",
              "  text-decoration: none;\n",
              "  /* unfitted */\n",
              "  color: var(--sklearn-color-unfitted-level-1);\n",
              "  border: var(--sklearn-color-unfitted-level-1) 1pt solid;\n",
              "}\n",
              "\n",
              "#sk-container-id-4 a.estimator_doc_link.fitted {\n",
              "  /* fitted */\n",
              "  border: var(--sklearn-color-fitted-level-1) 1pt solid;\n",
              "  color: var(--sklearn-color-fitted-level-1);\n",
              "}\n",
              "\n",
              "/* On hover */\n",
              "#sk-container-id-4 a.estimator_doc_link:hover {\n",
              "  /* unfitted */\n",
              "  background-color: var(--sklearn-color-unfitted-level-3);\n",
              "  color: var(--sklearn-color-background);\n",
              "  text-decoration: none;\n",
              "}\n",
              "\n",
              "#sk-container-id-4 a.estimator_doc_link.fitted:hover {\n",
              "  /* fitted */\n",
              "  background-color: var(--sklearn-color-fitted-level-3);\n",
              "}\n",
              "</style><div id=\"sk-container-id-4\" class=\"sk-top-container\"><div class=\"sk-text-repr-fallback\"><pre>RandomForestClassifier(class_weight=&#x27;balanced&#x27;, max_depth=5, random_state=12345)</pre><b>In a Jupyter environment, please rerun this cell to show the HTML representation or trust the notebook. <br />On GitHub, the HTML representation is unable to render, please try loading this page with nbviewer.org.</b></div><div class=\"sk-container\" hidden><div class=\"sk-item\"><div class=\"sk-estimator fitted sk-toggleable\"><input class=\"sk-toggleable__control sk-hidden--visually\" id=\"sk-estimator-id-4\" type=\"checkbox\" checked><label for=\"sk-estimator-id-4\" class=\"sk-toggleable__label fitted sk-toggleable__label-arrow\"><div><div>RandomForestClassifier</div></div><div><a class=\"sk-estimator-doc-link fitted\" rel=\"noreferrer\" target=\"_blank\" href=\"https://scikit-learn.org/1.6/modules/generated/sklearn.ensemble.RandomForestClassifier.html\">?<span>Documentation for RandomForestClassifier</span></a><span class=\"sk-estimator-doc-link fitted\">i<span>Fitted</span></span></div></label><div class=\"sk-toggleable__content fitted\"><pre>RandomForestClassifier(class_weight=&#x27;balanced&#x27;, max_depth=5, random_state=12345)</pre></div> </div></div></div></div>"
            ]
          },
          "metadata": {},
          "execution_count": 100
        }
      ]
    },
    {
      "cell_type": "code",
      "source": [
        "# Grader Cell (1 point)\n",
        "grader.grade(test_case_id = 'bank_rfc', answer = (rfc.get_params()))"
      ],
      "metadata": {
        "id": "HVTVOKFviI20",
        "colab": {
          "base_uri": "https://localhost:8080/"
        },
        "outputId": "617b8195-6e4e-4f0f-bcd5-142974e0dbf8"
      },
      "execution_count": 101,
      "outputs": [
        {
          "output_type": "stream",
          "name": "stdout",
          "text": [
            "Correct! You earned 1/1 points. You are a star!\n",
            "\n",
            "Your submission has been successfully recorded in the gradebook.\n"
          ]
        }
      ]
    },
    {
      "cell_type": "markdown",
      "source": [
        "### 3.3.6: Random Forest Classifier Evaluation [6 Points]\n",
        "We will now use the same metrics as for the previous models model on `rfc`.\n",
        "\n",
        "**Task:**\n",
        "*   Predict on the training and testing data using the `.predict()` method of the `RandomForestClassifier` class\n",
        "*   Compute the performance using each of the above metrics on the training and testing sets\n",
        "* Save your calculations in the pre-defined variables\n",
        "\n",
        "**Hint:**\n",
        "* If your metrics are incorrect please make sure that you follow the column ordering instructions in 3.2 carefully (especially when doing the one hot encoding)"
      ],
      "metadata": {
        "id": "VPPS4XOViKOO"
      }
    },
    {
      "cell_type": "code",
      "source": [
        "# TODO: Predict on the training and testing set\n",
        "rfc_y_train_pred = rfc.predict(X_train)\n",
        "\n",
        "# Predict on the testing set\n",
        "rfc_y_test_pred = rfc.predict(X_test)"
      ],
      "metadata": {
        "id": "4WxBITXNiLI0"
      },
      "execution_count": 102,
      "outputs": []
    },
    {
      "cell_type": "code",
      "source": [
        "# TODO: Compute performance metrics for the model\n",
        "rfc_train_acc = accuracy_score(y_train, rfc_y_train_pred)\n",
        "\n",
        "# Compute testing accuracy\n",
        "rfc_test_acc = accuracy_score(y_test, rfc_y_test_pred)\n",
        "\n",
        "# Compute training recall\n",
        "rfc_train_recall = recall_score(y_train, rfc_y_train_pred)\n",
        "\n",
        "# Compute testing recall\n",
        "rfc_test_recall = recall_score(y_test, rfc_y_test_pred)\n",
        "\n",
        "# Compute training precision\n",
        "rfc_train_precision = precision_score(y_train, rfc_y_train_pred)\n",
        "\n",
        "# Compute testing precision\n",
        "rfc_test_precision = precision_score(y_test, rfc_y_test_pred)\n",
        "\n",
        "# Compute training F1-score\n",
        "rfc_train_f1 = f1_score(y_train, rfc_y_train_pred)\n",
        "\n",
        "# Compute testing F1-score\n",
        "rfc_test_f1 = f1_score(y_test, rfc_y_test_pred)"
      ],
      "metadata": {
        "id": "l5afVw3AiMEK"
      },
      "execution_count": 103,
      "outputs": []
    },
    {
      "cell_type": "code",
      "source": [
        "# DO NOT CHANGE ----------------------------------------------------------------\n",
        "print(f'Random Forest Classifier Training Accuracy: {rfc_train_acc}')\n",
        "print(f'Random Forest Classifier Testing Accuracy: {rfc_test_acc}')\n",
        "\n",
        "print(f'Random Forest Classifier Training Recall: {rfc_train_recall}')\n",
        "print(f'Random Forest Classifier Testing Recall: {rfc_test_recall}')\n",
        "\n",
        "print(f'Random Forest Classifier Training Precision: {rfc_train_precision}')\n",
        "print(f'Random Forest Classifier Testing Precision: {rfc_test_precision}')\n",
        "\n",
        "print(f'Random Forest Classifier Training F1-Score: {rfc_train_f1}')\n",
        "print(f'Random Forest Classifier Testing F1-Score: {rfc_test_f1}')\n",
        "# DO NOT CHANGE ----------------------------------------------------------------"
      ],
      "metadata": {
        "id": "057OkJMXiMpo",
        "colab": {
          "base_uri": "https://localhost:8080/"
        },
        "outputId": "21b49bd1-0874-403a-eb0c-8873a9d84c42"
      },
      "execution_count": 104,
      "outputs": [
        {
          "output_type": "stream",
          "name": "stdout",
          "text": [
            "Random Forest Classifier Training Accuracy: 0.8328539678389332\n",
            "Random Forest Classifier Testing Accuracy: 0.8314812393776965\n",
            "Random Forest Classifier Training Recall: 0.6183206106870229\n",
            "Random Forest Classifier Testing Recall: 0.6291079812206573\n",
            "Random Forest Classifier Training Precision: 0.35574324324324325\n",
            "Random Forest Classifier Testing Precision: 0.35520212060967526\n",
            "Random Forest Classifier Training F1-Score: 0.4516405747372936\n",
            "Random Forest Classifier Testing F1-Score: 0.45404489623041083\n"
          ]
        }
      ]
    },
    {
      "cell_type": "code",
      "source": [
        "# Grader Cell (6 points)\n",
        "grader.grade(test_case_id='bank_rf_eval', answer=(rfc_train_acc, rfc_test_acc, rfc_train_recall, rfc_test_recall, rfc_train_precision, rfc_test_precision, rfc_train_f1, rfc_test_f1))"
      ],
      "metadata": {
        "id": "cAt5anSGiN6q",
        "colab": {
          "base_uri": "https://localhost:8080/"
        },
        "outputId": "d7adea3f-d893-449b-f0c4-1cf67bb966b1"
      },
      "execution_count": 105,
      "outputs": [
        {
          "output_type": "stream",
          "name": "stdout",
          "text": [
            "Correct! You earned 6/6 points. You are a star!\n",
            "\n",
            "Your submission has been successfully recorded in the gradebook.\n"
          ]
        }
      ]
    },
    {
      "cell_type": "markdown",
      "source": [
        "## 3.4: Intro to Hyperparameter Tuning [8 Points]\n",
        "In this section, we will be gain some familiarity with a new machine learning algorithm and an essential component of data modelling called hyperparameter tuning.\n",
        "\n",
        "In machine learning, there are typically two sets of parameters. The first being the model parameters. These are typically the parameters that are used to model the data directly, and these are learned through some sort of optimization problem. An example of these would be the weights in a linear regression model (Recall: $y=\\beta^Tx=\\beta_1x_1+\\beta_2x_2+\\cdots+\\beta_mx_m$, $\\beta$ are the model parameters). The second are the *hyperparameters*, and these typically control the learning algorithm. Hyperparameters influence the way the model learns or fits the model parameters to the data, and as a result influences model performance. Some example of hyperparameters include the learning rate in a neural network, the class weight we used in our logistic regression model earlier, or optimization method in a linear regression.\n",
        "\n",
        "**Tuning** is the process of finding the set of hyperparameters that yield the best model parameters for the given data set. As you saw in 3.3, we define *best* loosely here as that depends on the specific problem being worked on. Here we will be using the logistic regression model to provide a introduction to hyperparameter tuning."
      ],
      "metadata": {
        "id": "Olt8gf8AiRUX"
      }
    },
    {
      "cell_type": "markdown",
      "source": [
        "### 3.4.1: Grid Search w/ Random Forest [8 Points]\n",
        "There are many different ways in which hyperparameter tuning can be done (see [Ax](https://ax.dev/docs/why-ax.html) and [Optuna](https://optuna.org/) for recent developments). We will be getting started with one of the earliest hyperparameter tuning methods, Grid Search. As the name suggests, here were are going to select a model, define a grid of hyperparameters to search on, and then gradually and exhaustively search every combination of hyperparameters.\n",
        "\n",
        "We will be using a model training and evaluation method called cross-validation to determine the best set of hyperparameters - if you're curious and would like to learn more about cross-validation, see [sklearn documentation](https://scikit-learn.org/stable/modules/cross_validation.html#cross-validation).\n",
        "\n",
        "Here we will be tuning a new Random Forest Classifier.\n",
        "\n",
        "**Task:**\n",
        "*   Define a [`StratifiedKFold`](https://scikit-learn.org/dev/modules/generated/sklearn.model_selection.StratifiedKFold.html) object from sklearn. This allows us to stratify our splits in cross-validation according to class proportions, similar to what we did in training.\n",
        "   *   Set the `random_state` to the `SEED` value from before.\n",
        "   *   Ensure that you shuffle the data\n",
        "   *   Use 5 splits for cross validation\n",
        "   *   Save this data in the variable `cv`\n",
        "\n",
        "*   Define a `RandomForestClassifier` class and save the instance in the variable `estimator`. Remember to set `random_state = SEED`.\n",
        "\n",
        "*   Create a search grid for hyperparameter tuning\n",
        "  * The parameters we are tuning are `class_weight`, `num_estimators`, and `max_depth`\n",
        "  *  Values for `class_weight` should be `None` or `'balanced'`\n",
        "  * Values for `n_estimators` should be 50, 100, 150\n",
        "  * Values for `max_depth` should be 3, 5, 10\n",
        "  * Save the grid in a `dictionary` called `param_grid`, where the keys are strings of the parameter names and the values are the lists of possible values.\n",
        "\n",
        "* Based on your experience with the Random Forest and what you know about the problem context, choose an appropriate metric to evaluate the models and set the `scoring` variable to a string for that metric (e.g. `scoring = 'accuracy'`). Keep in mind the context we are working in; we would like a good balance between the precision and the recall of the model.\n",
        "\n",
        "\n",
        "  **Hint:**\n",
        "  *   Reminder that `param_grid` is  a `dictionary`"
      ],
      "metadata": {
        "id": "40GeBppiiTra"
      }
    },
    {
      "cell_type": "code",
      "source": [
        "# TODO: Define the stratified cross-validation splitter with the above seed\n",
        "cv = StratifiedKFold(n_splits=5, shuffle=True, random_state=SEED)\n",
        "\n",
        "# TODO: Define the RandomForestClassifier with the above seed\n",
        "estimator = RandomForestClassifier(random_state=SEED)\n",
        "\n",
        "# TODO: Define the parameter grid\n",
        "param_grid = {\n",
        "    'class_weight': [None, 'balanced'],  # class_weight hyperparameter\n",
        "    'n_estimators': [50, 100, 150],     # n_estimators hyperparameter\n",
        "    'max_depth': [3, 5, 10]             # max_depth hyperparameter\n",
        "}\n",
        "\n",
        "# TODO: Define the metric as a lower case string (one of 'accuracy', 'recall', 'precision', 'f1')\n",
        "scoring = 'f1'"
      ],
      "metadata": {
        "id": "SpZZQyZTiRo-"
      },
      "execution_count": 106,
      "outputs": []
    },
    {
      "cell_type": "code",
      "source": [
        "# Grader cell (4 points)\n",
        "grader.grade(test_case_id='tune_grid_rf', answer=([cv.n_splits, cv.shuffle, cv.random_state], estimator.get_params(), param_grid, scoring))"
      ],
      "metadata": {
        "id": "fQ1lkUzxiW-X",
        "colab": {
          "base_uri": "https://localhost:8080/"
        },
        "outputId": "e4caf243-e03f-419e-bd20-98964af28c9d"
      },
      "execution_count": 107,
      "outputs": [
        {
          "output_type": "stream",
          "name": "stdout",
          "text": [
            "Correct! You earned 4/4 points. You are a star!\n",
            "\n",
            "Your submission has been successfully recorded in the gradebook.\n"
          ]
        }
      ]
    },
    {
      "cell_type": "markdown",
      "source": [
        "Now we will perform the grid search for Random Forest Classifier and see if we can find a set of hyperparameters that produce a model which outperforms the one we trained in Section 3.3.\n",
        "\n",
        "**Task:**\n",
        "\n",
        "* Using [`GridSearchCV`](https://scikit-learn.org/dev/modules/generated/sklearn.model_selection.GridSearchCV.html) from sklearn, set up the grid search and save this in the variable `search`\n",
        "* Execute the grid search for the Random Forest model over the hyperparameter space you defined.\n",
        "* After the best model is found, use it to predict and calculate the score on the `X_test` data set using the metric you chose to optimize, save this in the `search_score` variable\n",
        "\n",
        "**Hint:**\n",
        "\n",
        "* This may take a few minutes - if you'd like to see the progress of the grid search procedure, set `verbose=2` in `GridSearchCV`"
      ],
      "metadata": {
        "id": "04QqlUvwiYC2"
      }
    },
    {
      "cell_type": "code",
      "source": [
        "# TODO: Set up the grid search\n",
        "search = GridSearchCV(\n",
        "    estimator=estimator,            # RandomForestClassifier\n",
        "    param_grid=param_grid,          # Hyperparameter grid\n",
        "    cv=cv,                          # StratifiedKFold cross-validation\n",
        "    scoring=scoring,                # F1 score as the evaluation metric\n",
        "    verbose=2,                      # Show progress\n",
        "    n_jobs=-1                        # Use all available processors for faster computation\n",
        ")\n",
        "\n",
        "# TODO: Execute the grid search by calling fit\n",
        "search.fit(X_train, y_train)"
      ],
      "metadata": {
        "id": "mf0O7MU0iYmD",
        "colab": {
          "base_uri": "https://localhost:8080/",
          "height": 183
        },
        "outputId": "bb8d3d90-6ae7-40c5-f877-b1b5e5b1f143"
      },
      "execution_count": 108,
      "outputs": [
        {
          "output_type": "stream",
          "name": "stdout",
          "text": [
            "Fitting 5 folds for each of 18 candidates, totalling 90 fits\n"
          ]
        },
        {
          "output_type": "execute_result",
          "data": {
            "text/plain": [
              "GridSearchCV(cv=StratifiedKFold(n_splits=5, random_state=12345, shuffle=True),\n",
              "             estimator=RandomForestClassifier(random_state=12345), n_jobs=-1,\n",
              "             param_grid={'class_weight': [None, 'balanced'],\n",
              "                         'max_depth': [3, 5, 10],\n",
              "                         'n_estimators': [50, 100, 150]},\n",
              "             scoring='f1', verbose=2)"
            ],
            "text/html": [
              "<style>#sk-container-id-5 {\n",
              "  /* Definition of color scheme common for light and dark mode */\n",
              "  --sklearn-color-text: #000;\n",
              "  --sklearn-color-text-muted: #666;\n",
              "  --sklearn-color-line: gray;\n",
              "  /* Definition of color scheme for unfitted estimators */\n",
              "  --sklearn-color-unfitted-level-0: #fff5e6;\n",
              "  --sklearn-color-unfitted-level-1: #f6e4d2;\n",
              "  --sklearn-color-unfitted-level-2: #ffe0b3;\n",
              "  --sklearn-color-unfitted-level-3: chocolate;\n",
              "  /* Definition of color scheme for fitted estimators */\n",
              "  --sklearn-color-fitted-level-0: #f0f8ff;\n",
              "  --sklearn-color-fitted-level-1: #d4ebff;\n",
              "  --sklearn-color-fitted-level-2: #b3dbfd;\n",
              "  --sklearn-color-fitted-level-3: cornflowerblue;\n",
              "\n",
              "  /* Specific color for light theme */\n",
              "  --sklearn-color-text-on-default-background: var(--sg-text-color, var(--theme-code-foreground, var(--jp-content-font-color1, black)));\n",
              "  --sklearn-color-background: var(--sg-background-color, var(--theme-background, var(--jp-layout-color0, white)));\n",
              "  --sklearn-color-border-box: var(--sg-text-color, var(--theme-code-foreground, var(--jp-content-font-color1, black)));\n",
              "  --sklearn-color-icon: #696969;\n",
              "\n",
              "  @media (prefers-color-scheme: dark) {\n",
              "    /* Redefinition of color scheme for dark theme */\n",
              "    --sklearn-color-text-on-default-background: var(--sg-text-color, var(--theme-code-foreground, var(--jp-content-font-color1, white)));\n",
              "    --sklearn-color-background: var(--sg-background-color, var(--theme-background, var(--jp-layout-color0, #111)));\n",
              "    --sklearn-color-border-box: var(--sg-text-color, var(--theme-code-foreground, var(--jp-content-font-color1, white)));\n",
              "    --sklearn-color-icon: #878787;\n",
              "  }\n",
              "}\n",
              "\n",
              "#sk-container-id-5 {\n",
              "  color: var(--sklearn-color-text);\n",
              "}\n",
              "\n",
              "#sk-container-id-5 pre {\n",
              "  padding: 0;\n",
              "}\n",
              "\n",
              "#sk-container-id-5 input.sk-hidden--visually {\n",
              "  border: 0;\n",
              "  clip: rect(1px 1px 1px 1px);\n",
              "  clip: rect(1px, 1px, 1px, 1px);\n",
              "  height: 1px;\n",
              "  margin: -1px;\n",
              "  overflow: hidden;\n",
              "  padding: 0;\n",
              "  position: absolute;\n",
              "  width: 1px;\n",
              "}\n",
              "\n",
              "#sk-container-id-5 div.sk-dashed-wrapped {\n",
              "  border: 1px dashed var(--sklearn-color-line);\n",
              "  margin: 0 0.4em 0.5em 0.4em;\n",
              "  box-sizing: border-box;\n",
              "  padding-bottom: 0.4em;\n",
              "  background-color: var(--sklearn-color-background);\n",
              "}\n",
              "\n",
              "#sk-container-id-5 div.sk-container {\n",
              "  /* jupyter's `normalize.less` sets `[hidden] { display: none; }`\n",
              "     but bootstrap.min.css set `[hidden] { display: none !important; }`\n",
              "     so we also need the `!important` here to be able to override the\n",
              "     default hidden behavior on the sphinx rendered scikit-learn.org.\n",
              "     See: https://github.com/scikit-learn/scikit-learn/issues/21755 */\n",
              "  display: inline-block !important;\n",
              "  position: relative;\n",
              "}\n",
              "\n",
              "#sk-container-id-5 div.sk-text-repr-fallback {\n",
              "  display: none;\n",
              "}\n",
              "\n",
              "div.sk-parallel-item,\n",
              "div.sk-serial,\n",
              "div.sk-item {\n",
              "  /* draw centered vertical line to link estimators */\n",
              "  background-image: linear-gradient(var(--sklearn-color-text-on-default-background), var(--sklearn-color-text-on-default-background));\n",
              "  background-size: 2px 100%;\n",
              "  background-repeat: no-repeat;\n",
              "  background-position: center center;\n",
              "}\n",
              "\n",
              "/* Parallel-specific style estimator block */\n",
              "\n",
              "#sk-container-id-5 div.sk-parallel-item::after {\n",
              "  content: \"\";\n",
              "  width: 100%;\n",
              "  border-bottom: 2px solid var(--sklearn-color-text-on-default-background);\n",
              "  flex-grow: 1;\n",
              "}\n",
              "\n",
              "#sk-container-id-5 div.sk-parallel {\n",
              "  display: flex;\n",
              "  align-items: stretch;\n",
              "  justify-content: center;\n",
              "  background-color: var(--sklearn-color-background);\n",
              "  position: relative;\n",
              "}\n",
              "\n",
              "#sk-container-id-5 div.sk-parallel-item {\n",
              "  display: flex;\n",
              "  flex-direction: column;\n",
              "}\n",
              "\n",
              "#sk-container-id-5 div.sk-parallel-item:first-child::after {\n",
              "  align-self: flex-end;\n",
              "  width: 50%;\n",
              "}\n",
              "\n",
              "#sk-container-id-5 div.sk-parallel-item:last-child::after {\n",
              "  align-self: flex-start;\n",
              "  width: 50%;\n",
              "}\n",
              "\n",
              "#sk-container-id-5 div.sk-parallel-item:only-child::after {\n",
              "  width: 0;\n",
              "}\n",
              "\n",
              "/* Serial-specific style estimator block */\n",
              "\n",
              "#sk-container-id-5 div.sk-serial {\n",
              "  display: flex;\n",
              "  flex-direction: column;\n",
              "  align-items: center;\n",
              "  background-color: var(--sklearn-color-background);\n",
              "  padding-right: 1em;\n",
              "  padding-left: 1em;\n",
              "}\n",
              "\n",
              "\n",
              "/* Toggleable style: style used for estimator/Pipeline/ColumnTransformer box that is\n",
              "clickable and can be expanded/collapsed.\n",
              "- Pipeline and ColumnTransformer use this feature and define the default style\n",
              "- Estimators will overwrite some part of the style using the `sk-estimator` class\n",
              "*/\n",
              "\n",
              "/* Pipeline and ColumnTransformer style (default) */\n",
              "\n",
              "#sk-container-id-5 div.sk-toggleable {\n",
              "  /* Default theme specific background. It is overwritten whether we have a\n",
              "  specific estimator or a Pipeline/ColumnTransformer */\n",
              "  background-color: var(--sklearn-color-background);\n",
              "}\n",
              "\n",
              "/* Toggleable label */\n",
              "#sk-container-id-5 label.sk-toggleable__label {\n",
              "  cursor: pointer;\n",
              "  display: flex;\n",
              "  width: 100%;\n",
              "  margin-bottom: 0;\n",
              "  padding: 0.5em;\n",
              "  box-sizing: border-box;\n",
              "  text-align: center;\n",
              "  align-items: start;\n",
              "  justify-content: space-between;\n",
              "  gap: 0.5em;\n",
              "}\n",
              "\n",
              "#sk-container-id-5 label.sk-toggleable__label .caption {\n",
              "  font-size: 0.6rem;\n",
              "  font-weight: lighter;\n",
              "  color: var(--sklearn-color-text-muted);\n",
              "}\n",
              "\n",
              "#sk-container-id-5 label.sk-toggleable__label-arrow:before {\n",
              "  /* Arrow on the left of the label */\n",
              "  content: \"▸\";\n",
              "  float: left;\n",
              "  margin-right: 0.25em;\n",
              "  color: var(--sklearn-color-icon);\n",
              "}\n",
              "\n",
              "#sk-container-id-5 label.sk-toggleable__label-arrow:hover:before {\n",
              "  color: var(--sklearn-color-text);\n",
              "}\n",
              "\n",
              "/* Toggleable content - dropdown */\n",
              "\n",
              "#sk-container-id-5 div.sk-toggleable__content {\n",
              "  max-height: 0;\n",
              "  max-width: 0;\n",
              "  overflow: hidden;\n",
              "  text-align: left;\n",
              "  /* unfitted */\n",
              "  background-color: var(--sklearn-color-unfitted-level-0);\n",
              "}\n",
              "\n",
              "#sk-container-id-5 div.sk-toggleable__content.fitted {\n",
              "  /* fitted */\n",
              "  background-color: var(--sklearn-color-fitted-level-0);\n",
              "}\n",
              "\n",
              "#sk-container-id-5 div.sk-toggleable__content pre {\n",
              "  margin: 0.2em;\n",
              "  border-radius: 0.25em;\n",
              "  color: var(--sklearn-color-text);\n",
              "  /* unfitted */\n",
              "  background-color: var(--sklearn-color-unfitted-level-0);\n",
              "}\n",
              "\n",
              "#sk-container-id-5 div.sk-toggleable__content.fitted pre {\n",
              "  /* unfitted */\n",
              "  background-color: var(--sklearn-color-fitted-level-0);\n",
              "}\n",
              "\n",
              "#sk-container-id-5 input.sk-toggleable__control:checked~div.sk-toggleable__content {\n",
              "  /* Expand drop-down */\n",
              "  max-height: 200px;\n",
              "  max-width: 100%;\n",
              "  overflow: auto;\n",
              "}\n",
              "\n",
              "#sk-container-id-5 input.sk-toggleable__control:checked~label.sk-toggleable__label-arrow:before {\n",
              "  content: \"▾\";\n",
              "}\n",
              "\n",
              "/* Pipeline/ColumnTransformer-specific style */\n",
              "\n",
              "#sk-container-id-5 div.sk-label input.sk-toggleable__control:checked~label.sk-toggleable__label {\n",
              "  color: var(--sklearn-color-text);\n",
              "  background-color: var(--sklearn-color-unfitted-level-2);\n",
              "}\n",
              "\n",
              "#sk-container-id-5 div.sk-label.fitted input.sk-toggleable__control:checked~label.sk-toggleable__label {\n",
              "  background-color: var(--sklearn-color-fitted-level-2);\n",
              "}\n",
              "\n",
              "/* Estimator-specific style */\n",
              "\n",
              "/* Colorize estimator box */\n",
              "#sk-container-id-5 div.sk-estimator input.sk-toggleable__control:checked~label.sk-toggleable__label {\n",
              "  /* unfitted */\n",
              "  background-color: var(--sklearn-color-unfitted-level-2);\n",
              "}\n",
              "\n",
              "#sk-container-id-5 div.sk-estimator.fitted input.sk-toggleable__control:checked~label.sk-toggleable__label {\n",
              "  /* fitted */\n",
              "  background-color: var(--sklearn-color-fitted-level-2);\n",
              "}\n",
              "\n",
              "#sk-container-id-5 div.sk-label label.sk-toggleable__label,\n",
              "#sk-container-id-5 div.sk-label label {\n",
              "  /* The background is the default theme color */\n",
              "  color: var(--sklearn-color-text-on-default-background);\n",
              "}\n",
              "\n",
              "/* On hover, darken the color of the background */\n",
              "#sk-container-id-5 div.sk-label:hover label.sk-toggleable__label {\n",
              "  color: var(--sklearn-color-text);\n",
              "  background-color: var(--sklearn-color-unfitted-level-2);\n",
              "}\n",
              "\n",
              "/* Label box, darken color on hover, fitted */\n",
              "#sk-container-id-5 div.sk-label.fitted:hover label.sk-toggleable__label.fitted {\n",
              "  color: var(--sklearn-color-text);\n",
              "  background-color: var(--sklearn-color-fitted-level-2);\n",
              "}\n",
              "\n",
              "/* Estimator label */\n",
              "\n",
              "#sk-container-id-5 div.sk-label label {\n",
              "  font-family: monospace;\n",
              "  font-weight: bold;\n",
              "  display: inline-block;\n",
              "  line-height: 1.2em;\n",
              "}\n",
              "\n",
              "#sk-container-id-5 div.sk-label-container {\n",
              "  text-align: center;\n",
              "}\n",
              "\n",
              "/* Estimator-specific */\n",
              "#sk-container-id-5 div.sk-estimator {\n",
              "  font-family: monospace;\n",
              "  border: 1px dotted var(--sklearn-color-border-box);\n",
              "  border-radius: 0.25em;\n",
              "  box-sizing: border-box;\n",
              "  margin-bottom: 0.5em;\n",
              "  /* unfitted */\n",
              "  background-color: var(--sklearn-color-unfitted-level-0);\n",
              "}\n",
              "\n",
              "#sk-container-id-5 div.sk-estimator.fitted {\n",
              "  /* fitted */\n",
              "  background-color: var(--sklearn-color-fitted-level-0);\n",
              "}\n",
              "\n",
              "/* on hover */\n",
              "#sk-container-id-5 div.sk-estimator:hover {\n",
              "  /* unfitted */\n",
              "  background-color: var(--sklearn-color-unfitted-level-2);\n",
              "}\n",
              "\n",
              "#sk-container-id-5 div.sk-estimator.fitted:hover {\n",
              "  /* fitted */\n",
              "  background-color: var(--sklearn-color-fitted-level-2);\n",
              "}\n",
              "\n",
              "/* Specification for estimator info (e.g. \"i\" and \"?\") */\n",
              "\n",
              "/* Common style for \"i\" and \"?\" */\n",
              "\n",
              ".sk-estimator-doc-link,\n",
              "a:link.sk-estimator-doc-link,\n",
              "a:visited.sk-estimator-doc-link {\n",
              "  float: right;\n",
              "  font-size: smaller;\n",
              "  line-height: 1em;\n",
              "  font-family: monospace;\n",
              "  background-color: var(--sklearn-color-background);\n",
              "  border-radius: 1em;\n",
              "  height: 1em;\n",
              "  width: 1em;\n",
              "  text-decoration: none !important;\n",
              "  margin-left: 0.5em;\n",
              "  text-align: center;\n",
              "  /* unfitted */\n",
              "  border: var(--sklearn-color-unfitted-level-1) 1pt solid;\n",
              "  color: var(--sklearn-color-unfitted-level-1);\n",
              "}\n",
              "\n",
              ".sk-estimator-doc-link.fitted,\n",
              "a:link.sk-estimator-doc-link.fitted,\n",
              "a:visited.sk-estimator-doc-link.fitted {\n",
              "  /* fitted */\n",
              "  border: var(--sklearn-color-fitted-level-1) 1pt solid;\n",
              "  color: var(--sklearn-color-fitted-level-1);\n",
              "}\n",
              "\n",
              "/* On hover */\n",
              "div.sk-estimator:hover .sk-estimator-doc-link:hover,\n",
              ".sk-estimator-doc-link:hover,\n",
              "div.sk-label-container:hover .sk-estimator-doc-link:hover,\n",
              ".sk-estimator-doc-link:hover {\n",
              "  /* unfitted */\n",
              "  background-color: var(--sklearn-color-unfitted-level-3);\n",
              "  color: var(--sklearn-color-background);\n",
              "  text-decoration: none;\n",
              "}\n",
              "\n",
              "div.sk-estimator.fitted:hover .sk-estimator-doc-link.fitted:hover,\n",
              ".sk-estimator-doc-link.fitted:hover,\n",
              "div.sk-label-container:hover .sk-estimator-doc-link.fitted:hover,\n",
              ".sk-estimator-doc-link.fitted:hover {\n",
              "  /* fitted */\n",
              "  background-color: var(--sklearn-color-fitted-level-3);\n",
              "  color: var(--sklearn-color-background);\n",
              "  text-decoration: none;\n",
              "}\n",
              "\n",
              "/* Span, style for the box shown on hovering the info icon */\n",
              ".sk-estimator-doc-link span {\n",
              "  display: none;\n",
              "  z-index: 9999;\n",
              "  position: relative;\n",
              "  font-weight: normal;\n",
              "  right: .2ex;\n",
              "  padding: .5ex;\n",
              "  margin: .5ex;\n",
              "  width: min-content;\n",
              "  min-width: 20ex;\n",
              "  max-width: 50ex;\n",
              "  color: var(--sklearn-color-text);\n",
              "  box-shadow: 2pt 2pt 4pt #999;\n",
              "  /* unfitted */\n",
              "  background: var(--sklearn-color-unfitted-level-0);\n",
              "  border: .5pt solid var(--sklearn-color-unfitted-level-3);\n",
              "}\n",
              "\n",
              ".sk-estimator-doc-link.fitted span {\n",
              "  /* fitted */\n",
              "  background: var(--sklearn-color-fitted-level-0);\n",
              "  border: var(--sklearn-color-fitted-level-3);\n",
              "}\n",
              "\n",
              ".sk-estimator-doc-link:hover span {\n",
              "  display: block;\n",
              "}\n",
              "\n",
              "/* \"?\"-specific style due to the `<a>` HTML tag */\n",
              "\n",
              "#sk-container-id-5 a.estimator_doc_link {\n",
              "  float: right;\n",
              "  font-size: 1rem;\n",
              "  line-height: 1em;\n",
              "  font-family: monospace;\n",
              "  background-color: var(--sklearn-color-background);\n",
              "  border-radius: 1rem;\n",
              "  height: 1rem;\n",
              "  width: 1rem;\n",
              "  text-decoration: none;\n",
              "  /* unfitted */\n",
              "  color: var(--sklearn-color-unfitted-level-1);\n",
              "  border: var(--sklearn-color-unfitted-level-1) 1pt solid;\n",
              "}\n",
              "\n",
              "#sk-container-id-5 a.estimator_doc_link.fitted {\n",
              "  /* fitted */\n",
              "  border: var(--sklearn-color-fitted-level-1) 1pt solid;\n",
              "  color: var(--sklearn-color-fitted-level-1);\n",
              "}\n",
              "\n",
              "/* On hover */\n",
              "#sk-container-id-5 a.estimator_doc_link:hover {\n",
              "  /* unfitted */\n",
              "  background-color: var(--sklearn-color-unfitted-level-3);\n",
              "  color: var(--sklearn-color-background);\n",
              "  text-decoration: none;\n",
              "}\n",
              "\n",
              "#sk-container-id-5 a.estimator_doc_link.fitted:hover {\n",
              "  /* fitted */\n",
              "  background-color: var(--sklearn-color-fitted-level-3);\n",
              "}\n",
              "</style><div id=\"sk-container-id-5\" class=\"sk-top-container\"><div class=\"sk-text-repr-fallback\"><pre>GridSearchCV(cv=StratifiedKFold(n_splits=5, random_state=12345, shuffle=True),\n",
              "             estimator=RandomForestClassifier(random_state=12345), n_jobs=-1,\n",
              "             param_grid={&#x27;class_weight&#x27;: [None, &#x27;balanced&#x27;],\n",
              "                         &#x27;max_depth&#x27;: [3, 5, 10],\n",
              "                         &#x27;n_estimators&#x27;: [50, 100, 150]},\n",
              "             scoring=&#x27;f1&#x27;, verbose=2)</pre><b>In a Jupyter environment, please rerun this cell to show the HTML representation or trust the notebook. <br />On GitHub, the HTML representation is unable to render, please try loading this page with nbviewer.org.</b></div><div class=\"sk-container\" hidden><div class=\"sk-item sk-dashed-wrapped\"><div class=\"sk-label-container\"><div class=\"sk-label fitted sk-toggleable\"><input class=\"sk-toggleable__control sk-hidden--visually\" id=\"sk-estimator-id-5\" type=\"checkbox\" ><label for=\"sk-estimator-id-5\" class=\"sk-toggleable__label fitted sk-toggleable__label-arrow\"><div><div>GridSearchCV</div></div><div><a class=\"sk-estimator-doc-link fitted\" rel=\"noreferrer\" target=\"_blank\" href=\"https://scikit-learn.org/1.6/modules/generated/sklearn.model_selection.GridSearchCV.html\">?<span>Documentation for GridSearchCV</span></a><span class=\"sk-estimator-doc-link fitted\">i<span>Fitted</span></span></div></label><div class=\"sk-toggleable__content fitted\"><pre>GridSearchCV(cv=StratifiedKFold(n_splits=5, random_state=12345, shuffle=True),\n",
              "             estimator=RandomForestClassifier(random_state=12345), n_jobs=-1,\n",
              "             param_grid={&#x27;class_weight&#x27;: [None, &#x27;balanced&#x27;],\n",
              "                         &#x27;max_depth&#x27;: [3, 5, 10],\n",
              "                         &#x27;n_estimators&#x27;: [50, 100, 150]},\n",
              "             scoring=&#x27;f1&#x27;, verbose=2)</pre></div> </div></div><div class=\"sk-parallel\"><div class=\"sk-parallel-item\"><div class=\"sk-item\"><div class=\"sk-label-container\"><div class=\"sk-label fitted sk-toggleable\"><input class=\"sk-toggleable__control sk-hidden--visually\" id=\"sk-estimator-id-6\" type=\"checkbox\" ><label for=\"sk-estimator-id-6\" class=\"sk-toggleable__label fitted sk-toggleable__label-arrow\"><div><div>best_estimator_: RandomForestClassifier</div></div></label><div class=\"sk-toggleable__content fitted\"><pre>RandomForestClassifier(class_weight=&#x27;balanced&#x27;, max_depth=10, n_estimators=50,\n",
              "                       random_state=12345)</pre></div> </div></div><div class=\"sk-serial\"><div class=\"sk-item\"><div class=\"sk-estimator fitted sk-toggleable\"><input class=\"sk-toggleable__control sk-hidden--visually\" id=\"sk-estimator-id-7\" type=\"checkbox\" ><label for=\"sk-estimator-id-7\" class=\"sk-toggleable__label fitted sk-toggleable__label-arrow\"><div><div>RandomForestClassifier</div></div><div><a class=\"sk-estimator-doc-link fitted\" rel=\"noreferrer\" target=\"_blank\" href=\"https://scikit-learn.org/1.6/modules/generated/sklearn.ensemble.RandomForestClassifier.html\">?<span>Documentation for RandomForestClassifier</span></a></div></label><div class=\"sk-toggleable__content fitted\"><pre>RandomForestClassifier(class_weight=&#x27;balanced&#x27;, max_depth=10, n_estimators=50,\n",
              "                       random_state=12345)</pre></div> </div></div></div></div></div></div></div></div></div>"
            ]
          },
          "metadata": {},
          "execution_count": 108
        }
      ]
    },
    {
      "cell_type": "markdown",
      "source": [
        "Now, using the metric that you chose to optimize, calculate the score on the test set use the best model."
      ],
      "metadata": {
        "id": "k4NVjtZlibgt"
      }
    },
    {
      "cell_type": "code",
      "source": [
        "# TODO: Compute the score on the testing set using the best model\n",
        "best_rf_model = search.best_estimator_\n",
        "best_rf_y_pred_test = best_rf_model.predict(X_test)\n",
        "search_score =f1_score(y_test, best_rf_y_pred_test)\n",
        "\n",
        "# DO NOT CHANGE ----------------------------------------------------------------\n",
        "print(f'The best Random Forest model has hyperparameters {search.best_params_}')\n",
        "print(f'The best model achieves an average cross-validation score of {search.best_score_*100:.2f}%')\n",
        "print(f'The best model achieves a {scoring} score of {search_score*100:.2f}% on the testing data')\n",
        "# DO NOT CHANGE ----------------------------------------------------------------"
      ],
      "metadata": {
        "id": "Yiyt2MfriZoO",
        "colab": {
          "base_uri": "https://localhost:8080/"
        },
        "outputId": "24b3dad1-d151-4efd-c454-b85d5826c171"
      },
      "execution_count": 109,
      "outputs": [
        {
          "output_type": "stream",
          "name": "stdout",
          "text": [
            "The best Random Forest model has hyperparameters {'class_weight': 'balanced', 'max_depth': 10, 'n_estimators': 50}\n",
            "The best model achieves an average cross-validation score of 48.57%\n",
            "The best model achieves a f1 score of 48.62% on the testing data\n"
          ]
        }
      ]
    },
    {
      "cell_type": "code",
      "source": [
        "# Grader Cell (4 points)\n",
        "grader.grade(test_case_id='tune_result_rf', answer=(search.best_params_, search_score))"
      ],
      "metadata": {
        "id": "NFpa8HVciffa",
        "colab": {
          "base_uri": "https://localhost:8080/"
        },
        "outputId": "22b17040-3720-4b9e-f411-6011863100d9"
      },
      "execution_count": 110,
      "outputs": [
        {
          "output_type": "stream",
          "name": "stdout",
          "text": [
            "Correct! You earned 4/4 points. You are a star!\n",
            "\n",
            "Your submission has been successfully recorded in the gradebook.\n"
          ]
        }
      ]
    },
    {
      "cell_type": "markdown",
      "source": [
        "# HW Submission\n",
        "\n",
        "Before you submit on Gradescope (you must submit your notebook to receive credit):\n",
        "\n",
        "\n",
        "1.   Restart and Run-All to make sure there's nothing wrong with your notebook\n",
        "2.   **Double check that you have the correct PennID (all numbers) in the autograder**.\n",
        "3. Make sure you've run all the PennGrader cells\n",
        "4. Go to the \"File\" tab at the top left, and download both the .ipynb and .py files, renaming them as \"homework3.ipynb\" and \"homework3.py\" respectively. Upload both files to Gradescope directly!\n",
        "5. Check your .ipynb file is visible under the code tab. If there is a \"large file hiddden\" error go back and delete all occurances of printing an entire df, and/or make your figure sizes smaller, then resubmit. Then confirm the notebook preview is now visible in your Gradescope submission.\n",
        "\n",
        "**You MUST check that your notebook displays ALL visualizations on the Gradescope preview AND verify that the autograder finishes running and gives you your expected score (not a 0).**\n",
        "\n",
        "**Let the course staff know ASAP if you have any issues submitting, but otherwise best of luck! Congrats on finishing the HW.**"
      ],
      "metadata": {
        "id": "IQ_emJgKitPY"
      }
    }
  ]
}